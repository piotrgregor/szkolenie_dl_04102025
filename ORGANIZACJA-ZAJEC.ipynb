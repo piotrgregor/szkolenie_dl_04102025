{
 "cells": [
  {
   "cell_type": "markdown",
   "id": "26e738e4-9ab2-4552-b045-acc5f901378f",
   "metadata": {},
   "source": [
    "## Organizacja zajęć (9:00–17:00)\n",
    "\n",
    "* **09:00–10:30** – Praca\n",
    "* **10:30–10:45** – **Przerwa kawowa**\n",
    "* **10:45–12:15** – Praca\n",
    "* **12:15–13:15** – **Przerwa obiadowa**\n",
    "* **13:15–14:45** – Praca\n",
    "* **14:45–15:00** – **Przerwa krótka**\n",
    "* **15:00–17:00** – Praca\n",
    "\n",
    "\n"
   ]
  },
  {
   "cell_type": "code",
   "execution_count": null,
   "id": "a8071b67-93d1-4005-8454-429eafa4df12",
   "metadata": {},
   "outputs": [],
   "source": [
    "15:27"
   ]
  }
 ],
 "metadata": {
  "kernelspec": {
   "display_name": "Python 3 (ipykernel)",
   "language": "python",
   "name": "python3"
  },
  "language_info": {
   "codemirror_mode": {
    "name": "ipython",
    "version": 3
   },
   "file_extension": ".py",
   "mimetype": "text/x-python",
   "name": "python",
   "nbconvert_exporter": "python",
   "pygments_lexer": "ipython3",
   "version": "3.12.9"
  }
 },
 "nbformat": 4,
 "nbformat_minor": 5
}
