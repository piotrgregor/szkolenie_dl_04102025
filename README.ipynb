{
 "cells": [
  {
   "cell_type": "markdown",
   "id": "0fccf189-805d-4dac-a714-98adc9aa717e",
   "metadata": {},
   "source": [
    "# README\n",
    "\n",
    "\n",
    "## Markdown\n",
    "\n",
    "* a\n",
    "* b"
   ]
  },
  {
   "cell_type": "code",
   "execution_count": 4,
   "id": "d5211d11-d211-4b12-b35f-faee94553891",
   "metadata": {},
   "outputs": [],
   "source": [
    "x = 1\n",
    "y = 2"
   ]
  },
  {
   "cell_type": "code",
   "execution_count": 5,
   "id": "cb36d58b-fce3-49bb-a196-b55172f53eea",
   "metadata": {},
   "outputs": [
    {
     "name": "stdout",
     "output_type": "stream",
     "text": [
      "3\n"
     ]
    }
   ],
   "source": [
    "print(x + y)"
   ]
  },
  {
   "cell_type": "code",
   "execution_count": 3,
   "id": "f6dbde28-02cb-42ed-9066-46266d128e95",
   "metadata": {},
   "outputs": [],
   "source": [
    "x = 10"
   ]
  },
  {
   "cell_type": "code",
   "execution_count": 6,
   "id": "3bff9bbc-351b-423a-bb94-c1364c8e6d72",
   "metadata": {},
   "outputs": [
    {
     "data": {
      "text/plain": [
       "3"
      ]
     },
     "execution_count": 6,
     "metadata": {},
     "output_type": "execute_result"
    }
   ],
   "source": [
    "x + y"
   ]
  },
  {
   "cell_type": "code",
   "execution_count": 7,
   "id": "08c7b9a7-4b54-4d11-88e8-0e25abd7a22e",
   "metadata": {},
   "outputs": [
    {
     "name": "stdout",
     "output_type": "stream",
     "text": [
      "\u001b[34mKURSANT\u001b[m\u001b[m                 pyproject.toml          \u001b[34mZAJECIA\u001b[m\u001b[m\n",
      "\u001b[34mMATERIALY\u001b[m\u001b[m               README.ipynb\n",
      "ORGANIZACJA-ZAJEC.ipynb uv.lock\n"
     ]
    }
   ],
   "source": [
    "!ls"
   ]
  },
  {
   "cell_type": "code",
   "execution_count": 9,
   "id": "56c28f90-3810-4262-a7dd-72f975570a66",
   "metadata": {},
   "outputs": [
    {
     "name": "stdout",
     "output_type": "stream",
     "text": [
      "Writing hello.py\n"
     ]
    }
   ],
   "source": [
    "%%writefile hello.py\n",
    "\n",
    "print(\"hello Python\")"
   ]
  },
  {
   "cell_type": "code",
   "execution_count": 10,
   "id": "9b9b8d4b-ce2b-4cc8-a4f8-4a765d83d3cb",
   "metadata": {},
   "outputs": [
    {
     "name": "stdout",
     "output_type": "stream",
     "text": [
      "hello Python\n"
     ]
    }
   ],
   "source": [
    "!python hello.py"
   ]
  },
  {
   "cell_type": "code",
   "execution_count": 14,
   "id": "0c7da542-799b-46a3-b3cb-876a90f4afa7",
   "metadata": {},
   "outputs": [],
   "source": [
    "# %load hello.py\n",
    "\n",
    "print(\"hello Python\")\n"
   ]
  },
  {
   "cell_type": "code",
   "execution_count": null,
   "id": "bfa39c7c-d694-4fc3-9735-67c143f472d8",
   "metadata": {},
   "outputs": [],
   "source": []
  }
 ],
 "metadata": {
  "kernelspec": {
   "display_name": "Python 3 (ipykernel)",
   "language": "python",
   "name": "python3"
  },
  "language_info": {
   "codemirror_mode": {
    "name": "ipython",
    "version": 3
   },
   "file_extension": ".py",
   "mimetype": "text/x-python",
   "name": "python",
   "nbconvert_exporter": "python",
   "pygments_lexer": "ipython3",
   "version": "3.12.9"
  }
 },
 "nbformat": 4,
 "nbformat_minor": 5
}
