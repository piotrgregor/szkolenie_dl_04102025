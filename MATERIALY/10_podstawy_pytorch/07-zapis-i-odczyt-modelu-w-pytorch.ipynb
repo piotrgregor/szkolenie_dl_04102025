{
 "cells": [
  {
   "cell_type": "markdown",
   "id": "a4c0f586",
   "metadata": {},
   "source": [
    "# Zapisywanie i wczytywanie modeli w PyTorch\n",
    "\n",
    "Ten przykład pokazuje kompletny przepływ pracy: tworzymy prostą sieć neuronową w PyTorch, trenujemy ją na syntetycznych danych, zapisujemy na dysku, a następnie wczytujemy i wykorzystujemy do predykcji."
   ]
  },
  {
   "cell_type": "markdown",
   "id": "391971d8",
   "metadata": {},
   "source": [
    "## 1. Importy i przygotowanie danych\n",
    "Zaczynamy od importu bibliotek oraz przygotowania niewielkiego zbioru danych do regresji liniowej."
   ]
  },
  {
   "cell_type": "code",
   "execution_count": 1,
   "id": "55d5c650",
   "metadata": {},
   "outputs": [],
   "source": [
    "import torch\n",
    "from torch import nn, optim\n",
    "import numpy as np\n",
    "import matplotlib.pyplot as plt\n",
    "\n",
    "# Ustawienie ziaren losowych\n",
    "torch.manual_seed(42)\n",
    "np.random.seed(42)\n",
    "\n",
    "# Dane wejściowe (x) i wyjściowe (y)\n",
    "x = np.linspace(-1, 1, 200)\n",
    "y = 3 * x + 2 + np.random.normal(0, 0.2, size=x.shape)\n",
    "\n",
    "x_tensor = torch.tensor(x, dtype=torch.float32).unsqueeze(1)\n",
    "y_tensor = torch.tensor(y, dtype=torch.float32).unsqueeze(1)\n"
   ]
  },
  {
   "cell_type": "markdown",
   "id": "d1cc17e8",
   "metadata": {},
   "source": [
    "## 2. Definicja modelu\n",
    "Tworzymy prosty model sekwencyjny składający się z jednej warstwy liniowej."
   ]
  },
  {
   "cell_type": "code",
   "execution_count": 2,
   "id": "2f5598c2",
   "metadata": {},
   "outputs": [
    {
     "data": {
      "text/plain": [
       "SimpleRegressor(\n",
       "  (net): Sequential(\n",
       "    (0): Linear(in_features=1, out_features=1, bias=True)\n",
       "  )\n",
       ")"
      ]
     },
     "execution_count": 2,
     "metadata": {},
     "output_type": "execute_result"
    }
   ],
   "source": [
    "class SimpleRegressor(nn.Module):\n",
    "    def __init__(self):\n",
    "        super().__init__()\n",
    "        self.net = nn.Sequential(\n",
    "            nn.Linear(1, 1)\n",
    "        )\n",
    "\n",
    "    def forward(self, inputs):\n",
    "        return self.net(inputs)\n",
    "\n",
    "model = SimpleRegressor()\n",
    "model\n"
   ]
  },
  {
   "cell_type": "markdown",
   "id": "b2a518da",
   "metadata": {},
   "source": [
    "## 3. Trening modelu\n",
    "Trenujemy model przez kilkaset epok, zapisując przebieg straty do wizualizacji."
   ]
  },
  {
   "cell_type": "code",
   "execution_count": 3,
   "id": "c0a4e64c",
   "metadata": {},
   "outputs": [
    {
     "data": {
      "image/png": "[encoded data removed]",
      "text/plain": [
       "<Figure size 640x480 with 1 Axes>"
      ]
     },
     "metadata": {},
     "output_type": "display_data"
    }
   ],
   "source": [
    "criterion = nn.MSELoss()\n",
    "optimizer = optim.Adam(model.parameters(), lr=0.05)\n",
    "loss_history = []\n",
    "\n",
    "for epoch in range(300):\n",
    "    model.train()\n",
    "    optimizer.zero_grad()\n",
    "    predictions = model(x_tensor)\n",
    "    loss = criterion(predictions, y_tensor)\n",
    "    loss.backward()\n",
    "    optimizer.step()\n",
    "    loss_history.append(loss.item())\n",
    "\n",
    "plt.plot(loss_history)\n",
    "plt.title('Loss podczas treningu')\n",
    "plt.xlabel('Epoka')\n",
    "plt.ylabel('Loss')\n",
    "plt.show()\n"
   ]
  },
  {
   "cell_type": "markdown",
   "id": "bbdd3e28",
   "metadata": {},
   "source": [
    "## 4. Zapis modelu\n",
    "W PyTorch najczęściej zapisujemy tylko `state_dict`, czyli słownik parametrów. Dla pełni obrazu zapisujemy także cały model."
   ]
  },
  {
   "cell_type": "code",
   "execution_count": 8,
   "id": "98dd1d93",
   "metadata": {},
   "outputs": [
    {
     "name": "stdout",
     "output_type": "stream",
     "text": [
      "Zapisano state_dict do: simple_regressor.pt\n",
      "Zapisano pełny model do: simple_regressor_full.pth\n"
     ]
    }
   ],
   "source": [
    "state_dict_path = 'simple_regressor.pt'\n",
    "\n",
    "torch.save(model.state_dict(), state_dict_path)\n",
    "torch.save(model, full_model_path)\n",
    "\n",
    "print('Zapisano state_dict do:', state_dict_path)\n",
    "print('Zapisano pełny model do:', full_model_path)\n"
   ]
  },
  {
   "cell_type": "markdown",
   "id": "0014f6d2",
   "metadata": {},
   "source": [
    "## 5. Wczytanie modelu\n",
    "Pokazujemy dwa warianty: wczytanie `state_dict` do świeżej instancji klasy oraz załadowanie pełnego modelu."
   ]
  },
  {
   "cell_type": "code",
   "execution_count": 9,
   "id": "cb7b038f",
   "metadata": {},
   "outputs": [
    {
     "data": {
      "text/plain": [
       "SimpleRegressor(\n",
       "  (net): Sequential(\n",
       "    (0): Linear(in_features=1, out_features=1, bias=True)\n",
       "  )\n",
       ")"
      ]
     },
     "execution_count": 9,
     "metadata": {},
     "output_type": "execute_result"
    }
   ],
   "source": [
    "# Wczytanie state_dict\n",
    "loaded_model = SimpleRegressor()\n",
    "loaded_model.load_state_dict(torch.load(state_dict_path))\n",
    "loaded_model.eval()\n",
    "\n",
    "# # Wczytanie pełnego modelu\n",
    "# loaded_full_model = torch.load(full_model_path)\n",
    "# loaded_full_model.eval()\n"
   ]
  },
  {
   "cell_type": "markdown",
   "id": "c1ac10c1",
   "metadata": {},
   "source": [
    "## 6. Predykcje z wczytanych modeli\n",
    "Używamy wczytanych modeli do predykcji, aby upewnić się, że zachowują się tak samo jak oryginał."
   ]
  },
  {
   "cell_type": "code",
   "execution_count": 11,
   "id": "ea29a712",
   "metadata": {},
   "outputs": [
    {
     "name": "stdout",
     "output_type": "stream",
     "text": [
      "Predykcje (oryginalny model): [0.48044562 1.991846   3.5032463 ]\n",
      "Predykcje (state_dict): [0.48044562 1.991846   3.5032463 ]\n"
     ]
    }
   ],
   "source": [
    "x_test = torch.tensor([[-0.5], [0.0], [0.5]], dtype=torch.float32)\n",
    "\n",
    "with torch.no_grad():\n",
    "    preds_original = model(x_test)\n",
    "    preds_loaded = loaded_model(x_test)\n",
    "    # preds_loaded_full = loaded_full_model(x_test)\n",
    "\n",
    "print('Predykcje (oryginalny model):', preds_original.flatten().numpy())\n",
    "print('Predykcje (state_dict):', preds_loaded.flatten().numpy())\n",
    "# print('Predykcje (pełny model):', preds_loaded_full.flatten().numpy())\n"
   ]
  },
  {
   "cell_type": "markdown",
   "id": "85babfa8",
   "metadata": {},
   "source": [
    "## 7. Porównanie wag\n",
    "Sprawdzamy, czy wagi wczytanych modeli są identyczne z wagami modelu oryginalnego."
   ]
  },
  {
   "cell_type": "code",
   "execution_count": 12,
   "id": "b353f338",
   "metadata": {},
   "outputs": [
    {
     "name": "stdout",
     "output_type": "stream",
     "text": [
      "Czy wagi po wczytaniu state_dict są identyczne? True\n"
     ]
    }
   ],
   "source": [
    "def compare_parameters(model_a, model_b):\n",
    "    return all(torch.allclose(p_a, p_b) for p_a, p_b in zip(model_a.parameters(), model_b.parameters()))\n",
    "\n",
    "print('Czy wagi po wczytaniu state_dict są identyczne?', compare_parameters(model, loaded_model))\n",
    "# print('Czy wagi po wczytaniu pełnego modelu są identyczne?', compare_parameters(model, loaded_full_model))\n"
   ]
  },
  {
   "cell_type": "markdown",
   "id": "6280abc8",
   "metadata": {},
   "source": [
    "## 8. Podsumowanie\n",
    "1. Zbudowaliśmy i wytrenowaliśmy prosty model w PyTorch.\n",
    "2. Zapisaliśmy model jako `state_dict` oraz jako pełny obiekt.\n",
    "3. Wczytaliśmy oba warianty i wykorzystaliśmy je do predykcji.\n",
    "4. Potwierdziliśmy, że parametry po zapisie i odczycie pozostają spójne.\n",
    "\n",
    "W praktyce najczęściej przechowuje się `state_dict`, ponieważ daje większą kontrolę nad konstrukcją modelu podczas ponownego wczytywania."
   ]
  }
 ],
 "metadata": {
  "kernelspec": {
   "display_name": "Python 3 (ipykernel)",
   "language": "python",
   "name": "python3"
  },
  "language_info": {
   "codemirror_mode": {
    "name": "ipython",
    "version": 3
   },
   "file_extension": ".py",
   "mimetype": "text/x-python",
   "name": "python",
   "nbconvert_exporter": "python",
   "pygments_lexer": "ipython3",
   "version": "3.12.9"
  }
 },
 "nbformat": 4,
 "nbformat_minor": 5
}
