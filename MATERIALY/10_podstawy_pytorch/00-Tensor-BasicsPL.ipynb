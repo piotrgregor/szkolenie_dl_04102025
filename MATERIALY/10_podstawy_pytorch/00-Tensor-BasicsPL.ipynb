{
 "cells": [
  {
   "cell_type": "markdown",
   "metadata": {},
   "source": [
    "## PyTorch\n",
    "\n",
    "<img src='https://pytorch.org/wp-content/uploads/2024/10/logo.svg' width=400>\n",
    "\n",
    "https://pytorch.org/\n",
    "\n",
    "**PyTorch** to jedna z najpopularniejszych bibliotek do uczenia maszynowego i głębokiego uczenia (deep learning). Jest napisana w języku **Python** z wydajnym backendem w **C++**. Powstała w 2016 roku w laboratoriach **Facebook AI Research (FAIR)** jako bardziej elastyczna alternatywa dla wcześniejszych frameworków, takich jak Torch czy TensorFlow.\n",
    "\n",
    "### Kluczowe cechy\n",
    "\n",
    "* **Dynamiczne grafy obliczeń** – w przeciwieństwie do starszych bibliotek (np. TensorFlow 1.x), PyTorch buduje graf obliczeń w locie. Ułatwia to debugowanie i eksperymentowanie z modelami.\n",
    "    👉 Czyli w praktyce: dynamiczny graf to taka „tablica wyników”, którą PyTorch tworzy na bieżąco, zapisując jak powstawały kolejne wartości, żeby potem umieć policzyć gradienty do uczenia.\n",
    "* **Autograd** – wbudowany mechanizm automatycznego różniczkowania, który pozwala łatwo liczyć gradienty potrzebne w algorytmach optymalizacji.\n",
    "* **Integracja z ekosystemem Pythona** – PyTorch dobrze współpracuje z bibliotekami naukowymi jak NumPy, SciPy czy scikit-learn.\n",
    "* **Wsparcie GPU** – operacje mogą być łatwo przenoszone na procesory graficzne (CUDA), co znacznie przyspiesza trenowanie dużych sieci neuronowych.\n",
    "\n",
    "### Do czego jest używany?\n",
    "\n",
    "* **Uczenie maszynowe i głębokie uczenie** – budowa sieci neuronowych, trenowanie modeli klasyfikacji, regresji, generatywnych sieci adversarialnych (GAN).\n",
    "* **Wizja komputerowa** – rozpoznawanie obrazów, detekcja obiektów, segmentacja semantyczna (często z wykorzystaniem rozszerzenia **torchvision**).\n",
    "* **Przetwarzanie języka naturalnego (NLP)** – tłumaczenie maszynowe, analiza sentymentu, modele językowe (transformery, LSTM).\n",
    "* **Badania naukowe** – dzięki elastyczności PyTorch jest chętnie wybierany przez środowisko akademickie do testowania nowych architektur.\n",
    "* **Produkcja** – z narzędziami jak **TorchScript** czy **PyTorch Lightning** ułatwia wdrażanie modeli do środowisk produkcyjnych.\n",
    "\n",
    "### Dlaczego zyskał popularność?\n",
    "\n",
    "PyTorch stał się standardem w środowisku badawczym, ponieważ łączy łatwość użycia z dużą mocą obliczeniową. Wiele współczesnych przełomowych modeli AI (np. GPT, BERT, Stable Diffusion) powstało z jego wykorzystaniem.\n",
    "\n",
    "Przygodę z PyTorch zaczniemy od podstaw - czyli pracy z tensorami.\n"
   ]
  },
  {
   "cell_type": "markdown",
   "metadata": {},
   "source": [
    "# Podstawy Tensorów\n",
    "W tej sekcji omówimy:\n",
    "* Konwersję tablic NumPy na tensory PyTorch\n",
    "* Tworzenie tensorów od zera\n",
    "\n",
    "## Wykonaj standardowe importy\n"
   ]
  },
  {
   "cell_type": "code",
   "execution_count": 1,
   "metadata": {
    "ExecuteTime": {
     "end_time": "2025-09-30T16:34:15.883257Z",
     "start_time": "2025-09-30T16:34:14.837757Z"
    }
   },
   "outputs": [],
   "source": [
    "import torch\n",
    "import numpy as np"
   ]
  },
  {
   "cell_type": "markdown",
   "metadata": {},
   "source": [
    "Sprawdźmy wersję PyTorch. Materiały są na 2.8.0"
   ]
  },
  {
   "cell_type": "code",
   "execution_count": 4,
   "metadata": {
    "ExecuteTime": {
     "end_time": "2025-09-30T16:35:02.600453Z",
     "start_time": "2025-09-30T16:35:02.592707Z"
    }
   },
   "outputs": [
    {
     "data": {
      "text/plain": [
       "'2.8.0'"
      ]
     },
     "execution_count": 4,
     "metadata": {},
     "output_type": "execute_result"
    }
   ],
   "source": [
    "torch.__version__"
   ]
  },
  {
   "cell_type": "markdown",
   "metadata": {},
   "source": [
    "## Konwersja tablic NumPy na tensory PyTorch\n",
    "<a href='https://pytorch.org/docs/stable/tensors.html'><strong><tt>torch.Tensor</tt></strong></a> to wielowymiarowa macierz zawierająca elementy jednego typu danych.<br>\n",
    "Obliczenia na tensorach można wykonywać tylko wtedy, gdy mają one ten sam dtype.<br>\n",
    "W niektórych przypadkach tensory zastępują tablice NumPy, aby wykorzystać moc GPU (więcej o tym później).\n"
   ]
  },
  {
   "cell_type": "code",
   "execution_count": 5,
   "metadata": {
    "ExecuteTime": {
     "end_time": "2025-09-30T16:35:03.456420Z",
     "start_time": "2025-09-30T16:35:03.449206Z"
    }
   },
   "outputs": [
    {
     "name": "stdout",
     "output_type": "stream",
     "text": [
      "[1 2 3 4 5]\n",
      "int64\n",
      "<class 'numpy.ndarray'>\n"
     ]
    }
   ],
   "source": [
    "arr = np.array([1,2,3,4,5])\n",
    "print(arr)\n",
    "print(arr.dtype)\n",
    "print(type(arr))"
   ]
  },
  {
   "cell_type": "code",
   "execution_count": 6,
   "metadata": {
    "ExecuteTime": {
     "end_time": "2025-09-30T16:35:03.867791Z",
     "start_time": "2025-09-30T16:35:03.841936Z"
    }
   },
   "outputs": [
    {
     "name": "stdout",
     "output_type": "stream",
     "text": [
      "tensor([1, 2, 3, 4, 5])\n"
     ]
    }
   ],
   "source": [
    "x = torch.from_numpy(arr)\n",
    "# Odpowiada funkcji x = torch.as_tensor(arr)\n",
    "\n",
    "print(x)"
   ]
  },
  {
   "cell_type": "code",
   "execution_count": 7,
   "metadata": {
    "ExecuteTime": {
     "end_time": "2025-09-30T16:35:04.247773Z",
     "start_time": "2025-09-30T16:35:04.245963Z"
    }
   },
   "outputs": [
    {
     "name": "stdout",
     "output_type": "stream",
     "text": [
      "torch.int64\n"
     ]
    }
   ],
   "source": [
    "# Wypisz typ danych przechowywanych przez tensor\n",
    "print(x.dtype)"
   ]
  },
  {
   "cell_type": "code",
   "execution_count": 8,
   "metadata": {
    "ExecuteTime": {
     "end_time": "2025-09-30T16:35:04.619413Z",
     "start_time": "2025-09-30T16:35:04.616237Z"
    }
   },
   "outputs": [
    {
     "name": "stdout",
     "output_type": "stream",
     "text": [
      "<class 'torch.Tensor'>\n",
      "torch.LongTensor\n"
     ]
    }
   ],
   "source": [
    "# Wypisz typ obiektu tensora\n",
    "print(type(x))\n",
    "print(x.type()) # bardziej szczegółowa informacja"
   ]
  },
  {
   "cell_type": "code",
   "execution_count": 9,
   "metadata": {
    "ExecuteTime": {
     "end_time": "2025-09-30T16:35:04.979098Z",
     "start_time": "2025-09-30T16:35:04.976394Z"
    }
   },
   "outputs": [
    {
     "name": "stdout",
     "output_type": "stream",
     "text": [
      "[[ 0.  1.  2.]\n",
      " [ 3.  4.  5.]\n",
      " [ 6.  7.  8.]\n",
      " [ 9. 10. 11.]]\n"
     ]
    }
   ],
   "source": [
    "arr2 = np.arange(0.,12.).reshape(4,3)\n",
    "print(arr2)"
   ]
  },
  {
   "cell_type": "code",
   "execution_count": 10,
   "metadata": {
    "ExecuteTime": {
     "end_time": "2025-09-30T16:35:05.427160Z",
     "start_time": "2025-09-30T16:35:05.392613Z"
    }
   },
   "outputs": [
    {
     "name": "stdout",
     "output_type": "stream",
     "text": [
      "tensor([[ 0.,  1.,  2.],\n",
      "        [ 3.,  4.,  5.],\n",
      "        [ 6.,  7.,  8.],\n",
      "        [ 9., 10., 11.]], dtype=torch.float64)\n",
      "torch.DoubleTensor\n"
     ]
    }
   ],
   "source": [
    "x2 = torch.from_numpy(arr2)\n",
    "print(x2)\n",
    "print(x2.type())"
   ]
  },
  {
   "cell_type": "markdown",
   "metadata": {},
   "source": [
    "Tutaj <tt>torch.DoubleTensor</tt> oznacza 64-bitowe liczby zmiennoprzecinkowe.\n"
   ]
  },
  {
   "cell_type": "markdown",
   "metadata": {},
   "source": [
    "<h2><a href='https://pytorch.org/docs/stable/tensors.html'>Typy danych tensorów</a></h2>\n",
    "<table style=\"display: inline-block\">\n",
    "<tr><th>TYP</th><th>NAZWA</th><th>ODPOWIEDNIK</th><th>TYP TENSORA</th></tr>\n",
    "<tr><td>32-bitowa liczba całkowita (ze znakiem)</td><td>torch.int32</td><td>torch.int</td><td>IntTensor</td></tr>\n",
    "<tr><td>64-bitowa liczba całkowita (ze znakiem)</td><td>torch.int64</td><td>torch.long</td><td>LongTensor</td></tr>\n",
    "<tr><td>16-bitowa liczba całkowita (ze znakiem)</td><td>torch.int16</td><td>torch.short</td><td>ShortTensor</td></tr>\n",
    "<tr><td>32-bitowa liczba zmiennoprzecinkowa</td><td>torch.float32</td><td>torch.float</td><td>FloatTensor</td></tr>\n",
    "<tr><td>64-bitowa liczba zmiennoprzecinkowa</td><td>torch.float64</td><td>torch.double</td><td>DoubleTensor</td></tr>\n",
    "<tr><td>16-bitowa liczba zmiennoprzecinkowa</td><td>torch.float16</td><td>torch.half</td><td>HalfTensor</td></tr>\n",
    "<tr><td>8-bitowa liczba całkowita (ze znakiem)</td><td>torch.int8</td><td></td><td>CharTensor</td></tr>\n",
    "<tr><td>8-bitowa liczba całkowita (bez znaku)</td><td>torch.uint8</td><td></td><td>ByteTensor</td></tr></table>\n"
   ]
  },
  {
   "cell_type": "markdown",
   "metadata": {},
   "source": [
    "## Kopiowanie a współdzielenie pamięci\n"
   ]
  },
  {
   "cell_type": "markdown",
   "metadata": {},
   "source": [
    "<a href='https://pytorch.org/docs/stable/torch.html#torch.from_numpy'><strong><tt>torch.from_numpy()</tt></strong></a><br>\n",
    "<a href='https://pytorch.org/docs/stable/torch.html#torch.as_tensor'><strong><tt>torch.as_tensor()</tt></strong></a><br>\n",
    "<a href='https://pytorch.org/docs/stable/torch.html#torch.tensor'><strong><tt>torch.tensor()</tt></strong></a><br>\n",
    "\n",
    "Istnieje wiele funkcji do <a href='https://pytorch.org/docs/stable/torch.html#creation-ops'>tworzenia tensorów</a>. Przy korzystaniu z <a href='https://pytorch.org/docs/stable/torch.html#torch.from_numpy'><strong><tt>torch.from_numpy()</tt></strong></a> oraz <a href='https://pytorch.org/docs/stable/torch.html#torch.as_tensor'><strong><tt>torch.as_tensor()</tt></strong></a> tensor PyTorch i źródłowa tablica NumPy współdzielą tę samą pamięć. Oznacza to, że zmiany w jednym obiekcie wpływają na drugi. Z kolei funkcja <a href='https://pytorch.org/docs/stable/torch.html#torch.tensor'><strong><tt>torch.tensor()</tt></strong></a> zawsze tworzy kopię.\n"
   ]
  },
  {
   "cell_type": "code",
   "execution_count": 11,
   "metadata": {
    "ExecuteTime": {
     "end_time": "2025-09-30T16:35:26.554511Z",
     "start_time": "2025-09-30T16:35:26.544571Z"
    }
   },
   "outputs": [
    {
     "name": "stdout",
     "output_type": "stream",
     "text": [
      "tensor([0, 1, 2, 3, 4])\n"
     ]
    }
   ],
   "source": [
    "# Korzystając z torch.from_numpy()\n",
    "arr = np.arange(0,5)\n",
    "t = torch.from_numpy(arr)\n",
    "print(t)"
   ]
  },
  {
   "cell_type": "code",
   "execution_count": 12,
   "metadata": {
    "ExecuteTime": {
     "end_time": "2025-09-30T16:35:27.006471Z",
     "start_time": "2025-09-30T16:35:27.003870Z"
    }
   },
   "outputs": [
    {
     "name": "stdout",
     "output_type": "stream",
     "text": [
      "tensor([ 0,  1, 77,  3,  4])\n"
     ]
    }
   ],
   "source": [
    "arr[2]=77\n",
    "print(t)"
   ]
  },
  {
   "cell_type": "code",
   "execution_count": 13,
   "metadata": {
    "ExecuteTime": {
     "end_time": "2025-09-30T16:35:27.407287Z",
     "start_time": "2025-09-30T16:35:27.403808Z"
    }
   },
   "outputs": [
    {
     "name": "stdout",
     "output_type": "stream",
     "text": [
      "tensor([0, 1, 2, 3, 4])\n"
     ]
    }
   ],
   "source": [
    "# Korzystając z torch.tensor()\n",
    "arr = np.arange(0,5)\n",
    "t = torch.tensor(arr)\n",
    "print(t)"
   ]
  },
  {
   "cell_type": "code",
   "execution_count": 14,
   "metadata": {
    "ExecuteTime": {
     "end_time": "2025-09-30T16:35:28.114163Z",
     "start_time": "2025-09-30T16:35:28.111884Z"
    }
   },
   "outputs": [
    {
     "name": "stdout",
     "output_type": "stream",
     "text": [
      "tensor([0, 1, 2, 3, 4])\n"
     ]
    }
   ],
   "source": [
    "arr[2]=77\n",
    "print(t)"
   ]
  },
  {
   "cell_type": "markdown",
   "metadata": {},
   "source": [
    "## Konstruktory klas\n",
    "<a href='https://pytorch.org/docs/stable/tensors.html'><strong><tt>torch.Tensor()</tt></strong></a><br>\n",
    "<a href='https://pytorch.org/docs/stable/tensors.html'><strong><tt>torch.FloatTensor()</tt></strong></a><br>\n",
    "<a href='https://pytorch.org/docs/stable/tensors.html'><strong><tt>torch.LongTensor()</tt></strong></a> itd.<br>\n",
    "\n",
    "Istnieje subtelna różnica między użyciem funkcji fabrykującej <font color=black><tt>torch.tensor(data)</tt></font> a konstruktorem klasy <font color=black><tt>torch.Tensor(data)</tt></font>.<br>\n",
    "Funkcja fabrykująca określa dtype na podstawie danych wejściowych lub przekazanego argumentu dtype.<br>\n",
    "Konstruktor klasy <tt>torch.Tensor()</tt> jest po prostu aliasem <tt>torch.FloatTensor(data)</tt>. Rozważ przykład poniżej:\n"
   ]
  },
  {
   "cell_type": "code",
   "execution_count": 15,
   "metadata": {
    "ExecuteTime": {
     "end_time": "2025-09-30T16:35:32.487528Z",
     "start_time": "2025-09-30T16:35:32.485429Z"
    }
   },
   "outputs": [],
   "source": [
    "data = np.array([1,2,3])"
   ]
  },
  {
   "cell_type": "code",
   "execution_count": 16,
   "metadata": {
    "ExecuteTime": {
     "end_time": "2025-09-30T16:35:36.935406Z",
     "start_time": "2025-09-30T16:35:36.931744Z"
    }
   },
   "outputs": [
    {
     "name": "stdout",
     "output_type": "stream",
     "text": [
      "tensor([1., 2., 3.]) torch.FloatTensor\n"
     ]
    }
   ],
   "source": [
    "a = torch.Tensor(data)  # To samo co cc = torch.FloatTensor(data)\n",
    "print(a, a.type())"
   ]
  },
  {
   "cell_type": "code",
   "execution_count": 17,
   "metadata": {
    "ExecuteTime": {
     "end_time": "2025-09-30T16:35:37.380907Z",
     "start_time": "2025-09-30T16:35:37.378232Z"
    }
   },
   "outputs": [
    {
     "name": "stdout",
     "output_type": "stream",
     "text": [
      "tensor([1, 2, 3]) torch.LongTensor\n"
     ]
    }
   ],
   "source": [
    "b = torch.tensor(data)\n",
    "print(b, b.type())"
   ]
  },
  {
   "cell_type": "code",
   "execution_count": 18,
   "metadata": {
    "ExecuteTime": {
     "end_time": "2025-09-30T16:35:37.800684Z",
     "start_time": "2025-09-30T16:35:37.798464Z"
    }
   },
   "outputs": [
    {
     "name": "stdout",
     "output_type": "stream",
     "text": [
      "tensor([1, 2, 3]) torch.LongTensor\n"
     ]
    }
   ],
   "source": [
    "c = torch.tensor(data, dtype=torch.long)\n",
    "print(c, c.type())"
   ]
  },
  {
   "cell_type": "markdown",
   "metadata": {},
   "source": [
    "## Tworzenie tensorów od zera\n",
    "### Tenseory niezainicjalizowane – <tt>.empty()</tt>\n",
    "<a href='https://pytorch.org/docs/stable/torch.html#torch.empty'><strong><tt>torch.empty()</tt></strong></a> zwraca <em>niezainicjalizowany</em> tensor. Przydzielany jest blok pamięci o zadanym rozmiarze, a zwracane są wartości już w nim istniejące. To zachowanie podobne do <tt>numpy.empty()</tt>.\n"
   ]
  },
  {
   "cell_type": "code",
   "execution_count": 19,
   "metadata": {
    "ExecuteTime": {
     "end_time": "2025-09-30T16:35:39.773550Z",
     "start_time": "2025-09-30T16:35:39.769394Z"
    }
   },
   "outputs": [
    {
     "name": "stdout",
     "output_type": "stream",
     "text": [
      "tensor([[0., 0., 0.],\n",
      "        [0., 0., 0.],\n",
      "        [0., 0., 0.],\n",
      "        [0., 0., 0.]])\n"
     ]
    }
   ],
   "source": [
    "x = torch.empty(4, 3)\n",
    "print(x)"
   ]
  },
  {
   "cell_type": "markdown",
   "metadata": {},
   "source": [
    "### Tensory zainicjalizowane – <tt>.zeros()</tt> i <tt>.ones()</tt>\n",
    "<a href='https://pytorch.org/docs/stable/torch.html#torch.zeros'><strong><tt>torch.zeros(size)</tt></strong></a><br>\n",
    "<a href='https://pytorch.org/docs/stable/torch.html#torch.ones'><strong><tt>torch.ones(size)</tt></strong></a><br>\n",
    "Warto od razu przekazać docelowy dtype.\n"
   ]
  },
  {
   "cell_type": "code",
   "execution_count": 20,
   "metadata": {
    "ExecuteTime": {
     "end_time": "2025-09-30T16:35:40.690806Z",
     "start_time": "2025-09-30T16:35:40.686919Z"
    }
   },
   "outputs": [
    {
     "name": "stdout",
     "output_type": "stream",
     "text": [
      "tensor([[0, 0, 0],\n",
      "        [0, 0, 0],\n",
      "        [0, 0, 0],\n",
      "        [0, 0, 0]])\n"
     ]
    }
   ],
   "source": [
    "x = torch.zeros(4, 3, dtype=torch.int64)\n",
    "print(x)"
   ]
  },
  {
   "cell_type": "markdown",
   "metadata": {},
   "source": [
    "### Tensory z zakresów\n",
    "<a href='https://pytorch.org/docs/stable/torch.html#torch.arange'><strong><tt>torch.arange(start,end,step)</tt></strong></a><br>\n",
    "<a href='https://pytorch.org/docs/stable/torch.html#torch.linspace'><strong><tt>torch.linspace(start,end,steps)</tt></strong></a><br>\n",
    "Zwróć uwagę, że dla <tt>.arange()</tt> parametr <tt>end</tt> jest wyłączny, a dla <tt>linspace()</tt> – włączny.\n"
   ]
  },
  {
   "cell_type": "code",
   "execution_count": 21,
   "metadata": {
    "ExecuteTime": {
     "end_time": "2025-09-30T16:35:41.843786Z",
     "start_time": "2025-09-30T16:35:41.837999Z"
    }
   },
   "outputs": [
    {
     "name": "stdout",
     "output_type": "stream",
     "text": [
      "tensor([[ 0,  2,  4],\n",
      "        [ 6,  8, 10],\n",
      "        [12, 14, 16]])\n"
     ]
    }
   ],
   "source": [
    "x = torch.arange(0,18,2).reshape(3,3)\n",
    "print(x)"
   ]
  },
  {
   "cell_type": "code",
   "execution_count": 22,
   "metadata": {
    "ExecuteTime": {
     "end_time": "2025-09-30T16:35:42.352570Z",
     "start_time": "2025-09-30T16:35:42.347820Z"
    }
   },
   "outputs": [
    {
     "name": "stdout",
     "output_type": "stream",
     "text": [
      "tensor([[ 0.0000,  1.6364,  3.2727,  4.9091],\n",
      "        [ 6.5455,  8.1818,  9.8182, 11.4545],\n",
      "        [13.0909, 14.7273, 16.3636, 18.0000]])\n"
     ]
    }
   ],
   "source": [
    "x = torch.linspace(0,18,12).reshape(3,4)\n",
    "print(x)"
   ]
  },
  {
   "cell_type": "markdown",
   "metadata": {},
   "source": [
    "### Tensory z danych\n",
    "<tt>torch.tensor()</tt> dobiera dtype na podstawie przekazanych danych:\n"
   ]
  },
  {
   "cell_type": "code",
   "execution_count": 24,
   "metadata": {
    "ExecuteTime": {
     "end_time": "2025-09-30T16:35:56.003662Z",
     "start_time": "2025-09-30T16:35:55.996935Z"
    }
   },
   "outputs": [
    {
     "name": "stdout",
     "output_type": "stream",
     "text": [
      "tensor([1, 2, 3, 4])\n",
      "torch.int64\n",
      "torch.LongTensor\n"
     ]
    }
   ],
   "source": [
    "x = torch.tensor([1, 2, 3, 4])\n",
    "print(x)\n",
    "print(x.dtype)\n",
    "print(x.type())"
   ]
  },
  {
   "cell_type": "markdown",
   "metadata": {},
   "source": [
    "Alternatywnie możesz ustawić typ przez użycie odpowiedniej metody tensora. Listę typów znajdziesz na https://pytorch.org/docs/stable/tensors.html\n"
   ]
  },
  {
   "cell_type": "code",
   "execution_count": 25,
   "metadata": {
    "ExecuteTime": {
     "end_time": "2025-09-30T16:35:57.290336Z",
     "start_time": "2025-09-30T16:35:57.287192Z"
    }
   },
   "outputs": [
    {
     "name": "stdout",
     "output_type": "stream",
     "text": [
      "tensor([5., 6., 7.])\n",
      "torch.float32\n",
      "torch.FloatTensor\n"
     ]
    }
   ],
   "source": [
    "x = torch.FloatTensor([5,6,7])\n",
    "print(x)\n",
    "print(x.dtype)\n",
    "print(x.type())"
   ]
  },
  {
   "cell_type": "markdown",
   "metadata": {},
   "source": [
    "Możesz też przekazać dtype jako argument. Listę typów odwiedź na https://pytorch.org/docs/stable/tensor_attributes.html#torch.torch.dtype<br>\n"
   ]
  },
  {
   "cell_type": "code",
   "execution_count": 26,
   "metadata": {
    "ExecuteTime": {
     "end_time": "2025-09-30T16:36:04.587329Z",
     "start_time": "2025-09-30T16:36:04.576109Z"
    }
   },
   "outputs": [
    {
     "name": "stdout",
     "output_type": "stream",
     "text": [
      "tensor([ 8,  9, -3], dtype=torch.int32)\n",
      "torch.int32\n",
      "torch.IntTensor\n"
     ]
    }
   ],
   "source": [
    "x = torch.tensor([8,9,-3], dtype=torch.int)\n",
    "print(x)\n",
    "print(x.dtype)\n",
    "print(x.type())"
   ]
  },
  {
   "cell_type": "markdown",
   "metadata": {},
   "source": [
    "### Zmiana dtype istniejących tensorów\n"
   ]
  },
  {
   "cell_type": "markdown",
   "metadata": {},
   "source": [
    "\n",
    "Zamiast tego użyj metody tensora <tt>.type()</tt>.\n"
   ]
  },
  {
   "cell_type": "code",
   "execution_count": 29,
   "metadata": {
    "ExecuteTime": {
     "end_time": "2025-09-30T16:37:52.862972Z",
     "start_time": "2025-09-30T16:37:52.856363Z"
    }
   },
   "outputs": [
    {
     "name": "stdout",
     "output_type": "stream",
     "text": [
      "Old: torch.LongTensor\n",
      "New: torch.LongTensor\n"
     ]
    }
   ],
   "source": [
    "print('Old:', x.type())\n",
    "\n",
    "x = x.type(torch.int64)\n",
    "\n",
    "print('New:', x.type())"
   ]
  },
  {
   "cell_type": "markdown",
   "metadata": {},
   "source": [
    "### Tensory liczb losowych\n",
    "<a href='https://pytorch.org/docs/stable/torch.html#torch.rand'><strong><tt>torch.rand(size)</tt></strong></a> zwraca próbki z rozkładu jednostajnego [0, 1)<br>\n",
    "<a href='https://pytorch.org/docs/stable/torch.html#torch.randn'><strong><tt>torch.randn(size)</tt></strong></a> zwraca próbki z „rozkładu normalnego standardowego” [σ = 1]<br>\n",
    "&nbsp;&nbsp;&nbsp;&nbsp;W przeciwieństwie do <tt>rand</tt>, który jest jednostajny, wartości bliższe zeru pojawiają się częściej.<br>\n",
    "<a href='https://pytorch.org/docs/stable/torch.html#torch.randint'><strong><tt>torch.randint(low,high,size)</tt></strong></a> zwraca losowe liczby całkowite od low (włącznie) do high (wyłącznie)\n"
   ]
  },
  {
   "cell_type": "code",
   "execution_count": 30,
   "metadata": {
    "ExecuteTime": {
     "end_time": "2025-09-30T16:37:55.164283Z",
     "start_time": "2025-09-30T16:37:55.159558Z"
    }
   },
   "outputs": [
    {
     "name": "stdout",
     "output_type": "stream",
     "text": [
      "tensor([[0.2086, 0.2178, 0.5634],\n",
      "        [0.9520, 0.5795, 0.6904],\n",
      "        [0.5256, 0.3876, 0.1220],\n",
      "        [0.6504, 0.8402, 0.9002]])\n"
     ]
    }
   ],
   "source": [
    "x = torch.rand(4, 3)\n",
    "print(x)"
   ]
  },
  {
   "cell_type": "code",
   "execution_count": 31,
   "metadata": {
    "ExecuteTime": {
     "end_time": "2025-09-30T16:37:55.755571Z",
     "start_time": "2025-09-30T16:37:55.751107Z"
    }
   },
   "outputs": [
    {
     "name": "stdout",
     "output_type": "stream",
     "text": [
      "tensor([[ 1.0283,  1.3081, -0.0048],\n",
      "        [-0.0164, -0.8525,  0.3178],\n",
      "        [-1.0164,  0.9167, -0.0262],\n",
      "        [-0.7695,  0.1847, -1.5231]])\n"
     ]
    }
   ],
   "source": [
    "x = torch.randn(4, 3)\n",
    "print(x)"
   ]
  },
  {
   "cell_type": "code",
   "execution_count": 32,
   "metadata": {
    "ExecuteTime": {
     "end_time": "2025-09-30T16:37:56.216295Z",
     "start_time": "2025-09-30T16:37:56.211949Z"
    }
   },
   "outputs": [
    {
     "name": "stdout",
     "output_type": "stream",
     "text": [
      "tensor([[3, 0, 3],\n",
      "        [2, 4, 3],\n",
      "        [1, 1, 4],\n",
      "        [4, 4, 4]])\n"
     ]
    }
   ],
   "source": [
    "x = torch.randint(0, 5, (4, 3))\n",
    "print(x)"
   ]
  },
  {
   "cell_type": "markdown",
   "metadata": {},
   "source": [
    "### Losowe tensory dopasowane rozmiarem do wejścia\n",
    "<a href='https://pytorch.org/docs/stable/torch.html#torch.rand_like'><strong><tt>torch.rand_like(input)</tt></strong></a><br>\n",
    "<a href='https://pytorch.org/docs/stable/torch.html#torch.randn_like'><strong><tt>torch.randn_like(input)</tt></strong></a><br>\n",
    "<a href='https://pytorch.org/docs/stable/torch.html#torch.randint_like'><strong><tt>torch.randint_like(input,low,high)</tt></strong></a><br>\n",
    "te funkcje zwracają losowe tensory o tym samym rozmiarze co <tt>input</tt>\n"
   ]
  },
  {
   "cell_type": "code",
   "execution_count": 33,
   "metadata": {
    "ExecuteTime": {
     "end_time": "2025-09-30T16:37:58.411755Z",
     "start_time": "2025-09-30T16:37:58.409679Z"
    }
   },
   "outputs": [
    {
     "name": "stdout",
     "output_type": "stream",
     "text": [
      "tensor([[0., 0., 0., 0., 0.],\n",
      "        [0., 0., 0., 0., 0.]])\n"
     ]
    }
   ],
   "source": [
    "x = torch.zeros(2,5)\n",
    "print(x)"
   ]
  },
  {
   "cell_type": "code",
   "execution_count": 34,
   "metadata": {
    "ExecuteTime": {
     "end_time": "2025-09-30T16:37:58.905150Z",
     "start_time": "2025-09-30T16:37:58.901447Z"
    }
   },
   "outputs": [
    {
     "name": "stdout",
     "output_type": "stream",
     "text": [
      "tensor([[-0.0137, -1.6785, -0.7495, -0.6323,  0.7244],\n",
      "        [ 0.4662, -0.7840, -0.0950, -0.6049, -0.0056]])\n"
     ]
    }
   ],
   "source": [
    "x2 = torch.randn_like(x)\n",
    "print(x2)"
   ]
  },
  {
   "cell_type": "markdown",
   "metadata": {},
   "source": [
    "Tego samego zapisu można użyć z\n",
    "<a href='https://pytorch.org/docs/stable/torch.html#torch.zeros_like'><strong><tt>torch.zeros_like(input)</tt></strong></a><br>\n",
    "<a href='https://pytorch.org/docs/stable/torch.html#torch.ones_like'><strong><tt>torch.ones_like(input)</tt></strong></a>\n"
   ]
  },
  {
   "cell_type": "code",
   "execution_count": 35,
   "metadata": {
    "ExecuteTime": {
     "end_time": "2025-09-30T16:37:59.788047Z",
     "start_time": "2025-09-30T16:37:59.784422Z"
    }
   },
   "outputs": [
    {
     "name": "stdout",
     "output_type": "stream",
     "text": [
      "tensor([[1., 1., 1., 1., 1.],\n",
      "        [1., 1., 1., 1., 1.]])\n"
     ]
    }
   ],
   "source": [
    "x3 = torch.ones_like(x2)\n",
    "print(x3)"
   ]
  },
  {
   "cell_type": "markdown",
   "metadata": {},
   "source": [
    "### Ustawienie ziarna losowego\n",
    "<a href='https://pytorch.org/docs/stable/torch.html#torch.manual_seed'><strong><tt>torch.manual_seed(int)</tt></strong></a> służy do uzyskiwania powtarzalnych rezultatów.\n"
   ]
  },
  {
   "cell_type": "code",
   "execution_count": 36,
   "metadata": {
    "ExecuteTime": {
     "end_time": "2025-09-30T16:38:00.680150Z",
     "start_time": "2025-09-30T16:38:00.670738Z"
    }
   },
   "outputs": [
    {
     "name": "stdout",
     "output_type": "stream",
     "text": [
      "tensor([[0.8823, 0.9150, 0.3829],\n",
      "        [0.9593, 0.3904, 0.6009]])\n"
     ]
    }
   ],
   "source": [
    "torch.manual_seed(42)\n",
    "x = torch.rand(2, 3)\n",
    "print(x)"
   ]
  },
  {
   "cell_type": "code",
   "execution_count": 37,
   "metadata": {
    "ExecuteTime": {
     "end_time": "2025-09-30T16:38:01.213827Z",
     "start_time": "2025-09-30T16:38:01.209120Z"
    }
   },
   "outputs": [
    {
     "name": "stdout",
     "output_type": "stream",
     "text": [
      "tensor([[0.8823, 0.9150, 0.3829],\n",
      "        [0.9593, 0.3904, 0.6009]])\n"
     ]
    }
   ],
   "source": [
    "torch.manual_seed(42)\n",
    "x = torch.rand(2, 3)\n",
    "print(x)"
   ]
  },
  {
   "cell_type": "markdown",
   "metadata": {},
   "source": [
    "## Atrybuty tensora\n",
    "Poza <tt>dtype</tt> możemy sprawdzić inne <a href='https://pytorch.org/docs/stable/tensor_attributes.html'>atrybuty tensora</a>, takie jak <tt>shape</tt>, <tt>device</tt> i <tt>layout</tt>.\n"
   ]
  },
  {
   "cell_type": "code",
   "execution_count": 38,
   "metadata": {
    "ExecuteTime": {
     "end_time": "2025-09-30T16:38:02.413149Z",
     "start_time": "2025-09-30T16:38:02.410336Z"
    }
   },
   "outputs": [
    {
     "data": {
      "text/plain": [
       "torch.Size([2, 3])"
      ]
     },
     "execution_count": 38,
     "metadata": {},
     "output_type": "execute_result"
    }
   ],
   "source": [
    "x.shape"
   ]
  },
  {
   "cell_type": "code",
   "execution_count": 39,
   "metadata": {
    "ExecuteTime": {
     "end_time": "2025-09-30T16:38:03.002500Z",
     "start_time": "2025-09-30T16:38:03.000176Z"
    }
   },
   "outputs": [
    {
     "data": {
      "text/plain": [
       "torch.Size([2, 3])"
      ]
     },
     "execution_count": 39,
     "metadata": {},
     "output_type": "execute_result"
    }
   ],
   "source": [
    "x.size()  # to samo co x.shape"
   ]
  },
  {
   "cell_type": "code",
   "execution_count": 40,
   "metadata": {
    "ExecuteTime": {
     "end_time": "2025-09-30T16:38:03.451820Z",
     "start_time": "2025-09-30T16:38:03.449608Z"
    }
   },
   "outputs": [
    {
     "data": {
      "text/plain": [
       "device(type='cpu')"
      ]
     },
     "execution_count": 40,
     "metadata": {},
     "output_type": "execute_result"
    }
   ],
   "source": [
    "x.device"
   ]
  },
  {
   "cell_type": "markdown",
   "metadata": {},
   "source": [
    "PyTorch obsługuje wiele <a href='https://pytorch.org/docs/stable/tensor_attributes.html#torch-device'>urządzeń</a>, wykorzystując moc jednego lub wielu GPU oprócz CPU. Nie będziemy tego tutaj zgłębiać, ale wiedz, że operacje między tensorami są możliwe tylko wtedy, gdy znajdują się na tym samym urządzeniu.\n"
   ]
  },
  {
   "cell_type": "code",
   "execution_count": 41,
   "metadata": {
    "ExecuteTime": {
     "end_time": "2025-09-30T16:38:04.320710Z",
     "start_time": "2025-09-30T16:38:04.318432Z"
    },
    "scrolled": true
   },
   "outputs": [
    {
     "data": {
      "text/plain": [
       "torch.strided"
      ]
     },
     "execution_count": 41,
     "metadata": {},
     "output_type": "execute_result"
    }
   ],
   "source": [
    "x.layout"
   ]
  },
  {
   "cell_type": "markdown",
   "metadata": {},
   "source": [
    "PyTorch posiada klasę przechowującą informacje o <a href='https://pytorch.org/docs/stable/tensor_attributes.html#torch.torch.layout'>układzie pamięci</a>. Domyślne ustawienie <a href='https://en.wikipedia.org/wiki/Stride_of_an_array'>strided</a> w pełni nam wystarczy w tym kursie.\n"
   ]
  },
  {
   "cell_type": "markdown",
   "metadata": {},
   "source": [
    "### Super! W kolejnym module przyjrzymy się operacjon na tensorach.\n"
   ]
  }
 ],
 "metadata": {
  "kernelspec": {
   "display_name": "Python 3 (ipykernel)",
   "language": "python",
   "name": "python3"
  },
  "language_info": {
   "codemirror_mode": {
    "name": "ipython",
    "version": 3
   },
   "file_extension": ".py",
   "mimetype": "text/x-python",
   "name": "python",
   "nbconvert_exporter": "python",
   "pygments_lexer": "ipython3",
   "version": "3.12.9"
  }
 },
 "nbformat": 4,
 "nbformat_minor": 4
}
