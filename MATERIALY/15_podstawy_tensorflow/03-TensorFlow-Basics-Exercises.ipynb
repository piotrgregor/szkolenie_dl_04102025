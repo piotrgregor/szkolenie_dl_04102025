{
 "cells": [
  {
   "cell_type": "markdown",
   "id": "e50f9da5be690ecc",
   "metadata": {},
   "source": [
    "# Ćwiczenia: Podstawy TensorFlow – Rozwiązania\n",
    "\n",
    "Wykonaj poniższe zadania, aby utrwalić podstawowe operacje na tensorach TensorFlow.\n",
    "\n",
    "<div class=\"alert alert-danger\" style=\"margin: 10px\"><strong>WAŻNA UWAGA!</strong> Nie uruchamiaj komórek znajdujących się bezpośrednio nad przykładowymi rozwiązaniami,<br>w przeciwnym razie nadpiszesz podpowiedzi!</div>\n"
   ]
  },
  {
   "cell_type": "markdown",
   "id": "f9f9ef44ef084794",
   "metadata": {},
   "source": [
    "### 1. Wykonaj standardowe importy"
   ]
  },
  {
   "cell_type": "code",
   "execution_count": 1,
   "id": "12eea36d75d3898e",
   "metadata": {
    "ExecuteTime": {
     "end_time": "2025-09-30T17:56:54.506635Z",
     "start_time": "2025-09-30T17:56:48.386092Z"
    }
   },
   "outputs": [],
   "source": []
  },
  {
   "cell_type": "markdown",
   "id": "a2690bce72c6d411",
   "metadata": {},
   "source": [
    "### 2. Ustaw ziarno losowe TensorFlow i NumPy na wartość 42"
   ]
  },
  {
   "cell_type": "code",
   "execution_count": 2,
   "id": "1632f554b2fafe18",
   "metadata": {
    "ExecuteTime": {
     "end_time": "2025-09-30T17:56:56.812022Z",
     "start_time": "2025-09-30T17:56:56.809206Z"
    }
   },
   "outputs": [],
   "source": []
  },
  {
   "cell_type": "markdown",
   "id": "6c8327622caf8244",
   "metadata": {},
   "source": [
    "### 3. Utwórz tablicę NumPy `arr` z 6 losowymi liczbami całkowitymi z zakresu [0,5)"
   ]
  },
  {
   "cell_type": "code",
   "execution_count": 3,
   "id": "247c9e64b76dee05",
   "metadata": {
    "ExecuteTime": {
     "end_time": "2025-09-30T17:57:01.010932Z",
     "start_time": "2025-09-30T17:57:01.002383Z"
    }
   },
   "outputs": [
    {
     "data": {
      "text/plain": [
       "array([3, 4, 2, 4, 4, 1])"
      ]
     },
     "execution_count": 3,
     "metadata": {},
     "output_type": "execute_result"
    }
   ],
   "source": []
  },
  {
   "cell_type": "markdown",
   "id": "57a9eefa4f6afe2d",
   "metadata": {},
   "source": [
    "### 4. Stwórz tensor `x` z tablicy `arr`"
   ]
  },
  {
   "cell_type": "code",
   "execution_count": 4,
   "id": "bc389620df284f9b",
   "metadata": {
    "ExecuteTime": {
     "end_time": "2025-09-30T17:57:06.026341Z",
     "start_time": "2025-09-30T17:57:05.953085Z"
    }
   },
   "outputs": [
    {
     "data": {
      "text/plain": [
       "<tf.Tensor: shape=(6,), dtype=int64, numpy=array([3, 4, 2, 4, 4, 1])>"
      ]
     },
     "execution_count": 4,
     "metadata": {},
     "output_type": "execute_result"
    }
   ],
   "source": []
  },
  {
   "cell_type": "markdown",
   "id": "c2ae72440ab64a7f",
   "metadata": {},
   "source": [
    "### 5. Zmień dtype tensora `x` na `tf.float32`"
   ]
  },
  {
   "cell_type": "code",
   "execution_count": 5,
   "id": "a21c840349b142b0",
   "metadata": {
    "ExecuteTime": {
     "end_time": "2025-09-30T17:57:14.263658Z",
     "start_time": "2025-09-30T17:57:14.250347Z"
    }
   },
   "outputs": [
    {
     "data": {
      "text/plain": [
       "<tf.Tensor: shape=(6,), dtype=float32, numpy=array([3., 4., 2., 4., 4., 1.], dtype=float32)>"
      ]
     },
     "execution_count": 5,
     "metadata": {},
     "output_type": "execute_result"
    }
   ],
   "source": []
  },
  {
   "cell_type": "markdown",
   "id": "1cb5221edb96e564",
   "metadata": {},
   "source": [
    "### 6. Ukształtuj tensor `x` do postaci 3x2"
   ]
  },
  {
   "cell_type": "code",
   "execution_count": 6,
   "id": "c0962b05b540bda7",
   "metadata": {
    "ExecuteTime": {
     "end_time": "2025-09-30T17:57:21.785313Z",
     "start_time": "2025-09-30T17:57:21.759883Z"
    }
   },
   "outputs": [
    {
     "data": {
      "text/plain": [
       "<tf.Tensor: shape=(3, 2), dtype=float32, numpy=\n",
       "array([[3., 4.],\n",
       "       [2., 4.],\n",
       "       [4., 1.]], dtype=float32)>"
      ]
     },
     "execution_count": 6,
     "metadata": {},
     "output_type": "execute_result"
    }
   ],
   "source": []
  },
  {
   "cell_type": "markdown",
   "id": "dae8aaf6543a1c05",
   "metadata": {},
   "source": [
    "### 7. Zwróć prawą kolumnę tensora `x`"
   ]
  },
  {
   "cell_type": "code",
   "execution_count": 7,
   "id": "8b4356828a919197",
   "metadata": {
    "ExecuteTime": {
     "end_time": "2025-09-30T17:57:27.334431Z",
     "start_time": "2025-09-30T17:57:27.304970Z"
    }
   },
   "outputs": [
    {
     "data": {
      "text/plain": [
       "<tf.Tensor: shape=(3,), dtype=float32, numpy=array([4., 4., 1.], dtype=float32)>"
      ]
     },
     "execution_count": 7,
     "metadata": {},
     "output_type": "execute_result"
    }
   ],
   "source": []
  },
  {
   "cell_type": "markdown",
   "id": "be4254d5630e8b67",
   "metadata": {},
   "source": [
    "### 8. Utwórz tensor kwadratów wartości `x`"
   ]
  },
  {
   "cell_type": "code",
   "execution_count": 8,
   "id": "67a66d5d339d0d47",
   "metadata": {
    "ExecuteTime": {
     "end_time": "2025-09-30T17:57:33.092097Z",
     "start_time": "2025-09-30T17:57:33.081499Z"
    }
   },
   "outputs": [
    {
     "data": {
      "text/plain": [
       "<tf.Tensor: shape=(3, 2), dtype=float32, numpy=\n",
       "array([[ 9., 16.],\n",
       "       [ 4., 16.],\n",
       "       [16.,  1.]], dtype=float32)>"
      ]
     },
     "execution_count": 8,
     "metadata": {},
     "output_type": "execute_result"
    }
   ],
   "source": []
  },
  {
   "cell_type": "markdown",
   "id": "780da125c735cf9d",
   "metadata": {},
   "source": [
    "### 9. Utwórz tensor `y` tak, aby można było wykonać mnożenie macierzy `x @ y`"
   ]
  },
  {
   "cell_type": "code",
   "execution_count": 9,
   "id": "68ba3f82b33060bd",
   "metadata": {
    "ExecuteTime": {
     "end_time": "2025-09-30T17:57:42.254780Z",
     "start_time": "2025-09-30T17:57:42.228679Z"
    }
   },
   "outputs": [
    {
     "data": {
      "text/plain": [
       "<tf.Tensor: shape=(2, 3), dtype=float32, numpy=\n",
       "array([[3.3228106 , 2.2050338 , 1.7644125 ],\n",
       "       [2.3224127 , 0.16830206, 3.4233618 ]], dtype=float32)>"
      ]
     },
     "execution_count": 9,
     "metadata": {},
     "output_type": "execute_result"
    }
   ],
   "source": []
  },
  {
   "cell_type": "markdown",
   "id": "70ed4d5581909cad",
   "metadata": {},
   "source": [
    "### 10. Oblicz iloczyn macierzy `x` i `y`"
   ]
  },
  {
   "cell_type": "code",
   "execution_count": 10,
   "id": "5997817770d254be",
   "metadata": {
    "ExecuteTime": {
     "end_time": "2025-09-30T17:57:45.912013Z",
     "start_time": "2025-09-30T17:57:45.906361Z"
    }
   },
   "outputs": [
    {
     "data": {
      "text/plain": [
       "<tf.Tensor: shape=(3, 3), dtype=float32, numpy=\n",
       "array([[19.258083 ,  7.2883096, 18.986685 ],\n",
       "       [15.935272 ,  5.083276 , 17.222273 ],\n",
       "       [15.613655 ,  8.988438 , 10.481012 ]], dtype=float32)>"
      ]
     },
     "execution_count": 10,
     "metadata": {},
     "output_type": "execute_result"
    }
   ],
   "source": []
  },
  {
   "cell_type": "markdown",
   "id": "2379418f1ed8ccb3",
   "metadata": {},
   "source": [
    "## Świetna robota!"
   ]
  }
 ],
 "metadata": {
  "kernelspec": {
   "display_name": "Python 3 (ipykernel)",
   "language": "python",
   "name": "python3"
  },
  "language_info": {
   "codemirror_mode": {
    "name": "ipython",
    "version": 3
   },
   "file_extension": ".py",
   "mimetype": "text/x-python",
   "name": "python",
   "nbconvert_exporter": "python",
   "pygments_lexer": "ipython3",
   "version": "3.12.9"
  }
 },
 "nbformat": 4,
 "nbformat_minor": 5
}
