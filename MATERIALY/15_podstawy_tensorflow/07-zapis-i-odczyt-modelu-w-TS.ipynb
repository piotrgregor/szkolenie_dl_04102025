{
 "cells": [
  {
   "cell_type": "markdown",
   "id": "fcef63c7",
   "metadata": {},
   "source": [
    "# Zapisywanie i wczytywanie modeli w TensorFlow\n",
    "\n",
    "Poniższy przykład pokazuje kompletny przepływ pracy: tworzymy prosty model sieci neuronowej w TensorFlow, trenujemy go na sztucznych danych, zapisujemy na dysku, a następnie wczytujemy i wykorzystujemy do predykcji."
   ]
  },
  {
   "cell_type": "markdown",
   "id": "f1a9e4d0",
   "metadata": {},
   "source": [
    "## Importy i przygotowanie danych\n",
    "Zaczynamy od importu TensorFlow oraz przygotowania niewielkiego zbioru danych (syntetyczna regresja liniowa)."
   ]
  },
  {
   "cell_type": "code",
   "execution_count": 14,
   "id": "0a4f8e36",
   "metadata": {},
   "outputs": [],
   "source": [
    "import tensorflow as tf\n",
    "import numpy as np\n",
    "\n",
    "# Ustawienie ziarna losowego dla powtarzalności\n",
    "np.random.seed(42)\n",
    "tf.random.set_seed(42)\n",
    "\n",
    "# Dane wejściowe (x) i wyjście (y)\n",
    "x = np.linspace(-1, 1, 200)\n",
    "y = 3 * x + 2 + np.random.normal(0, 0.2, size=x.shape)\n",
    "\n",
    "x = x.reshape(-1, 1)\n",
    "y = y.reshape(-1, 1)\n"
   ]
  },
  {
   "cell_type": "markdown",
   "id": "1bd122aa",
   "metadata": {},
   "source": [
    "## Definicja i kompilacja modelu\n",
    "Tworzymy prosty model sekwencyjny z jedną warstwą gęstą oraz definiujemy funkcję straty i optymalizator."
   ]
  },
  {
   "cell_type": "code",
   "execution_count": 15,
   "id": "9dd4e263",
   "metadata": {},
   "outputs": [
    {
     "data": {
      "text/html": [
       "<pre style=\"white-space:pre;overflow-x:auto;line-height:normal;font-family:Menlo,'DejaVu Sans Mono',consolas,'Courier New',monospace\"><span style=\"font-weight: bold\">Model: \"sequential_2\"</span>\n",
       "</pre>\n"
      ],
      "text/plain": [
       "\u001b[1mModel: \"sequential_2\"\u001b[0m\n"
      ]
     },
     "metadata": {},
     "output_type": "display_data"
    },
    {
     "data": {
      "text/html": [
       "<pre style=\"white-space:pre;overflow-x:auto;line-height:normal;font-family:Menlo,'DejaVu Sans Mono',consolas,'Courier New',monospace\">┏━━━━━━━━━━━━━━━━━━━━━━━━━━━━━━━━━┳━━━━━━━━━━━━━━━━━━━━━━━━┳━━━━━━━━━━━━━━━┓\n",
       "┃<span style=\"font-weight: bold\"> Layer (type)                    </span>┃<span style=\"font-weight: bold\"> Output Shape           </span>┃<span style=\"font-weight: bold\">       Param # </span>┃\n",
       "┡━━━━━━━━━━━━━━━━━━━━━━━━━━━━━━━━━╇━━━━━━━━━━━━━━━━━━━━━━━━╇━━━━━━━━━━━━━━━┩\n",
       "│ dense_2 (<span style=\"color: #0087ff; text-decoration-color: #0087ff\">Dense</span>)                 │ (<span style=\"color: #00d7ff; text-decoration-color: #00d7ff\">None</span>, <span style=\"color: #00af00; text-decoration-color: #00af00\">1</span>)              │             <span style=\"color: #00af00; text-decoration-color: #00af00\">2</span> │\n",
       "└─────────────────────────────────┴────────────────────────┴───────────────┘\n",
       "</pre>\n"
      ],
      "text/plain": [
       "┏━━━━━━━━━━━━━━━━━━━━━━━━━━━━━━━━━┳━━━━━━━━━━━━━━━━━━━━━━━━┳━━━━━━━━━━━━━━━┓\n",
       "┃\u001b[1m \u001b[0m\u001b[1mLayer (type)                   \u001b[0m\u001b[1m \u001b[0m┃\u001b[1m \u001b[0m\u001b[1mOutput Shape          \u001b[0m\u001b[1m \u001b[0m┃\u001b[1m \u001b[0m\u001b[1m      Param #\u001b[0m\u001b[1m \u001b[0m┃\n",
       "┡━━━━━━━━━━━━━━━━━━━━━━━━━━━━━━━━━╇━━━━━━━━━━━━━━━━━━━━━━━━╇━━━━━━━━━━━━━━━┩\n",
       "│ dense_2 (\u001b[38;5;33mDense\u001b[0m)                 │ (\u001b[38;5;45mNone\u001b[0m, \u001b[38;5;34m1\u001b[0m)              │             \u001b[38;5;34m2\u001b[0m │\n",
       "└─────────────────────────────────┴────────────────────────┴───────────────┘\n"
      ]
     },
     "metadata": {},
     "output_type": "display_data"
    },
    {
     "data": {
      "text/html": [
       "<pre style=\"white-space:pre;overflow-x:auto;line-height:normal;font-family:Menlo,'DejaVu Sans Mono',consolas,'Courier New',monospace\"><span style=\"font-weight: bold\"> Total params: </span><span style=\"color: #00af00; text-decoration-color: #00af00\">2</span> (8.00 B)\n",
       "</pre>\n"
      ],
      "text/plain": [
       "\u001b[1m Total params: \u001b[0m\u001b[38;5;34m2\u001b[0m (8.00 B)\n"
      ]
     },
     "metadata": {},
     "output_type": "display_data"
    },
    {
     "data": {
      "text/html": [
       "<pre style=\"white-space:pre;overflow-x:auto;line-height:normal;font-family:Menlo,'DejaVu Sans Mono',consolas,'Courier New',monospace\"><span style=\"font-weight: bold\"> Trainable params: </span><span style=\"color: #00af00; text-decoration-color: #00af00\">2</span> (8.00 B)\n",
       "</pre>\n"
      ],
      "text/plain": [
       "\u001b[1m Trainable params: \u001b[0m\u001b[38;5;34m2\u001b[0m (8.00 B)\n"
      ]
     },
     "metadata": {},
     "output_type": "display_data"
    },
    {
     "data": {
      "text/html": [
       "<pre style=\"white-space:pre;overflow-x:auto;line-height:normal;font-family:Menlo,'DejaVu Sans Mono',consolas,'Courier New',monospace\"><span style=\"font-weight: bold\"> Non-trainable params: </span><span style=\"color: #00af00; text-decoration-color: #00af00\">0</span> (0.00 B)\n",
       "</pre>\n"
      ],
      "text/plain": [
       "\u001b[1m Non-trainable params: \u001b[0m\u001b[38;5;34m0\u001b[0m (0.00 B)\n"
      ]
     },
     "metadata": {},
     "output_type": "display_data"
    }
   ],
   "source": [
    "model = tf.keras.Sequential([\n",
    "    tf.keras.layers.Input(shape=(1,)),\n",
    "    tf.keras.layers.Dense(1)\n",
    "])\n",
    "\n",
    "model.compile(optimizer=tf.keras.optimizers.Adam(learning_rate=0.05),\n",
    "              loss='mse',\n",
    "              metrics=['mae'])\n",
    "model.summary()\n"
   ]
  },
  {
   "cell_type": "markdown",
   "id": "f60242a8",
   "metadata": {},
   "source": [
    "## Trening modelu\n",
    "Trenujemy model przez kilka epok, by dopasował się do danych."
   ]
  },
  {
   "cell_type": "code",
   "execution_count": 16,
   "id": "6e0cc16a",
   "metadata": {},
   "outputs": [
    {
     "data": {
      "image/png": "[encoded data removed]",
      "text/plain": [
       "<Figure size 640x480 with 1 Axes>"
      ]
     },
     "metadata": {},
     "output_type": "display_data"
    }
   ],
   "source": [
    "history = model.fit(x, y, epochs=50, verbose=0)\n",
    "\n",
    "import matplotlib.pyplot as plt\n",
    "plt.plot(history.history['loss'])\n",
    "plt.title('Loss podczas treningu')\n",
    "plt.xlabel('Epoka')\n",
    "plt.ylabel('Loss')\n",
    "plt.show()\n"
   ]
  },
  {
   "cell_type": "markdown",
   "id": "884c52c2",
   "metadata": {},
   "source": [
    "## Zapis modelu\n",
    "\n",
    "Zapisujemy model w formacie .keras"
   ]
  },
  {
   "cell_type": "code",
   "execution_count": 17,
   "id": "153e799c",
   "metadata": {},
   "outputs": [
    {
     "name": "stdout",
     "output_type": "stream",
     "text": [
      "Zapisano model do pliku model.keras\n"
     ]
    }
   ],
   "source": [
    "\n",
    "model_name = 'model.keras'\n",
    "\n",
    "model.save(model_name)\n",
    "\n",
    "print('Zapisano model do pliku', model_name)\n"
   ]
  },
  {
   "cell_type": "markdown",
   "id": "d8032f4f",
   "metadata": {},
   "source": [
    "## 5. Wczytanie modelu\n",
    "Wczytujemy model z dysku i wykorzystujemy go do predykcji na nowych danych."
   ]
  },
  {
   "cell_type": "code",
   "execution_count": 18,
   "id": "b0de2ecd",
   "metadata": {},
   "outputs": [
    {
     "name": "stdout",
     "output_type": "stream",
     "text": [
      "\u001b[1m1/1\u001b[0m \u001b[32m━━━━━━━━━━━━━━━━━━━━\u001b[0m\u001b[37m\u001b[0m \u001b[1m0s\u001b[0m 27ms/step\n",
      "Predykcje (SavedModel): [0.47624803 1.9888344  3.5014207 ]\n"
     ]
    }
   ],
   "source": [
    "loaded_model = tf.keras.models.load_model(model_name)\n",
    "\n",
    "\n",
    "# Dane testowe\n",
    "x_test = np.array([[-0.5], [0.0], [0.5]])\n",
    "predictions = loaded_model.predict(x_test)\n",
    "\n",
    "print('Predykcje (SavedModel):', predictions.flatten())\n"
   ]
  },
  {
   "cell_type": "markdown",
   "id": "8fd824e7",
   "metadata": {},
   "source": [
    "## 6. Walidacja spójności\n",
    "Sprawdzamy, czy parametry wczytanych modeli odpowiadają oryginalnemu modelowi."
   ]
  },
  {
   "cell_type": "code",
   "execution_count": 19,
   "id": "f23014c1",
   "metadata": {},
   "outputs": [
    {
     "name": "stdout",
     "output_type": "stream",
     "text": [
      "Czy wagi modelu zapisane są identyczne? True\n"
     ]
    }
   ],
   "source": [
    "# Porównujemy wagi\n",
    "original_weights = model.get_weights()\n",
    "loaded_weights = loaded_model.get_weights()\n",
    "\n",
    "\n",
    "print('Czy wagi modelu zapisane są identyczne?', all(np.allclose(o, l) for o, l in zip(original_weights, loaded_weights)))\n",
    "\n"
   ]
  },
  {
   "cell_type": "markdown",
   "id": "ce2aefb8",
   "metadata": {},
   "source": [
    "## 7. Podsumowanie\n",
    "1. Zbudowaliśmy i wytrenowaliśmy prosty model w TensorFlow.\n",
    "2. Zapisaliśmy model.\n",
    "3. Wczytaliśmy model z dysku i wykorzystaliśmy go do predykcji.\n",
    "4. Porównaliśmy wagi, aby upewnić się, że wczytane modele zachowują spójność z oryginałem.\n",
    "\n",
    "Ten schemat możesz wykorzystać w swoich projektach, zastępując model oraz dane własnymi zasobami."
   ]
  },
  {
   "cell_type": "code",
   "execution_count": null,
   "id": "d1de220c-f3e3-46ec-8a43-baff91b3520f",
   "metadata": {},
   "outputs": [],
   "source": []
  }
 ],
 "metadata": {
  "kernelspec": {
   "display_name": "Python 3 (ipykernel)",
   "language": "python",
   "name": "python3"
  },
  "language_info": {
   "codemirror_mode": {
    "name": "ipython",
    "version": 3
   },
   "file_extension": ".py",
   "mimetype": "text/x-python",
   "name": "python",
   "nbconvert_exporter": "python",
   "pygments_lexer": "ipython3",
   "version": "3.12.9"
  }
 },
 "nbformat": 4,
 "nbformat_minor": 5
}
