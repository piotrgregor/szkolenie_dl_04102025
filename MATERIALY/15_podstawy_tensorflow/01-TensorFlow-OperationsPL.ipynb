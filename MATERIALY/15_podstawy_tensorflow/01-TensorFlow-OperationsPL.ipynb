{
 "cells": [
  {
   "cell_type": "markdown",
   "id": "661b33f77b758fe1",
   "metadata": {},
   "source": [
    "# Operacje na TensorFlow TensorachTa sekcja obejmuje:\n",
    "\n",
    "* Indeksowanie i wycinanie* Zmianę kształtu z `tf.reshape`\n",
    "* Operacje arytmetyczne i statystyczne\n",
    "* Mnożenie macierzy oraz iloczyny skalarne\n",
    "* Różnice względem PyTorch (np. brak operacji in-place)"
   ]
  },
  {
   "cell_type": "code",
   "execution_count": 1,
   "id": "d8a2acc2fa4bf380",
   "metadata": {
    "ExecuteTime": {
     "end_time": "2025-09-30T17:16:32.242565Z",
     "start_time": "2025-09-30T17:16:24.297417Z"
    }
   },
   "outputs": [],
   "source": [
    "import tensorflow as tf"
   ]
  },
  {
   "cell_type": "markdown",
   "id": "530a7e594727b64e",
   "metadata": {},
   "source": [
    "## Indeksowanie i wycinanie\n",
    "\n",
    "Tensory TensorFlow obsługują indeksowanie podobne do NumPy.\n",
    "\n",
    "Warto jednak pamiętać, że zwracane obiekty to wciąż tensory.\n",
    "\n",
    "<img src='../_img/arrayslicing.png' width=\"500\" style=\"display: inline-block\"><br><br>"
   ]
  },
  {
   "cell_type": "code",
   "execution_count": 5,
   "id": "62e6bdaf58b9c42e",
   "metadata": {
    "ExecuteTime": {
     "end_time": "2025-09-30T17:21:15.911709Z",
     "start_time": "2025-09-30T17:21:15.892772Z"
    }
   },
   "outputs": [
    {
     "name": "stdout",
     "output_type": "stream",
     "text": [
      "tf.Tensor([3 4], shape=(2,), dtype=int32)\n",
      "tf.Tensor(\n",
      "[[44 45]\n",
      " [54 55]], shape=(2, 2), dtype=int32)\n",
      "tf.Tensor([ 2 12 22 32 42 52], shape=(6,), dtype=int32)\n",
      "tf.Tensor(\n",
      "[[20 22 24]\n",
      " [40 42 44]], shape=(2, 3), dtype=int32)\n"
     ]
    }
   ],
   "source": [
    "row0 = tf.range(6)\n",
    "matrix = x = row0 + tf.expand_dims(row0, 1) * 10\n",
    "\n",
    "# Lub tf.newaxis\n",
    "x = row0 + row0[:, tf.newaxis] * 10\n",
    "\n",
    "print(x[0, 3:5])\n",
    "print(x[4:, 4:])\n",
    "print(x[:,2])\n",
    "print(x[2::2,::2])\n"
   ]
  },
  {
   "cell_type": "markdown",
   "id": "92e4a24b5cb8b064",
   "metadata": {},
   "source": [
    "## Zmiana kształtu\n",
    "\n",
    "W TensorFlow korzystamy z funkcji `tf.reshape`. W przeciwieństwie do PyTorch nie ma metody `.view()`, ale działanie jest analogiczne."
   ]
  },
  {
   "cell_type": "code",
   "execution_count": 7,
   "id": "9eeb253ed91cbc00",
   "metadata": {
    "ExecuteTime": {
     "end_time": "2025-09-30T17:21:56.411794Z",
     "start_time": "2025-09-30T17:21:56.400967Z"
    }
   },
   "outputs": [
    {
     "name": "stdout",
     "output_type": "stream",
     "text": [
      "tf.Tensor(\n",
      "[[ 0  1  2  3  4  5 10 11 12 13 14 15]\n",
      " [20 21 22 23 24 25 30 31 32 33 34 35]\n",
      " [40 41 42 43 44 45 50 51 52 53 54 55]], shape=(3, 12), dtype=int32)\n"
     ]
    }
   ],
   "source": [
    "reshaped = tf.reshape(matrix, (3, 12))\n",
    "print(reshaped)"
   ]
  },
  {
   "cell_type": "markdown",
   "id": "beeb9f0503345e1b",
   "metadata": {},
   "source": [
    "## Arytmetyka tensorów\n",
    "\n",
    "Operacje można zapisywać symbolicznie (`a + b`) lub poprzez funkcje z modułu `tf.math`.\n",
    "\n",
    "TensorFlow nie wspiera operacji in-place na tensorach – **to istotna różnica względem PyTorch.**"
   ]
  },
  {
   "cell_type": "code",
   "execution_count": 8,
   "id": "18b3bf5eaa043079",
   "metadata": {
    "ExecuteTime": {
     "end_time": "2025-09-30T17:22:40.690416Z",
     "start_time": "2025-09-30T17:22:40.670300Z"
    }
   },
   "outputs": [
    {
     "name": "stdout",
     "output_type": "stream",
     "text": [
      "Dodawanie: tf.Tensor(\n",
      "[[11. 22. 33.]\n",
      " [44. 55. 66.]], shape=(2, 3), dtype=float32)\n",
      "Mnożenie elementowe: tf.Tensor(\n",
      "[[ 10.  40.  90.]\n",
      " [160. 250. 360.]], shape=(2, 3), dtype=float32)\n",
      "Potęgowanie: tf.Tensor(\n",
      "[[ 1.  4.  9.]\n",
      " [16. 25. 36.]], shape=(2, 3), dtype=float32)\n"
     ]
    }
   ],
   "source": [
    "a = tf.constant([[1., 2., 3.], [4., 5., 6.]])\n",
    "b = tf.constant([[10., 20., 30.], [40., 50., 60.]])\n",
    "print('Dodawanie:', a + b)\n",
    "print('Mnożenie elementowe:', tf.multiply(a, b))\n",
    "print('Potęgowanie:', tf.pow(a, 2))"
   ]
  },
  {
   "cell_type": "markdown",
   "id": "c8e783591dc52e7f",
   "metadata": {},
   "source": [
    "### Broadcasting\n",
    "\n",
    "Reguły broadcastingu są takie jak w NumPy i PyTorch – dopasowujemy rozmiary od końca kształtu."
   ]
  },
  {
   "cell_type": "code",
   "execution_count": 9,
   "id": "369b26599fe32679",
   "metadata": {
    "ExecuteTime": {
     "end_time": "2025-09-30T17:23:00.238720Z",
     "start_time": "2025-09-30T17:23:00.227756Z"
    }
   },
   "outputs": [
    {
     "name": "stdout",
     "output_type": "stream",
     "text": [
      "tf.Tensor(\n",
      "[[2. 4. 6.]\n",
      " [5. 7. 9.]], shape=(2, 3), dtype=float32)\n"
     ]
    }
   ],
   "source": [
    "row = tf.constant([[1., 2., 3.]])\n",
    "\n",
    "print(a + row)"
   ]
  },
  {
   "cell_type": "markdown",
   "id": "2e124fbe777ebaaf",
   "metadata": {},
   "source": [
    "### Iloczyn skalarny i mnożenie macierzy\n",
    "\n",
    "Najczęściej korzystamy z `tf.tensordot` i `tf.matmul`.\n",
    "\n",
    "Dla wektorów `tf.tensordot` działa jak `torch.dot`.\n",
    "\n",
    "`tf.matmul`\n",
    "\n",
    "Mnożenie macierzy (2D).\n",
    "\n",
    "Działa na ostatnich 2 wymiarach"
   ]
  },
  {
   "cell_type": "code",
   "execution_count": 29,
   "id": "9afcbb1c45688cfa",
   "metadata": {
    "ExecuteTime": {
     "end_time": "2025-09-30T17:40:05.227451Z",
     "start_time": "2025-09-30T17:40:05.207663Z"
    }
   },
   "outputs": [
    {
     "name": "stdout",
     "output_type": "stream",
     "text": [
      "(2, 2)\n",
      "tf.Tensor(\n",
      "[[0 1]\n",
      " [2 3]], shape=(2, 2), dtype=int32)\n",
      "tf.Tensor(\n",
      "[[0 1]\n",
      " [2 3]], shape=(2, 2), dtype=int32)\n",
      "tf.Tensor(\n",
      "[[ 2  3]\n",
      " [ 6 11]], shape=(2, 2), dtype=int32)\n"
     ]
    }
   ],
   "source": [
    "A = tf.reshape(tf.range(4), (2, 2))\n",
    "B = tf.reshape(tf.range(4), (2, 2))\n",
    "C = tf.matmul(A, B)  # shape: (2, 2)\n",
    "print(C.shape)\n",
    "print(A, B, C, sep='\\n')\n"
   ]
  },
  {
   "cell_type": "code",
   "execution_count": 34,
   "id": "f9f233e1f14d72c0",
   "metadata": {
    "ExecuteTime": {
     "end_time": "2025-09-30T17:43:48.442175Z",
     "start_time": "2025-09-30T17:43:48.432453Z"
    }
   },
   "outputs": [
    {
     "name": "stdout",
     "output_type": "stream",
     "text": [
      "tf.Tensor(\n",
      "[[[ 0  1  2]\n",
      "  [ 3  4  5]\n",
      "  [ 6  7  8]]\n",
      "\n",
      " [[ 9 10 11]\n",
      "  [12 13 14]\n",
      "  [15 16 17]]\n",
      "\n",
      " [[18 19 20]\n",
      "  [21 22 23]\n",
      "  [24 25 26]]], shape=(3, 3, 3), dtype=int32)\n"
     ]
    }
   ],
   "source": [
    "A = tf.reshape(tf.range(27), (3, 3, 3))\n",
    "B = tf.reshape(tf.range(27), (3, 3, 3))\n",
    "print(A)"
   ]
  },
  {
   "cell_type": "code",
   "execution_count": 35,
   "id": "3b52ca5d909adb42",
   "metadata": {
    "ExecuteTime": {
     "end_time": "2025-09-30T17:43:49.107126Z",
     "start_time": "2025-09-30T17:43:49.098607Z"
    }
   },
   "outputs": [
    {
     "name": "stdout",
     "output_type": "stream",
     "text": [
      "tf.Tensor(\n",
      "[[[ 0  1  2]\n",
      "  [ 3  4  5]\n",
      "  [ 6  7  8]]\n",
      "\n",
      " [[ 9 10 11]\n",
      "  [12 13 14]\n",
      "  [15 16 17]]\n",
      "\n",
      " [[18 19 20]\n",
      "  [21 22 23]\n",
      "  [24 25 26]]], shape=(3, 3, 3), dtype=int32)\n"
     ]
    }
   ],
   "source": [
    "print(B)"
   ]
  },
  {
   "cell_type": "markdown",
   "id": "be1ec111269ca484",
   "metadata": {},
   "source": [
    "Dla tensorów kształtu `(batch, rows, cols)`:\n",
    "- `A.shape = (3, 3, 3)` - 3 macierze 3×3\n",
    "- `B.shape = (3, 3, 3)` - 3 macierze 3×3\n",
    "- `C.shape = (3, 3, 3)` - 3 wynikowe macierze 3×3\n",
    "\n",
    "`matmul` mnoży odpowiednie pary macierzy:\n",
    "- `A[0]` × `B[0]` → `C[0]`\n",
    "- `A[1]` × `B[1]` → `C[1]`\n",
    "- `A[2]` × `B[2]` → `C[2]`\n",
    "\n",
    "Każde mnożenie to standardowe mnożenie macierzy 3×3:\n",
    "\n",
    "```python\n",
    "# Przykład dla pierwszej pary:\n",
    "# A[0] = [[0,1,2], [3,4,5], [6,7,8]]\n",
    "# B[0] = [[0,1,2], [3,4,5], [6,7,8]]\n",
    "# C[0] = A[0] @ B[0] = macierz 3×3\n",
    "```\n"
   ]
  },
  {
   "cell_type": "code",
   "execution_count": 37,
   "id": "d5bdd747e4e8a9c5",
   "metadata": {
    "ExecuteTime": {
     "end_time": "2025-09-30T17:45:19.404324Z",
     "start_time": "2025-09-30T17:45:19.392311Z"
    }
   },
   "outputs": [
    {
     "name": "stdout",
     "output_type": "stream",
     "text": [
      "tf.Tensor(\n",
      "[[[  15   18   21]\n",
      "  [  42   54   66]\n",
      "  [  69   90  111]]\n",
      "\n",
      " [[ 366  396  426]\n",
      "  [ 474  513  552]\n",
      "  [ 582  630  678]]\n",
      "\n",
      " [[1203 1260 1317]\n",
      "  [1392 1458 1524]\n",
      "  [1581 1656 1731]]], shape=(3, 3, 3), dtype=int32)\n"
     ]
    }
   ],
   "source": [
    "\n",
    "C = tf.matmul(A, B)\n",
    "print(C)\n"
   ]
  },
  {
   "cell_type": "code",
   "execution_count": 26,
   "id": "49eb32fb63eb1d98",
   "metadata": {
    "ExecuteTime": {
     "end_time": "2025-09-30T17:38:14.325854Z",
     "start_time": "2025-09-30T17:38:14.319654Z"
    }
   },
   "outputs": [
    {
     "name": "stdout",
     "output_type": "stream",
     "text": [
      "(2, 2)\n"
     ]
    },
    {
     "data": {
      "text/plain": [
       "<tf.Tensor: shape=(2, 2), dtype=float32, numpy=\n",
       "array([[2., 1.],\n",
       "       [1., 2.]], dtype=float32)>"
      ]
     },
     "execution_count": 26,
     "metadata": {},
     "output_type": "execute_result"
    }
   ],
   "source": [
    "A = tf.eye(2, 2) + 1\n",
    "B = tf.eye(2,2)\n",
    "C = tf.matmul(A, B)  # shape: (3, 3)\n",
    "print(C.shape)\n",
    "C"
   ]
  },
  {
   "cell_type": "code",
   "execution_count": 15,
   "id": "be3e8fce79697fed",
   "metadata": {
    "ExecuteTime": {
     "end_time": "2025-09-30T17:27:41.185827Z",
     "start_time": "2025-09-30T17:27:41.151182Z"
    }
   },
   "outputs": [
    {
     "name": "stdout",
     "output_type": "stream",
     "text": [
      "(3, 4, 4, 5)\n"
     ]
    },
    {
     "data": {
      "text/plain": [
       "<tf.Tensor: shape=(3, 4, 4, 5), dtype=float32, numpy=\n",
       "array([[[[-7.21118040e-03, -7.06384555e-02, -1.34808972e-01,\n",
       "           2.03060955e-02, -1.33329228e-01],\n",
       "         [-8.54519010e-02,  2.12327801e-02,  2.79083662e-02,\n",
       "           5.73648773e-02, -1.17181288e-02],\n",
       "         [ 1.00872964e-02, -1.98004209e-02,  3.99751104e-02,\n",
       "           8.55055973e-02,  8.35616142e-02],\n",
       "         [ 4.15276736e-02, -1.02254018e-01, -1.47219785e-02,\n",
       "           1.87631041e-01, -2.65930197e-03]],\n",
       "\n",
       "        [[ 1.05472036e-01,  1.03317082e+00,  1.97174060e+00,\n",
       "          -2.97000617e-01,  1.95009756e+00],\n",
       "         [ 1.24983501e+00, -3.10554504e-01, -4.08192843e-01,\n",
       "          -8.39029074e-01,  1.71391472e-01],\n",
       "         [-1.47538632e-01,  2.89604545e-01, -5.84683239e-01,\n",
       "          -1.25062037e+00, -1.22218728e+00],\n",
       "         [-6.07391298e-01,  1.49558580e+00,  2.15326324e-01,\n",
       "          -2.74432564e+00,  3.88954319e-02]],\n",
       "\n",
       "        [[-1.35377198e-01, -1.32611239e+00, -2.53080082e+00,\n",
       "           3.81211132e-01, -2.50302124e+00],\n",
       "         [-1.60420883e+00,  3.98608029e-01,  5.23930371e-01,\n",
       "           1.07692444e+00, -2.19987199e-01],\n",
       "         [ 1.89371198e-01, -3.71717989e-01,  7.50462234e-01,\n",
       "           1.60521674e+00,  1.56872201e+00],\n",
       "         [ 7.79608846e-01, -1.91963887e+00, -2.76379168e-01,\n",
       "           3.52244210e+00, -4.99237068e-02]],\n",
       "\n",
       "        [[-7.47132897e-02, -7.31867850e-01, -1.39672315e+00,\n",
       "           2.10386530e-01, -1.38139188e+00],\n",
       "         [-8.85346472e-01,  2.19987690e-01,  2.89151818e-01,\n",
       "           5.94343603e-01, -1.21408686e-01],\n",
       "         [ 1.04512028e-01, -2.05147356e-01,  4.14172411e-01,\n",
       "           8.85902703e-01,  8.65761578e-01],\n",
       "         [ 4.30258155e-01, -1.05942905e+00, -1.52530849e-01,\n",
       "           1.94399977e+00, -2.75523830e-02]]],\n",
       "\n",
       "\n",
       "       [[[-3.34811285e-02, -3.27970594e-01, -6.25910938e-01,\n",
       "           9.42801237e-02, -6.19040608e-01],\n",
       "         [-3.96748692e-01,  9.85826775e-02,  1.29577070e-01,\n",
       "           2.66342103e-01, -5.44066504e-02],\n",
       "         [ 4.68347855e-02, -9.19323042e-02,  1.85602322e-01,\n",
       "           3.96997958e-01,  3.87972146e-01],\n",
       "         [ 1.92810804e-01, -4.74759996e-01, -6.83533698e-02,\n",
       "           8.71161044e-01, -1.23469988e-02]],\n",
       "\n",
       "        [[-8.83547813e-02, -8.65495622e-01, -1.65174305e+00,\n",
       "           2.48799846e-01, -1.63361263e+00],\n",
       "         [-1.04699695e+00,  2.60154039e-01,  3.41946453e-01,\n",
       "           7.02861488e-01, -1.43576026e-01],\n",
       "         [ 1.23594306e-01, -2.42604077e-01,  4.89793897e-01,\n",
       "           1.04765487e+00,  1.02383626e+00],\n",
       "         [ 5.08816659e-01, -1.25286436e+00, -1.80380613e-01,\n",
       "           2.29894400e+00, -3.25830206e-02]],\n",
       "\n",
       "        [[ 7.49398842e-02,  7.34087467e-01,  1.40095913e+00,\n",
       "          -2.11024582e-01,  1.38558137e+00],\n",
       "         [ 8.88031542e-01, -2.20654860e-01, -2.90028751e-01,\n",
       "          -5.96146107e-01,  1.21776894e-01],\n",
       "         [-1.04828991e-01,  2.05769524e-01, -4.15428519e-01,\n",
       "          -8.88589501e-01, -8.68387282e-01],\n",
       "         [-4.31563050e-01,  1.06264210e+00,  1.52993441e-01,\n",
       "          -1.94989550e+00,  2.76359431e-02]],\n",
       "\n",
       "        [[-6.44003004e-02, -6.30845070e-01, -1.20392752e+00,\n",
       "           1.81345984e-01, -1.19071245e+00],\n",
       "         [-7.63138294e-01,  1.89621851e-01,  2.49238968e-01,\n",
       "           5.12303829e-01, -1.04650132e-01],\n",
       "         [ 9.00857896e-02, -1.76829994e-01,  3.57002437e-01,\n",
       "           7.63617814e-01,  7.46256888e-01],\n",
       "         [ 3.70867789e-01, -9.13191557e-01, -1.31476358e-01,\n",
       "           1.67566121e+00, -2.37492099e-02]]],\n",
       "\n",
       "\n",
       "       [[[-5.60943708e-02, -5.49482822e-01, -1.04865289e+00,\n",
       "           1.57957166e-01, -1.03714216e+00],\n",
       "         [-6.64713740e-01,  1.65165678e-01,  2.17093766e-01,\n",
       "           4.46230233e-01, -9.11530480e-02],\n",
       "         [ 7.84671158e-02, -1.54023618e-01,  3.10958624e-01,\n",
       "           6.65131390e-01,  6.50009573e-01],\n",
       "         [ 3.23035717e-01, -7.95414150e-01, -1.14519410e-01,\n",
       "           1.45954549e+00, -2.06861924e-02]],\n",
       "\n",
       "        [[ 2.34431643e-02,  2.29641855e-01,  4.38256800e-01,\n",
       "          -6.60140365e-02,  4.33446258e-01],\n",
       "         [ 2.77799606e-01, -6.90266415e-02, -9.07286182e-02,\n",
       "          -1.86490163e-01,  3.80950123e-02],\n",
       "         [-3.27932648e-02,  6.43701106e-02, -1.29956961e-01,\n",
       "          -2.77974129e-01, -2.71654367e-01],\n",
       "         [-1.35004267e-01,  3.32422376e-01,  4.78603691e-02,\n",
       "          -6.09978557e-01,  8.64524953e-03]],\n",
       "\n",
       "        [[ 1.43004969e-01,  1.40083170e+00,  2.67339802e+00,\n",
       "          -4.02690321e-01,  2.64405298e+00],\n",
       "         [ 1.69459736e+00, -4.21067446e-01, -5.53451061e-01,\n",
       "          -1.13760328e+00,  2.32382298e-01],\n",
       "         [-2.00041249e-01,  3.92662287e-01, -7.92746723e-01,\n",
       "          -1.69566214e+00, -1.65711105e+00],\n",
       "         [-8.23535621e-01,  2.02780008e+00,  2.91951656e-01,\n",
       "          -3.72091269e+00,  5.27366363e-02]],\n",
       "\n",
       "        [[-8.74946490e-02, -8.57070029e-01, -1.63566339e+00,\n",
       "           2.46377781e-01, -1.61770940e+00],\n",
       "         [-1.03680444e+00,  2.57621437e-01,  3.38617623e-01,\n",
       "           6.96019173e-01, -1.42178312e-01],\n",
       "         [ 1.22391120e-01, -2.40242332e-01,  4.85025734e-01,\n",
       "           1.03745592e+00,  1.01386917e+00],\n",
       "         [ 5.03863335e-01, -1.24066770e+00, -1.78624600e-01,\n",
       "           2.27656388e+00, -3.22658233e-02]]]], dtype=float32)>"
      ]
     },
     "execution_count": 15,
     "metadata": {},
     "output_type": "execute_result"
    }
   ],
   "source": [
    "A = tf.random.normal((3, 4))\n",
    "B = tf.random.normal((4, 5))\n",
    "C = tf.tensordot(A, B, axes=0)  # shape: (3, 5)\n",
    "print(C.shape)\n",
    "C"
   ]
  },
  {
   "cell_type": "code",
   "execution_count": null,
   "id": "2371ad3f9ed17a14",
   "metadata": {},
   "outputs": [],
   "source": [
    "vec1 = tf.constant([1., 2., 3.])\n",
    "vec2 = tf.constant([4., 5., 6.])\n",
    "\n",
    "dot = tf.tensordot(vec1, vec2, axes=1)\n",
    "\n",
    "print('Iloczyn skalarny:', dot.numpy())\n",
    "\n",
    "mat1 = tf.constant([[1., 2.], [3., 4.]])\n",
    "mat2 = tf.constant([[5., 6.], [7., 8.]])\n",
    "print('Mnożenie macierzy:', tf.matmul(mat1, mat2).numpy())"
   ]
  },
  {
   "cell_type": "markdown",
   "id": "fa8130d5219d9809",
   "metadata": {},
   "source": [
    "### Statystyki opisowe\n",
    "\n",
    "W TensorFlow odpowiadają za to funkcje `tf.reduce_*`."
   ]
  },
  {
   "cell_type": "code",
   "execution_count": 38,
   "id": "7e1c63edfd0fe3c1",
   "metadata": {
    "ExecuteTime": {
     "end_time": "2025-09-30T17:48:23.663173Z",
     "start_time": "2025-09-30T17:48:23.598973Z"
    }
   },
   "outputs": [
    {
     "name": "stdout",
     "output_type": "stream",
     "text": [
      "Suma: 21.0\n",
      "Średnia: 3.5\n",
      "Maksimum: 6.0\n",
      "Minimum: 1.0\n"
     ]
    }
   ],
   "source": [
    "print('Suma:', tf.reduce_sum(a).numpy())\n",
    "\n",
    "print('Średnia:', tf.reduce_mean(a).numpy())\n",
    "\n",
    "print('Maksimum:', tf.reduce_max(a).numpy())\n",
    "\n",
    "print('Minimum:', tf.reduce_min(a).numpy())"
   ]
  },
  {
   "cell_type": "markdown",
   "id": "4c1bcc778b981905",
   "metadata": {},
   "source": [
    "### Dodatkowe operacje\n",
    "\n",
    "* `tf.linalg.norm(a)` – norma euklidesowa\n",
    "* `tf.math.reduce_std(a)` – odchylenie standardowe\n",
    "* `tf.reshape`, `tf.transpose`, `tf.concat` – operacje kształtuTensorFlow nie oferuje operacji in-place. Zamiast `tensor.add_()` tworzymy nowy tensor albo korzystamy z `tf.Variable`."
   ]
  },
  {
   "cell_type": "markdown",
   "id": "41b2336949cfdecb",
   "metadata": {},
   "source": [
    "### Świetna robota!"
   ]
  }
 ],
 "metadata": {
  "kernelspec": {
   "display_name": "Python 3 (ipykernel)",
   "language": "python",
   "name": "python3"
  },
  "language_info": {
   "codemirror_mode": {
    "name": "ipython",
    "version": 3
   },
   "file_extension": ".py",
   "mimetype": "text/x-python",
   "name": "python",
   "nbconvert_exporter": "python",
   "pygments_lexer": "ipython3",
   "version": "3.12.9"
  }
 },
 "nbformat": 4,
 "nbformat_minor": 5
}
