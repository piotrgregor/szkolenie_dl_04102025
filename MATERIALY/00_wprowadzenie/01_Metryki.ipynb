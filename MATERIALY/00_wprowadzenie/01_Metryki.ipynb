{
 "cells": [
  {
   "cell_type": "markdown",
   "id": "2cfbe406-3db2-470b-81dd-721ecce82aa4",
   "metadata": {},
   "source": [
    "| Pacjent | Rzeczywistość (chory/zdrowy) | Predykcja modelu |\n",
    "| ------- | ---------------------------- | ---------------- |\n",
    "| 1       | chory                        | chory            |\n",
    "| 2       | chory                        | zdrowy           |\n",
    "| 3       | chory                        | chory            |\n",
    "| 4       | zdrowy                       | zdrowy           |\n",
    "| 5       | zdrowy                       | zdrowy           |\n",
    "| 6       | zdrowy                       | chory            |\n",
    "| 7       | zdrowy                       | zdrowy           |\n",
    "| 8       | chory                        | chory            |\n",
    "| 9       | zdrowy                       | zdrowy           |\n",
    "| 10      | zdrowy                       | zdrowy           |\n"
   ]
  },
  {
   "cell_type": "markdown",
   "id": "21640f4d-c1dc-4117-9dcd-e205d4892e8b",
   "metadata": {},
   "source": [
    "\n",
    "# model działa dobrze:\n",
    "* model przewiduje, że ktoś jest chory i ten ktoś jest rzeczywiście chory - TP (True Positive)\n",
    "* ktoś jest zdrowy i model przewiduje, że jest zdrowy -  TN (True Negative)\n",
    "\n",
    "# model działa źle:\n",
    "* False Positive - model mówi chory, a rzeczywistośc mówi, że jest zdrowy\n",
    "* Flase Negative - model mówi, że zdrowy, ale ten ktoś"
   ]
  },
  {
   "cell_type": "code",
   "execution_count": null,
   "id": "540422c1-35ee-409c-8aa8-3018369e6647",
   "metadata": {},
   "outputs": [],
   "source": []
  }
 ],
 "metadata": {
  "kernelspec": {
   "display_name": "Python 3 (ipykernel)",
   "language": "python",
   "name": "python3"
  },
  "language_info": {
   "codemirror_mode": {
    "name": "ipython",
    "version": 3
   },
   "file_extension": ".py",
   "mimetype": "text/x-python",
   "name": "python",
   "nbconvert_exporter": "python",
   "pygments_lexer": "ipython3",
   "version": "3.12.9"
  }
 },
 "nbformat": 4,
 "nbformat_minor": 5
}
