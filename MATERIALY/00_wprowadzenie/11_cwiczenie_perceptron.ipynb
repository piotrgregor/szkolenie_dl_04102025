{
 "cells": [
  {
   "cell_type": "markdown",
   "id": "6dd94742-fcd3-4e0a-ba77-3f3fccc80350",
   "metadata": {
    "jupyter": {
     "source_hidden": true
    }
   },
   "source": [
    "# Ćwiczenie: Perceptron binarny\n",
    "W tym ćwiczeniu zbudujesz i przetestujesz prosty perceptron do klasyfikacji otyłości na podstawie wzrostu i wagi. Postępuj krok po kroku zgodnie z instrukcjami w notatniku. Na końcu obliczysz dokładność na zestawie testowym.\n"
   ]
  },
  {
   "cell_type": "code",
   "execution_count": 1,
   "id": "b38c16b9-4c36-4a7e-93af-11eefcceae2b",
   "metadata": {},
   "outputs": [],
   "source": [
    "import numpy as np\n",
    "\n",
    "# Funkcja aktywacji (progowa)\n",
    "def threshold_function(x: np.array, threshold: int = 0) -> np.array:\n",
    "    return np.where(x >= threshold, 1, 0)\n",
    "\n",
    "\n",
    "class Perceptron:\n",
    "\n",
    "    def __init__(self, learning_rate=0.01, epochs=100,\n",
    "                 activation_function=threshold_function,\n",
    "                 start_weights=None, start_bias=None):\n",
    "\n",
    "        # hiperparametry\n",
    "        self.lr = learning_rate\n",
    "        self.epochs = epochs\n",
    "        self.activation_func = activation_function\n",
    "\n",
    "        # parametry (uczone podczas treningu)\n",
    "        self.weights = start_weights\n",
    "        self.bias = start_bias or 0\n",
    "\n",
    "    def fit(self, features, labels):\n",
    "\n",
    "        n_samples, n_features = features.shape\n",
    "\n",
    "        # Inicjalizacja wag zerami (jeśli nie podano startowych)\n",
    "        self.weights = np.zeros(n_features)\n",
    "\n",
    "        y = np.array(labels)\n",
    "\n",
    "        # Pętla ucząca (epoki)\n",
    "        for _ in range(self.epochs):\n",
    "            # Iterujemy po wszystkich próbkach\n",
    "            for i, x_i in enumerate(features):\n",
    "                # Obliczamy wyjście liniowe\n",
    "                linear_output = self._linear_output(x_i)\n",
    "\n",
    "                # Przepuszczamy przez funkcję aktywacji\n",
    "                y_predicted = self.activation_func(linear_output)\n",
    "\n",
    "                # Obliczamy błąd (y_true - y_pred)\n",
    "                # i wyznaczamy wielkość aktualizacji\n",
    "                update = self.lr * (y[i] - y_predicted)\n",
    "\n",
    "                # Aktualizacja wag i biasu\n",
    "                self.weights += update * x_i\n",
    "                self.bias += update\n",
    "\n",
    "    def _linear_output(self, features):\n",
    "        return features @ self.weights + self.bias\n",
    "    \n",
    "    def predict(self, features):\n",
    "        linear_output = self._linear_output(features)\n",
    "        y_predicted = self.activation_func(linear_output)\n",
    "        return y_predicted\n"
   ]
  },
  {
   "cell_type": "markdown",
   "id": "7d07b1a9-852b-4b20-8249-beb5365973a9",
   "metadata": {},
   "source": [
    "## Zadanie: wczytaj dane i przygotuj etykiety\n",
    "Masz plik wzrost_waga.txt w tym samym katalogu. Każdy wiersz zawiera trzy wartości rozdzielone spacją lub tabem:\n",
    "- wzrost w metrach (float),\n",
    "- waga w kilogramach (float),\n",
    "- etykieta klasy 0/1 (int), wyznaczona na podstawie BMI (próg 25).\n",
    "\n",
    "Twoim zadaniem jest wczytać dane, wyodrębnić cechy X (wzrost, waga) i etykiety y (0/1).\n"
   ]
  },
  {
   "cell_type": "code",
   "execution_count": 2,
   "id": "20dd59f5-58dd-4ddb-ae89-8290a47180b2",
   "metadata": {},
   "outputs": [],
   "source": [
    "# Funkcja pomocnicza do wczytania danych z pliku\n"
   ]
  },
  {
   "cell_type": "code",
   "execution_count": 3,
   "id": "9a3da70d-c522-42c0-87a3-9db13b5e9a6e",
   "metadata": {},
   "outputs": [
    {
     "ename": "NameError",
     "evalue": "name 'load_data' is not defined",
     "output_type": "error",
     "traceback": [
      "\u001b[31m---------------------------------------------------------------------------\u001b[39m",
      "\u001b[31mNameError\u001b[39m                                 Traceback (most recent call last)",
      "\u001b[36mCell\u001b[39m\u001b[36m \u001b[39m\u001b[32mIn[3]\u001b[39m\u001b[32m, line 2\u001b[39m\n\u001b[32m      1\u001b[39m \u001b[38;5;66;03m# 1. Wczytaj dane\u001b[39;00m\n\u001b[32m----> \u001b[39m\u001b[32m2\u001b[39m X, y = \u001b[43mload_data\u001b[49m(\u001b[33m\"\u001b[39m\u001b[33mwzrost_waga.txt\u001b[39m\u001b[33m\"\u001b[39m)\n\u001b[32m      3\u001b[39m y\n",
      "\u001b[31mNameError\u001b[39m: name 'load_data' is not defined"
     ]
    }
   ],
   "source": [
    "# 1. Wczytaj dane\n",
    "X, y = load_data(\"wzrost_waga.txt\")\n",
    "y"
   ]
  },
  {
   "cell_type": "code",
   "execution_count": 33,
   "id": "b17d9134-25da-45e3-a431-8e2eda66be2d",
   "metadata": {},
   "outputs": [
    {
     "name": "stdout",
     "output_type": "stream",
     "text": [
      "[19.53125    22.20408163 27.77777778 29.38475666 26.31578947 20.76124567\n",
      " 29.13631634]\n",
      "X_test:\n",
      " [[ 1.6  50.  ]\n",
      " [ 1.75 68.  ]\n",
      " [ 1.8  90.  ]\n",
      " [ 1.65 80.  ]\n",
      " [ 1.9  95.  ]\n",
      " [ 1.7  60.  ]\n",
      " [ 1.55 70.  ]]\n",
      "y_test: [0. 0. 1. 1. 1. 0. 1.]\n"
     ]
    }
   ],
   "source": [
    "# 2. Utwórz i wytrenuj perceptron\n",
    "perceptron = Perceptron(learning_rate=0.1, epochs=50)\n",
    "perceptron.fit(X, y)\n",
    "print(\"Wyuczone wagi:\", perceptron.weights)\n",
    "print(\"Wyuczony bias:\", perceptron.bias)\n"
   ]
  },
  {
   "cell_type": "code",
   "execution_count": null,
   "id": "b40e4866-a481-45b2-8df9-639d760d75ea",
   "metadata": {},
   "outputs": [],
   "source": [
    "# Sprawdź na danych testowych, jak działa model\n",
    "# Dane: [wzrost (m), waga (kg), klasa]\n",
    "# Klasa obliczona na podstawie BMI (próg = 25)\n",
    "data = np.array([\n",
    "    [1.60, 50, 0],   # BMI = 19.5 → klasa 0\n",
    "    [1.75, 68, 0],   # BMI = 22.2 → klasa 0\n",
    "    [1.80, 90, 1],   # BMI = 27.8 → klasa 1\n",
    "    [1.65, 80, 1],   # BMI = 29.4 → klasa 1\n",
    "    [1.90, 95, 1],   # BMI = 26.3 → klasa 1\n",
    "    [1.70, 60, 0],   # BMI = 20.8 → klasa 0\n",
    "    [1.55, 70, 1],   # BMI = 29.1 → klasa 1\n",
    "])\n",
    "\n",
    "print(data[:,1] /data[:,0] ** 2)\n",
    "\n",
    "# Podział na cechy (X) i etykiety (y)\n",
    "X = data[:, :2]   # wzrost, waga\n",
    "y = data[:, 2]    # klasa\n",
    "\n",
    "# Dla testu możemy użyć np. wszystkich danych (albo podzielić na train/test)\n",
    "X_test = X\n",
    "y_test = y\n",
    "\n",
    "print(\"X_test:\\n\", X_test)\n",
    "print(\"y_test:\", y_test)\n"
   ]
  },
  {
   "cell_type": "code",
   "execution_count": null,
   "id": "8c90bffac4e6b4c",
   "metadata": {},
   "outputs": [],
   "source": [
    "# 3. Ocena: dokładność na danych testowych\n",
    "try:\n",
    "    y_pred = perceptron.predict(X_test)\n",
    "    acc = (y_pred == y_test).mean()\n",
    "    print(\"Dokładność na teście:\", round(float(acc), 3))\n",
    "except NameError:\n",
    "    print(\"Upewnij się, że zdefiniowałeś/aś i wytrenowałeś/aś obiekt 'perceptron'.\")\n"
   ]
  }
 ],
 "metadata": {
  "kernelspec": {
   "display_name": "Python 3 (ipykernel)",
   "language": "python",
   "name": "python3"
  },
  "language_info": {
   "codemirror_mode": {
    "name": "ipython",
    "version": 3
   },
   "file_extension": ".py",
   "mimetype": "text/x-python",
   "name": "python",
   "nbconvert_exporter": "python",
   "pygments_lexer": "ipython3",
   "version": "3.12.9"
  }
 },
 "nbformat": 4,
 "nbformat_minor": 5
}
