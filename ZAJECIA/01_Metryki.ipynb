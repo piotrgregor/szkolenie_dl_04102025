{
 "cells": [
  {
   "cell_type": "markdown",
   "id": "2cfbe406-3db2-470b-81dd-721ecce82aa4",
   "metadata": {},
   "source": [
    "| Pacjent | Rzeczywistość (chory/zdrowy) | Predykcja modelu |\n",
    "| ------- | ---------------------------- | ---------------- |\n",
    "| 1       | chory                        | chory            |\n",
    "| 2       | chory                        | zdrowy           |\n",
    "| 3       | chory                        | chory            |\n",
    "| 4       | zdrowy                       | zdrowy           |\n",
    "| 5       | zdrowy                       | zdrowy           |\n",
    "| 6       | zdrowy                       | chory            |\n",
    "| 7       | zdrowy                       | zdrowy           |\n",
    "| 8       | chory                        | chory            |\n",
    "| 9       | zdrowy                       | zdrowy           |\n",
    "| 10      | zdrowy                       | zdrowy           |\n"
   ]
  },
  {
   "cell_type": "markdown",
   "id": "21640f4d-c1dc-4117-9dcd-e205d4892e8b",
   "metadata": {},
   "source": [
    "\n",
    "# model działa dobrze:\n",
    "* model przewiduje, że ktoś jest chory i ten ktoś jest rzeczywiście chory - TP (True Positive)\n",
    "* ktoś jest zdrowy i model przewiduje, że jest zdrowy -  TN (True Negative)\n",
    "\n",
    "# model działa źle:\n",
    "* False Positive FP - model mówi chory, a rzeczywistośc mówi, że jest zdrowy\n",
    "* Flase Negative FN - model mówi, że zdrowy, ale ten ktoś choruje - najgroźniejsza sytuacja"
   ]
  },
  {
   "cell_type": "code",
   "execution_count": 2,
   "id": "540422c1-35ee-409c-8aa8-3018369e6647",
   "metadata": {},
   "outputs": [],
   "source": [
    "TP = [1, 3, 8]\n",
    "TN = [4, 5, 7, 9, 10]\n",
    "FP = [6]\n",
    "FN = [2]"
   ]
  },
  {
   "cell_type": "code",
   "execution_count": 28,
   "id": "185ad024-f19d-46f0-8665-5aa31870dcbb",
   "metadata": {},
   "outputs": [],
   "source": [
    "from dataclasses import dataclass\n",
    "\n",
    "import matplotlib.pyplot as plt\n",
    "import numpy as np\n",
    "import pandas as pd\n",
    "import seaborn as sns"
   ]
  },
  {
   "cell_type": "code",
   "execution_count": 21,
   "id": "7b867bb5-7d69-4611-851f-3db60423bc09",
   "metadata": {},
   "outputs": [
    {
     "data": {
      "text/plain": [
       "ConfusionCounts(TP=3, TN=5, FP=1, FN=1)"
      ]
     },
     "execution_count": 21,
     "metadata": {},
     "output_type": "execute_result"
    }
   ],
   "source": [
    "@dataclass\n",
    "class ConfusionCounts:\n",
    "    TP: int\n",
    "    TN: int\n",
    "    FP: int\n",
    "    FN: int\n",
    "\n",
    "\n",
    "d = ConfusionCounts(TP=len(TP), TN=len(TN), FP=len(FP), FN=len(FN))\n",
    "\n",
    "d"
   ]
  },
  {
   "cell_type": "code",
   "execution_count": 17,
   "id": "3c4f1586-c816-4e59-b487-acaeaa28fbb2",
   "metadata": {},
   "outputs": [],
   "source": [
    "conf_matrix = np.array(\n",
    "    [[len(TP), len(FP)], [len(FN), len(TN)]],\n",
    ")"
   ]
  },
  {
   "cell_type": "code",
   "execution_count": 5,
   "id": "c0b15e16-a859-4619-99a3-781895392709",
   "metadata": {},
   "outputs": [
    {
     "data": {
      "text/plain": [
       "array([[3, 1],\n",
       "       [1, 5]])"
      ]
     },
     "execution_count": 5,
     "metadata": {},
     "output_type": "execute_result"
    }
   ],
   "source": []
  },
  {
   "cell_type": "code",
   "execution_count": 18,
   "id": "efbc9008-272e-4827-af04-d1a4e3ba852a",
   "metadata": {},
   "outputs": [
    {
     "data": {
      "text/plain": [
       "<Axes: >"
      ]
     },
     "execution_count": 18,
     "metadata": {},
     "output_type": "execute_result"
    },
    {
     "data": {
      "image/png": "[encoded data removed]",
      "text/plain": [
       "<Figure size 640x480 with 2 Axes>"
      ]
     },
     "metadata": {},
     "output_type": "display_data"
    }
   ],
   "source": [
    "sns.heatmap(\n",
    "    conf_matrix,\n",
    "    cmap=\"Blues\",\n",
    "    xticklabels=(\"Rzeczywistosc: True\", \"Rzeczywistosc: False\"),\n",
    "    yticklabels=(\"Predykcja: True\", \"Predykcja: False\"),\n",
    "    annot=True,\n",
    ")"
   ]
  },
  {
   "cell_type": "markdown",
   "id": "8d692c3c-9184-4ce2-a601-cc0103f43909",
   "metadata": {},
   "source": [
    "## Accuracy\n",
    "\n",
    "\n",
    "$$\n",
    "\\text{acurracy} = \\frac{TP+TN}{TP+TN+FP+FN}\n",
    "$$"
   ]
  },
  {
   "cell_type": "code",
   "execution_count": 22,
   "id": "c9176b5b-fe40-4852-a633-ac76e6f30d7a",
   "metadata": {},
   "outputs": [
    {
     "data": {
      "text/plain": [
       "0.8"
      ]
     },
     "execution_count": 22,
     "metadata": {},
     "output_type": "execute_result"
    }
   ],
   "source": [
    "accuracy = (d.TP + d.TN) / (d.TP + d.TN + d.FP + d.FN)\n",
    "accuracy"
   ]
  },
  {
   "cell_type": "markdown",
   "id": "2052a7dc-c7b6-4f8f-880d-fde50221eaa0",
   "metadata": {},
   "source": [
    "## Precision\n",
    "\n",
    "\n",
    "$$\n",
    "\\text{Precision} = \\frac{TP}{TP+FP}\n",
    "$$\n",
    "\n",
    "\n",
    "## Recall\n",
    "\n",
    "\n",
    "$$\n",
    "\\text{Recall} = \\frac{TP}{TP+FN}\n",
    "$$"
   ]
  },
  {
   "cell_type": "code",
   "execution_count": 23,
   "id": "fbab9554-9b76-4a7b-a15a-7be912c824b4",
   "metadata": {},
   "outputs": [],
   "source": [
    "precision = d.TP / (d.TP + d.FP)\n",
    "recall = d.TP / (d.TP + d.FN)"
   ]
  },
  {
   "cell_type": "code",
   "execution_count": 24,
   "id": "85f53100-b6a9-48e9-af5d-77b7da52e9b9",
   "metadata": {},
   "outputs": [
    {
     "data": {
      "text/plain": [
       "(0.75, 0.75)"
      ]
     },
     "execution_count": 24,
     "metadata": {},
     "output_type": "execute_result"
    }
   ],
   "source": [
    "precision, recall"
   ]
  },
  {
   "cell_type": "markdown",
   "id": "cb1ce2ff-a737-49b1-967b-62a5bfa7982e",
   "metadata": {},
   "source": [
    "## F1\n",
    "\n",
    "$$\n",
    "\\text{F1} = 2 \\cdot \\frac{Precision \\cdot Recall}{Recall + Precision}\n",
    "$$\n"
   ]
  },
  {
   "cell_type": "code",
   "execution_count": 25,
   "id": "836a90be-3082-46fb-bba0-e7ab917094a3",
   "metadata": {},
   "outputs": [],
   "source": [
    "f1 = 2 * (precision * recall) / (precision + recall)"
   ]
  },
  {
   "cell_type": "code",
   "execution_count": 26,
   "id": "75aff0f9-8c6d-413c-871b-fafa3155bb39",
   "metadata": {},
   "outputs": [
    {
     "data": {
      "text/plain": [
       "0.75"
      ]
     },
     "execution_count": 26,
     "metadata": {},
     "output_type": "execute_result"
    }
   ],
   "source": [
    "f1"
   ]
  },
  {
   "cell_type": "code",
   "execution_count": 27,
   "id": "5996debe-91d6-41a9-8802-e9d717bc453f",
   "metadata": {},
   "outputs": [],
   "source": [
    "##  ROC-AUC i PR-AUC (Area Under Curve)\n",
    "### ROC - Receiver Operating Characteristic\n",
    "### PR - Precision Recall"
   ]
  },
  {
   "cell_type": "code",
   "execution_count": 30,
   "id": "ee63628c-9cbf-42aa-aeef-fce6d1613fab",
   "metadata": {},
   "outputs": [
    {
     "data": {
      "text/html": [
       "<div>\n",
       "<style scoped>\n",
       "    .dataframe tbody tr th:only-of-type {\n",
       "        vertical-align: middle;\n",
       "    }\n",
       "\n",
       "    .dataframe tbody tr th {\n",
       "        vertical-align: top;\n",
       "    }\n",
       "\n",
       "    .dataframe thead th {\n",
       "        text-align: right;\n",
       "    }\n",
       "</style>\n",
       "<table border=\"1\" class=\"dataframe\">\n",
       "  <thead>\n",
       "    <tr style=\"text-align: right;\">\n",
       "      <th></th>\n",
       "      <th>id</th>\n",
       "      <th>y_true</th>\n",
       "      <th>pred</th>\n",
       "    </tr>\n",
       "  </thead>\n",
       "  <tbody>\n",
       "    <tr>\n",
       "      <th>0</th>\n",
       "      <td>1</td>\n",
       "      <td>1</td>\n",
       "      <td>0.90</td>\n",
       "    </tr>\n",
       "    <tr>\n",
       "      <th>1</th>\n",
       "      <td>2</td>\n",
       "      <td>1</td>\n",
       "      <td>0.40</td>\n",
       "    </tr>\n",
       "    <tr>\n",
       "      <th>2</th>\n",
       "      <td>3</td>\n",
       "      <td>1</td>\n",
       "      <td>0.80</td>\n",
       "    </tr>\n",
       "    <tr>\n",
       "      <th>3</th>\n",
       "      <td>4</td>\n",
       "      <td>0</td>\n",
       "      <td>0.10</td>\n",
       "    </tr>\n",
       "    <tr>\n",
       "      <th>4</th>\n",
       "      <td>5</td>\n",
       "      <td>0</td>\n",
       "      <td>0.20</td>\n",
       "    </tr>\n",
       "    <tr>\n",
       "      <th>5</th>\n",
       "      <td>6</td>\n",
       "      <td>0</td>\n",
       "      <td>0.70</td>\n",
       "    </tr>\n",
       "    <tr>\n",
       "      <th>6</th>\n",
       "      <td>7</td>\n",
       "      <td>0</td>\n",
       "      <td>0.05</td>\n",
       "    </tr>\n",
       "    <tr>\n",
       "      <th>7</th>\n",
       "      <td>8</td>\n",
       "      <td>1</td>\n",
       "      <td>0.60</td>\n",
       "    </tr>\n",
       "    <tr>\n",
       "      <th>8</th>\n",
       "      <td>9</td>\n",
       "      <td>0</td>\n",
       "      <td>0.15</td>\n",
       "    </tr>\n",
       "    <tr>\n",
       "      <th>9</th>\n",
       "      <td>10</td>\n",
       "      <td>0</td>\n",
       "      <td>0.30</td>\n",
       "    </tr>\n",
       "  </tbody>\n",
       "</table>\n",
       "</div>"
      ],
      "text/plain": [
       "   id  y_true  pred\n",
       "0   1       1  0.90\n",
       "1   2       1  0.40\n",
       "2   3       1  0.80\n",
       "3   4       0  0.10\n",
       "4   5       0  0.20\n",
       "5   6       0  0.70\n",
       "6   7       0  0.05\n",
       "7   8       1  0.60\n",
       "8   9       0  0.15\n",
       "9  10       0  0.30"
      ]
     },
     "execution_count": 30,
     "metadata": {},
     "output_type": "execute_result"
    }
   ],
   "source": [
    "# index, rzeczywistsc, prawdopodobienstwo modelu\n",
    "\n",
    "dane = [\n",
    "    (1, 1, 0.90),\n",
    "    (2, 1, 0.40),\n",
    "    (3, 1, 0.80),\n",
    "    (4, 0, 0.10),\n",
    "    (5, 0, 0.20),\n",
    "    (6, 0, 0.70),\n",
    "    (7, 0, 0.05),\n",
    "    (8, 1, 0.60),\n",
    "    (9, 0, 0.15),\n",
    "    (10, 0, 0.30),\n",
    "]\n",
    "\n",
    "df = pd.DataFrame(dane, columns=[\"id\", \"y_true\", \"pred\"])\n",
    "df"
   ]
  },
  {
   "cell_type": "code",
   "execution_count": 31,
   "id": "e94bcad3-e2e2-4a73-9e01-58e8dcda7170",
   "metadata": {},
   "outputs": [
    {
     "data": {
      "text/html": [
       "<div>\n",
       "<style scoped>\n",
       "    .dataframe tbody tr th:only-of-type {\n",
       "        vertical-align: middle;\n",
       "    }\n",
       "\n",
       "    .dataframe tbody tr th {\n",
       "        vertical-align: top;\n",
       "    }\n",
       "\n",
       "    .dataframe thead th {\n",
       "        text-align: right;\n",
       "    }\n",
       "</style>\n",
       "<table border=\"1\" class=\"dataframe\">\n",
       "  <thead>\n",
       "    <tr style=\"text-align: right;\">\n",
       "      <th></th>\n",
       "      <th>id</th>\n",
       "      <th>y_true</th>\n",
       "      <th>pred</th>\n",
       "      <th>labelka</th>\n",
       "    </tr>\n",
       "  </thead>\n",
       "  <tbody>\n",
       "    <tr>\n",
       "      <th>0</th>\n",
       "      <td>1</td>\n",
       "      <td>1</td>\n",
       "      <td>0.90</td>\n",
       "      <td>chory</td>\n",
       "    </tr>\n",
       "    <tr>\n",
       "      <th>1</th>\n",
       "      <td>2</td>\n",
       "      <td>1</td>\n",
       "      <td>0.40</td>\n",
       "      <td>chory</td>\n",
       "    </tr>\n",
       "    <tr>\n",
       "      <th>2</th>\n",
       "      <td>3</td>\n",
       "      <td>1</td>\n",
       "      <td>0.80</td>\n",
       "      <td>chory</td>\n",
       "    </tr>\n",
       "    <tr>\n",
       "      <th>3</th>\n",
       "      <td>4</td>\n",
       "      <td>0</td>\n",
       "      <td>0.10</td>\n",
       "      <td>zdrowy</td>\n",
       "    </tr>\n",
       "    <tr>\n",
       "      <th>4</th>\n",
       "      <td>5</td>\n",
       "      <td>0</td>\n",
       "      <td>0.20</td>\n",
       "      <td>zdrowy</td>\n",
       "    </tr>\n",
       "    <tr>\n",
       "      <th>5</th>\n",
       "      <td>6</td>\n",
       "      <td>0</td>\n",
       "      <td>0.70</td>\n",
       "      <td>zdrowy</td>\n",
       "    </tr>\n",
       "    <tr>\n",
       "      <th>6</th>\n",
       "      <td>7</td>\n",
       "      <td>0</td>\n",
       "      <td>0.05</td>\n",
       "      <td>zdrowy</td>\n",
       "    </tr>\n",
       "    <tr>\n",
       "      <th>7</th>\n",
       "      <td>8</td>\n",
       "      <td>1</td>\n",
       "      <td>0.60</td>\n",
       "      <td>chory</td>\n",
       "    </tr>\n",
       "    <tr>\n",
       "      <th>8</th>\n",
       "      <td>9</td>\n",
       "      <td>0</td>\n",
       "      <td>0.15</td>\n",
       "      <td>zdrowy</td>\n",
       "    </tr>\n",
       "    <tr>\n",
       "      <th>9</th>\n",
       "      <td>10</td>\n",
       "      <td>0</td>\n",
       "      <td>0.30</td>\n",
       "      <td>zdrowy</td>\n",
       "    </tr>\n",
       "  </tbody>\n",
       "</table>\n",
       "</div>"
      ],
      "text/plain": [
       "   id  y_true  pred labelka\n",
       "0   1       1  0.90   chory\n",
       "1   2       1  0.40   chory\n",
       "2   3       1  0.80   chory\n",
       "3   4       0  0.10  zdrowy\n",
       "4   5       0  0.20  zdrowy\n",
       "5   6       0  0.70  zdrowy\n",
       "6   7       0  0.05  zdrowy\n",
       "7   8       1  0.60   chory\n",
       "8   9       0  0.15  zdrowy\n",
       "9  10       0  0.30  zdrowy"
      ]
     },
     "execution_count": 31,
     "metadata": {},
     "output_type": "execute_result"
    }
   ],
   "source": [
    "df[\"labelka\"] = np.where(df[\"y_true\"] == 1, \"chory\", \"zdrowy\")\n",
    "df"
   ]
  },
  {
   "cell_type": "code",
   "execution_count": 35,
   "id": "35f0c1f1-8356-45a0-8712-b53163b3f1fb",
   "metadata": {},
   "outputs": [
    {
     "data": {
      "text/html": [
       "<div>\n",
       "<style scoped>\n",
       "    .dataframe tbody tr th:only-of-type {\n",
       "        vertical-align: middle;\n",
       "    }\n",
       "\n",
       "    .dataframe tbody tr th {\n",
       "        vertical-align: top;\n",
       "    }\n",
       "\n",
       "    .dataframe thead th {\n",
       "        text-align: right;\n",
       "    }\n",
       "</style>\n",
       "<table border=\"1\" class=\"dataframe\">\n",
       "  <thead>\n",
       "    <tr style=\"text-align: right;\">\n",
       "      <th></th>\n",
       "      <th>id</th>\n",
       "      <th>labelka</th>\n",
       "      <th>y_true</th>\n",
       "      <th>pred</th>\n",
       "      <th>pred@0.90</th>\n",
       "      <th>pred@0.70</th>\n",
       "      <th>pred@0.50</th>\n",
       "      <th>pred@0.30</th>\n",
       "      <th>pred@0.10</th>\n",
       "    </tr>\n",
       "  </thead>\n",
       "  <tbody>\n",
       "    <tr>\n",
       "      <th>0</th>\n",
       "      <td>1</td>\n",
       "      <td>chory</td>\n",
       "      <td>1</td>\n",
       "      <td>0.90</td>\n",
       "      <td>1</td>\n",
       "      <td>1</td>\n",
       "      <td>1</td>\n",
       "      <td>1</td>\n",
       "      <td>1</td>\n",
       "    </tr>\n",
       "    <tr>\n",
       "      <th>1</th>\n",
       "      <td>2</td>\n",
       "      <td>chory</td>\n",
       "      <td>1</td>\n",
       "      <td>0.40</td>\n",
       "      <td>0</td>\n",
       "      <td>0</td>\n",
       "      <td>0</td>\n",
       "      <td>1</td>\n",
       "      <td>1</td>\n",
       "    </tr>\n",
       "    <tr>\n",
       "      <th>2</th>\n",
       "      <td>3</td>\n",
       "      <td>chory</td>\n",
       "      <td>1</td>\n",
       "      <td>0.80</td>\n",
       "      <td>0</td>\n",
       "      <td>1</td>\n",
       "      <td>1</td>\n",
       "      <td>1</td>\n",
       "      <td>1</td>\n",
       "    </tr>\n",
       "    <tr>\n",
       "      <th>3</th>\n",
       "      <td>4</td>\n",
       "      <td>zdrowy</td>\n",
       "      <td>0</td>\n",
       "      <td>0.10</td>\n",
       "      <td>0</td>\n",
       "      <td>0</td>\n",
       "      <td>0</td>\n",
       "      <td>0</td>\n",
       "      <td>1</td>\n",
       "    </tr>\n",
       "    <tr>\n",
       "      <th>4</th>\n",
       "      <td>5</td>\n",
       "      <td>zdrowy</td>\n",
       "      <td>0</td>\n",
       "      <td>0.20</td>\n",
       "      <td>0</td>\n",
       "      <td>0</td>\n",
       "      <td>0</td>\n",
       "      <td>0</td>\n",
       "      <td>1</td>\n",
       "    </tr>\n",
       "    <tr>\n",
       "      <th>5</th>\n",
       "      <td>6</td>\n",
       "      <td>zdrowy</td>\n",
       "      <td>0</td>\n",
       "      <td>0.70</td>\n",
       "      <td>0</td>\n",
       "      <td>1</td>\n",
       "      <td>1</td>\n",
       "      <td>1</td>\n",
       "      <td>1</td>\n",
       "    </tr>\n",
       "    <tr>\n",
       "      <th>6</th>\n",
       "      <td>7</td>\n",
       "      <td>zdrowy</td>\n",
       "      <td>0</td>\n",
       "      <td>0.05</td>\n",
       "      <td>0</td>\n",
       "      <td>0</td>\n",
       "      <td>0</td>\n",
       "      <td>0</td>\n",
       "      <td>0</td>\n",
       "    </tr>\n",
       "    <tr>\n",
       "      <th>7</th>\n",
       "      <td>8</td>\n",
       "      <td>chory</td>\n",
       "      <td>1</td>\n",
       "      <td>0.60</td>\n",
       "      <td>0</td>\n",
       "      <td>0</td>\n",
       "      <td>1</td>\n",
       "      <td>1</td>\n",
       "      <td>1</td>\n",
       "    </tr>\n",
       "    <tr>\n",
       "      <th>8</th>\n",
       "      <td>9</td>\n",
       "      <td>zdrowy</td>\n",
       "      <td>0</td>\n",
       "      <td>0.15</td>\n",
       "      <td>0</td>\n",
       "      <td>0</td>\n",
       "      <td>0</td>\n",
       "      <td>0</td>\n",
       "      <td>1</td>\n",
       "    </tr>\n",
       "    <tr>\n",
       "      <th>9</th>\n",
       "      <td>10</td>\n",
       "      <td>zdrowy</td>\n",
       "      <td>0</td>\n",
       "      <td>0.30</td>\n",
       "      <td>0</td>\n",
       "      <td>0</td>\n",
       "      <td>0</td>\n",
       "      <td>1</td>\n",
       "      <td>1</td>\n",
       "    </tr>\n",
       "  </tbody>\n",
       "</table>\n",
       "</div>"
      ],
      "text/plain": [
       "   id labelka  y_true  pred  pred@0.90  pred@0.70  pred@0.50  pred@0.30  \\\n",
       "0   1   chory       1  0.90          1          1          1          1   \n",
       "1   2   chory       1  0.40          0          0          0          1   \n",
       "2   3   chory       1  0.80          0          1          1          1   \n",
       "3   4  zdrowy       0  0.10          0          0          0          0   \n",
       "4   5  zdrowy       0  0.20          0          0          0          0   \n",
       "5   6  zdrowy       0  0.70          0          1          1          1   \n",
       "6   7  zdrowy       0  0.05          0          0          0          0   \n",
       "7   8   chory       1  0.60          0          0          1          1   \n",
       "8   9  zdrowy       0  0.15          0          0          0          0   \n",
       "9  10  zdrowy       0  0.30          0          0          0          1   \n",
       "\n",
       "   pred@0.10  \n",
       "0          1  \n",
       "1          1  \n",
       "2          1  \n",
       "3          1  \n",
       "4          1  \n",
       "5          1  \n",
       "6          0  \n",
       "7          1  \n",
       "8          1  \n",
       "9          1  "
      ]
     },
     "execution_count": 35,
     "metadata": {},
     "output_type": "execute_result"
    }
   ],
   "source": [
    "progi = [0.9, 0.7, 0.5, 0.3, 0.1]\n",
    "\n",
    "df = df.assign(**{f\"pred@{t:.2f}\": (df[\"pred\"] >= t).astype(int) for t in progi})\n",
    "df\n",
    "\n",
    "pred_cols = [f\"pred@{t:.2f}\" for t in progi]\n",
    "pred_cols\n",
    "\n",
    "df = df[[\"id\", \"labelka\", \"y_true\", \"pred\"] + pred_cols]\n",
    "df"
   ]
  },
  {
   "cell_type": "markdown",
   "id": "da243018-d0ba-464d-b11d-613e3c4f9d67",
   "metadata": {},
   "source": [
    "## TPR = True Positive Rate\n",
    "\n",
    "TPR = Recall\n",
    "\n",
    "## FPR = False Positive Rate\n",
    "\n",
    "$FPR = FP/(FP+TN)$"
   ]
  },
  {
   "cell_type": "code",
   "execution_count": 36,
   "id": "c058c47d-3da5-47f8-909c-0e2cdfac6004",
   "metadata": {},
   "outputs": [
    {
     "data": {
      "text/plain": [
       "array([1, 1, 1, 0, 0, 0, 0, 1, 0, 0])"
      ]
     },
     "execution_count": 36,
     "metadata": {},
     "output_type": "execute_result"
    }
   ],
   "source": [
    "np.asarray(df.y_true)"
   ]
  },
  {
   "cell_type": "code",
   "execution_count": 37,
   "id": "10706481-f60d-46d2-85b8-4fed9db78a55",
   "metadata": {},
   "outputs": [],
   "source": [
    "def confusion_counts(y_true, y_pred):\n",
    "    y_true = np.asarray(y_true)\n",
    "    y_pred = np.asarray(y_pred)\n",
    "\n",
    "    TP = int(((y_true == 1) & (y_pred == 1)).sum())\n",
    "    FP = int(((y_true == 0) & (y_pred == 1)).sum())\n",
    "    TN = int(((y_true == 0) & (y_pred == 0)).sum())\n",
    "    FN = int(((y_true == 1) & (y_pred == 0)).sum())\n",
    "\n",
    "    return TP, FP, TN, FN\n",
    "\n",
    "def metrics(y_true, y_pred):\n",
    "    TP, FP, TN, FN = confusion_counts(y_true, y_pred)\n",
    "\n",
    "    total  = TP + FP + TN + FN\n",
    "    acc = (TP + TN) / total\n",
    "    prec = TP / (TP + FP) if TP + FP else 0.0\n",
    "    rec = TP / (TP + FN) if TP + FN else 0.0\n",
    "    f1 = 2 * prec * rec / (prec + rec) if (prec + rec) else 0.0\n",
    "\n",
    "    tpr = rec\n",
    "    fpr = FP / (FP + TN) if FP + TN else 0.0\n",
    "\n",
    "    return TP, FP, TN, FN, acc, prec, rec, f1, tpr, fpr\n",
    "\n"
   ]
  },
  {
   "cell_type": "code",
   "execution_count": 39,
   "id": "4e9bbc49-cdcb-4636-b513-8ba77ca8d6a8",
   "metadata": {},
   "outputs": [
    {
     "data": {
      "text/html": [
       "<div>\n",
       "<style scoped>\n",
       "    .dataframe tbody tr th:only-of-type {\n",
       "        vertical-align: middle;\n",
       "    }\n",
       "\n",
       "    .dataframe tbody tr th {\n",
       "        vertical-align: top;\n",
       "    }\n",
       "\n",
       "    .dataframe thead th {\n",
       "        text-align: right;\n",
       "    }\n",
       "</style>\n",
       "<table border=\"1\" class=\"dataframe\">\n",
       "  <thead>\n",
       "    <tr style=\"text-align: right;\">\n",
       "      <th></th>\n",
       "      <th>pred_col</th>\n",
       "      <th>threshold</th>\n",
       "      <th>TP</th>\n",
       "      <th>FP</th>\n",
       "      <th>TN</th>\n",
       "      <th>FN</th>\n",
       "      <th>accuracy</th>\n",
       "      <th>precision</th>\n",
       "      <th>recall</th>\n",
       "      <th>f1</th>\n",
       "      <th>TPR</th>\n",
       "      <th>FPR</th>\n",
       "    </tr>\n",
       "  </thead>\n",
       "  <tbody>\n",
       "    <tr>\n",
       "      <th>0</th>\n",
       "      <td>pred@0.90</td>\n",
       "      <td>0.9</td>\n",
       "      <td>1</td>\n",
       "      <td>0</td>\n",
       "      <td>6</td>\n",
       "      <td>3</td>\n",
       "      <td>0.7</td>\n",
       "      <td>1.000000</td>\n",
       "      <td>0.25</td>\n",
       "      <td>0.400000</td>\n",
       "      <td>0.25</td>\n",
       "      <td>0.000000</td>\n",
       "    </tr>\n",
       "    <tr>\n",
       "      <th>1</th>\n",
       "      <td>pred@0.70</td>\n",
       "      <td>0.7</td>\n",
       "      <td>2</td>\n",
       "      <td>1</td>\n",
       "      <td>5</td>\n",
       "      <td>2</td>\n",
       "      <td>0.7</td>\n",
       "      <td>0.666667</td>\n",
       "      <td>0.50</td>\n",
       "      <td>0.571429</td>\n",
       "      <td>0.50</td>\n",
       "      <td>0.166667</td>\n",
       "    </tr>\n",
       "    <tr>\n",
       "      <th>2</th>\n",
       "      <td>pred@0.50</td>\n",
       "      <td>0.5</td>\n",
       "      <td>3</td>\n",
       "      <td>1</td>\n",
       "      <td>5</td>\n",
       "      <td>1</td>\n",
       "      <td>0.8</td>\n",
       "      <td>0.750000</td>\n",
       "      <td>0.75</td>\n",
       "      <td>0.750000</td>\n",
       "      <td>0.75</td>\n",
       "      <td>0.166667</td>\n",
       "    </tr>\n",
       "    <tr>\n",
       "      <th>3</th>\n",
       "      <td>pred@0.30</td>\n",
       "      <td>0.3</td>\n",
       "      <td>4</td>\n",
       "      <td>2</td>\n",
       "      <td>4</td>\n",
       "      <td>0</td>\n",
       "      <td>0.8</td>\n",
       "      <td>0.666667</td>\n",
       "      <td>1.00</td>\n",
       "      <td>0.800000</td>\n",
       "      <td>1.00</td>\n",
       "      <td>0.333333</td>\n",
       "    </tr>\n",
       "    <tr>\n",
       "      <th>4</th>\n",
       "      <td>pred@0.10</td>\n",
       "      <td>0.1</td>\n",
       "      <td>4</td>\n",
       "      <td>5</td>\n",
       "      <td>1</td>\n",
       "      <td>0</td>\n",
       "      <td>0.5</td>\n",
       "      <td>0.444444</td>\n",
       "      <td>1.00</td>\n",
       "      <td>0.615385</td>\n",
       "      <td>1.00</td>\n",
       "      <td>0.833333</td>\n",
       "    </tr>\n",
       "  </tbody>\n",
       "</table>\n",
       "</div>"
      ],
      "text/plain": [
       "    pred_col  threshold  TP  FP  TN  FN  accuracy  precision  recall  \\\n",
       "0  pred@0.90        0.9   1   0   6   3       0.7   1.000000    0.25   \n",
       "1  pred@0.70        0.7   2   1   5   2       0.7   0.666667    0.50   \n",
       "2  pred@0.50        0.5   3   1   5   1       0.8   0.750000    0.75   \n",
       "3  pred@0.30        0.3   4   2   4   0       0.8   0.666667    1.00   \n",
       "4  pred@0.10        0.1   4   5   1   0       0.5   0.444444    1.00   \n",
       "\n",
       "         f1   TPR       FPR  \n",
       "0  0.400000  0.25  0.000000  \n",
       "1  0.571429  0.50  0.166667  \n",
       "2  0.750000  0.75  0.166667  \n",
       "3  0.800000  1.00  0.333333  \n",
       "4  0.615385  1.00  0.833333  "
      ]
     },
     "execution_count": 39,
     "metadata": {},
     "output_type": "execute_result"
    }
   ],
   "source": [
    "rows = []\n",
    "\n",
    "for col in pred_cols:\n",
    "    TP, FP, TN, FN, acc, prec, rec, f1, tpr, fpr = metrics(df[\"y_true\"], df[col])\n",
    "    thr = float(col.split(\"@\", 1)[1]) if \"@\" in col else None\n",
    "\n",
    "    rows.append(\n",
    "        {\n",
    "            \"pred_col\": col, \n",
    "            \"threshold\": thr, \n",
    "            \"TP\": TP, \"FP\": FP, \"TN\": TN, \"FN\": FN,\n",
    "            \"accuracy\": acc,\n",
    "            \"precision\": prec, \n",
    "            \"recall\": rec,\n",
    "            \"f1\": f1, \n",
    "            \"TPR\": tpr, \n",
    "            \"FPR\": fpr\n",
    "            \n",
    "        }\n",
    "    )\n",
    "\n",
    "metrics_df = pd.DataFrame(rows)\n",
    "metrics_df\n",
    "                                                           \n",
    "                                                           "
   ]
  },
  {
   "cell_type": "code",
   "execution_count": 44,
   "id": "20b247c1-b9b6-48c5-b306-635c25685de2",
   "metadata": {
    "jupyter": {
     "source_hidden": true
    }
   },
   "outputs": [
    {
     "name": "stdout",
     "output_type": "stream",
     "text": [
      "ROC AUC = 0.917\n"
     ]
    },
    {
     "data": {
      "image/png": "[encoded data removed]",
      "text/plain": [
       "<Figure size 600x600 with 1 Axes>"
      ]
     },
     "metadata": {},
     "output_type": "display_data"
    }
   ],
   "source": [
    "from sklearn.metrics import roc_curve, roc_auc_score\n",
    "\n",
    "\n",
    "y_true = df[\"y_true\"]\n",
    "y_score = df[\"pred\"]\n",
    "\n",
    "roc_auc = roc_auc_score(y_true, y_score)\n",
    "\n",
    "print(f\"ROC AUC = {roc_auc:.3f}\")\n",
    "\n",
    "# --- ROC curve (pełna) ---\n",
    "fpr, tpr, roc_thr = roc_curve(y_true, y_score)\n",
    "plt.figure(figsize=(6,6))\n",
    "plt.plot(fpr, tpr, label=f\"ROC (AUC = {roc_auc:.3f})\")\n",
    "plt.plot([0,1], [0,1], linestyle=\"--\", color=\"gray\", label=\"Losowy klasyfikator\")\n",
    "\n",
    "\n",
    "# --- punkty z metrics_df  ---\n",
    "plt.scatter(metrics_df[\"FPR\"], metrics_df[\"TPR\"], color=\"red\", label=\"Wybrane progi\")\n",
    "\n",
    "# --- zwykłe łączenie punktów ---\n",
    "plt.plot(metrics_df[\"FPR\"], metrics_df[\"TPR\"], linestyle=\"-.\", color=\"gray\", label=\"Wybrane progi\")\n",
    "\n",
    "# etykiety progów\n",
    "for f, t, thr in metrics_df[[\"FPR\", \"TPR\", \"threshold\"]].itertuples(index=False):\n",
    "    plt.text(f+0.02, t-0.11, f\"{thr:.2f}\\nFPR: {f:.3f}\\nTPR: {t:.3f}\", fontsize=9, color=\"red\")\n",
    "\n",
    "\n",
    "krotki_x = 0.167\n",
    "dlugi_x = 1 - krotki_x\n",
    "\n",
    "x1 = [0.0, krotki_x, krotki_x, 0.0]\n",
    "y1 = [0.0, 0.0, 0.5, 0.5]\n",
    "plt.fill(x1, y1, alpha=0.3, color=\"orange\", edgecolor=\"black\", label=rf\"Prostokąt 1: $0.167\\cdot0.5={0.167 * 0.5}$\")\n",
    "# 2. prostokąt (wyższy)\n",
    "\n",
    "x2 = [krotki_x, 1, 1, krotki_x]\n",
    "y2 = [0, 0, 1, 1]\n",
    "plt.fill(x2, y2, alpha=0.3, color=\"lightblue\", edgecolor=\"black\", label=rf\"Prostokąt 2: ${1-0.167}\\cdot1={(1-0.167) * 1}$\")\n",
    "\n",
    "\n",
    "plt.text(0.5, 0.5, f\"AUC: {0.167 * 0.5} + {1-0.167} = {0.167*0.5 + 1-0.167:0.2f}\", fontsize=9, color=\"red\")\n",
    "\n",
    "plt.xlabel(\"False Positive Rate (FPR)\")\n",
    "plt.ylabel(\"True Positive Rate (TPR)\")\n",
    "plt.title(\"ROC curve\")\n",
    "\n",
    "\n",
    "plt.legend(loc=\"center left\", bbox_to_anchor=(1.02, 0.5), frameon=False)\n",
    "\n",
    "plt.grid(True)\n",
    "plt.show()"
   ]
  },
  {
   "cell_type": "code",
   "execution_count": 45,
   "id": "6ad6b92d-bccd-42ad-b739-bf6d80fd746b",
   "metadata": {},
   "outputs": [
    {
     "name": "stdout",
     "output_type": "stream",
     "text": [
      "Average Precision (AP) = 0.887\n"
     ]
    },
    {
     "data": {
      "image/png": "[encoded data removed]",
      "text/plain": [
       "<Figure size 600x600 with 1 Axes>"
      ]
     },
     "metadata": {},
     "output_type": "display_data"
    }
   ],
   "source": [
    "from sklearn.metrics import precision_recall_curve, average_precision_score\n",
    "\n",
    "avg_prec = average_precision_score(y_true, y_score)\n",
    "print(f\"Average Precision (AP) = {avg_prec:.3f}\")\n",
    "\n",
    "# --- Precision-Recall curve (pełna) ---\n",
    "prec, rec, pr_thr = precision_recall_curve(y_true, y_score)\n",
    "\n",
    "plt.figure(figsize=(6,6))\n",
    "plt.plot(rec, prec, label=f\"PR (AP = {avg_prec:.3f})\")\n",
    "\n",
    "# --- punkty z metrics_df (jedna seria) ---\n",
    "plt.scatter(metrics_df[\"recall\"], metrics_df[\"precision\"], color=\"red\", label=\"Wybrane progi\")\n",
    "\n",
    "# etykiety progów przy punktach\n",
    "for r, p, thr in metrics_df[[\"recall\", \"precision\", \"threshold\"]].itertuples(index=False):\n",
    "    plt.text(r+0.02, p-0.02, f\"{thr:.2f}\", fontsize=9, color=\"red\")\n",
    "\n",
    "\n",
    "# --- linia prewalencji (baseline losowego klasyfikatora) ---\n",
    "prevalence = float(np.mean(y_true))  # u Ciebie będzie 0.40\n",
    "plt.axhline(prevalence, linestyle=\"--\", color=\"gray\",\n",
    "            label=f\"Prewalencja (baseline) = {prevalence:.2f}\")\n",
    "\n",
    "plt.xlabel(\"Recall (TPR)\")\n",
    "plt.ylabel(\"Precision\")\n",
    "plt.title(\"Precision-Recall curve\")\n",
    "plt.legend()\n",
    "plt.grid(True)\n",
    "plt.show()\n"
   ]
  },
  {
   "cell_type": "markdown",
   "id": "4a9fd8d3-f426-4abe-9f8e-22d00920efcb",
   "metadata": {},
   "source": [
    "## Regresja\n",
    "\n",
    "MAE (Mean Absoulte Error)\n",
    "RMSE (Root Mean Squared Error)\n",
    "R^2"
   ]
  },
  {
   "cell_type": "code",
   "execution_count": 46,
   "id": "6f01afed-27f4-40e9-b100-d3d0fc877c26",
   "metadata": {},
   "outputs": [
    {
     "name": "stdout",
     "output_type": "stream",
     "text": [
      "RMSE (małe błędy): 0.20000000000000004\n",
      "RMSE (duży błąd w 1 elemencie): 3.410278580995987\n"
     ]
    }
   ],
   "source": [
    "import numpy as np\n",
    "\n",
    "# Dane rzeczywiste\n",
    "y_true = np.array([3.0, 2.5, 4.1])\n",
    "\n",
    "# 🔹 Przypadek 1: wszystkie przewidywania blisko wartości rzeczywistych\n",
    "y_pred_good = np.array([2.8, 2.7, 3.9])\n",
    "rmse_good = np.sqrt(np.mean((y_true - y_pred_good) ** 2))\n",
    "print(\"RMSE (małe błędy):\", rmse_good)  # ~0.2\n",
    "\n",
    "# 🔹 Przypadek 2: dwa przewidywania dobre, ale jeden duży błąd\n",
    "y_pred_bad = np.array([2.8, 2.7, 10.0])\n",
    "rmse_bad = np.sqrt(np.mean((y_true - y_pred_bad) ** 2))\n",
    "print(\"RMSE (duży błąd w 1 elemencie):\", rmse_bad)  # ~3.41"
   ]
  },
  {
   "cell_type": "markdown",
   "id": "3e622e27-d593-4845-903c-e51c312dd5c9",
   "metadata": {},
   "source": [
    "## rekomendacjach\n",
    "\n",
    "## Rekomendacje i ranking\n",
    "\n",
    "W systemach rekomendacyjnych (np. Netflix, Spotify, Allegro) oraz w wyszukiwarkach ważne jest **nie tylko przewidzenie** czy coś będzie trafne, ale **na jakiej pozycji** ten wynik się pojawi.\n",
    "Dlatego oprócz klasycznych miar (MAE, RMSE, R²), używa się metryk **rankingowych**.\n",
    "\n",
    "---\n",
    "\n",
    "### Precision@K\n",
    "\n",
    "$$\n",
    "Precision@K = \\frac{\\text{liczba trafnych w top-K}}{K}\n",
    "$$\n",
    "\n",
    "* **Co mierzy?** Odsetek trafnych elementów w pierwszych *K* wynikach.\n",
    "* **Zastosowanie:**\n",
    "\n",
    "  * rekomendacje produktów – ile z top-5 faktycznie interesuje użytkownika,\n",
    "  * wyszukiwarki – ile pierwszych 10 wyników jest naprawdę istotnych.\n",
    "\n",
    "✅ Wysoka precyzja = mało „śmieci” na liście.\n",
    "\n",
    "---\n",
    "\n",
    "### Recall@K\n",
    "\n",
    "$$\n",
    "Recall@K = \\frac{\\text{liczba trafnych w top-K}}{\\text{wszystkie trafne}}\n",
    "$$\n",
    "\n",
    "* **Co mierzy?** Jak duży odsetek wszystkich trafnych elementów udało się pokazać w top-K.\n",
    "* **Zastosowanie:**\n",
    "\n",
    "  * ważne, gdy zależy nam, by użytkownik **nie przegapił** wartościowych wyników (np. w medycynie, gdy system ma wykrywać możliwe diagnozy).\n",
    "\n",
    "✅ Wysoki recall = pokazano większość tego, co istotne, nawet jeśli lista ma też „śmieci”.\n",
    "\n",
    "---\n",
    "\n",
    "### MAP (Mean Average Precision)\n",
    "\n",
    "* Oblicza **średnią dokładność** dla wielu wartości *K*.\n",
    "* **Co mierzy?** Uwzględnia zarówno precyzję, jak i kolejność, w której pojawiają się trafne elementy.\n",
    "* **Zastosowanie:**\n",
    "\n",
    "  * ocena całej listy rankingowej,\n",
    "  * porównywanie różnych systemów rekomendacyjnych/wyszukiwarek.\n",
    "\n",
    "---\n",
    "\n",
    "### nDCG (Normalized Discounted Cumulative Gain)\n",
    "\n",
    "$$\n",
    "nDCG@K = \\frac{DCG@K}{IDCG@K}\n",
    "$$\n",
    "gdzie:\n",
    "$$\n",
    "DCG@K = \\sum_{i=1}^K \\frac{rel_i}{\\log_2(i+1)}\n",
    "$$\n",
    "\n",
    "* **Co mierzy?** Uwzględnia **istotność wyniku** (relacja $rel_i$) oraz **jego pozycję** na liście.\n",
    "* **Premiuje systemy**, które trafne wyniki umieszczają wysoko.\n",
    "* **Zastosowanie:**\n",
    "\n",
    "  * ranking dokumentów w wyszukiwarce Google,\n",
    "  * rekomendacje, gdzie wyniki mają różną wartość (np. oceny filmów od 1 do 5).\n",
    "\n",
    "---\n",
    "\n",
    "## 🔎 Przykład interpretacji\n",
    "\n",
    "Załóżmy, że użytkownik szuka filmu. Faktycznie lubi filmy **A, C, E**.\n",
    "System zwrócił listę: `[A, B, C, D, E]`.\n",
    "\n",
    "* **Precision@3** = 2/3 (A i C są trafne w top-3).\n",
    "* **Recall@3** = 2/3 (pokazano 2 z 3 ulubionych filmów).\n",
    "* **Precision@5** = 3/5 = 0.6.\n",
    "* **Recall@5** = 3/3 = 1.0 (system pokazał wszystkie ulubione filmy).\n",
    "* **nDCG@5** będzie wyższe, niż gdyby system dał `[B, D, A, C, E]`, bo A i C znalazły się wyżej na liście.\n",
    "\n",
    "📌 **Intuicja:** dobre systemy rekomendacyjne starają się **umieścić trafne wyniki jak najwyżej**.\n",
    "\n"
   ]
  },
  {
   "cell_type": "code",
   "execution_count": null,
   "id": "7116a58f-0b80-4d16-a352-1dfb7dca9990",
   "metadata": {},
   "outputs": [],
   "source": []
  }
 ],
 "metadata": {
  "kernelspec": {
   "display_name": "Python 3 (ipykernel)",
   "language": "python",
   "name": "python3"
  },
  "language_info": {
   "codemirror_mode": {
    "name": "ipython",
    "version": 3
   },
   "file_extension": ".py",
   "mimetype": "text/x-python",
   "name": "python",
   "nbconvert_exporter": "python",
   "pygments_lexer": "ipython3",
   "version": "3.12.9"
  }
 },
 "nbformat": 4,
 "nbformat_minor": 5
}
