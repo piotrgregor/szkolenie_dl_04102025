{
 "cells": [
  {
   "cell_type": "markdown",
   "id": "8525c482-62a4-4dc7-8793-74b766958078",
   "metadata": {},
   "source": [
    "\n",
    "# ogólny podział\n",
    "\n",
    "Dane ilościowe - numeryczne\n",
    "- ciagle\n",
    "- dyskretne\n",
    "\n",
    "Dane jakościowe - kategoryczne\n",
    "- nominalne\n",
    "- porzadkowe\n",
    "- binarne\n"
   ]
  },
  {
   "cell_type": "code",
   "execution_count": null,
   "id": "f9bec7a1-08d5-476c-8e62-8f37f2715d55",
   "metadata": {},
   "outputs": [],
   "source": [
    "raw_data = pd.DataFrame(\n",
    "    {\n",
    "        \"id_klienta\": [1001, 1002, 1003, 1004, 1005],\n",
    "        \"wiek\": [25, 32, 41, 29, 51],\n",
    "        \"czas_aktywności_min\": [35.5, 58.2, 12.7, 48.1, 73.3],\n",
    "        \"dochód_miesięczny\": [4200.0, 6100.5, 9800.0, 5100.0, 7500.0],\n",
    "        \"poziom_edukacji\": [\"średnie\", \"wyższe\", \"wyższe\", \"zawodowe\", \"podstawowe\"],\n",
    "        \"region\": [\"Mazowieckie\", \"Śląskie\", \"Mazowieckie\", \"Pomorskie\", \"Małopolskie\"],\n",
    "        \"ocena_satysfakcji\": [\"wysoka\", \"średnia\", \"niska\", \"średnia\", \"wysoka\"],\n",
    "        \"czy_abonament\": [True, False, True, False, True],\n",
    "    }\n",
    ")\n",
    "\n",
    "raw_data "
   ]
  }
 ],
 "metadata": {
  "kernelspec": {
   "display_name": "Python 3 (ipykernel)",
   "language": "python",
   "name": "python3"
  },
  "language_info": {
   "codemirror_mode": {
    "name": "ipython",
    "version": 3
   },
   "file_extension": ".py",
   "mimetype": "text/x-python",
   "name": "python",
   "nbconvert_exporter": "python",
   "pygments_lexer": "ipython3",
   "version": "3.12.9"
  }
 },
 "nbformat": 4,
 "nbformat_minor": 5
}
