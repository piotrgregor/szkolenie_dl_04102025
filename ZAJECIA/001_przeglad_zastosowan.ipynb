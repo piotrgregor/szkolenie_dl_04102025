{
 "cells": [
  {
   "cell_type": "markdown",
   "id": "733efbc8-8f41-48d8-b346-ac251598507b",
   "metadata": {},
   "source": [
    "## Głowne zadania ML\n",
    "\n",
    "* Klasyfikacja\n",
    "    * credit score\n",
    "* Regresja\n",
    "    * przewiduje wartość - np. ceny mieszkań\n",
    "* Klasteryzacja\n",
    "* Rekomendacja\n",
    "\n",
    "## Przeglad zastosowań\n",
    "\n",
    "### Computer Vision\n",
    "\n",
    "* klasyfikacja obrazów - \"to jest pies\"\n",
    "* detekcja obiektów\n",
    "* OCR\n",
    "* Poprawianie rozdzielczosci i jakosci\n",
    "* inpainting\n",
    "\n",
    "#### CNN, ConvNeXt\n",
    "#### GAN\n",
    "\n",
    "\n",
    "### NLP\n",
    "#### sentyment\n",
    "#### tlumaczenia\n",
    "#### ...\n",
    "\n",
    "### Mowa, audio, sygnały\n",
    "\n",
    "#### Whsiper\n",
    "\n",
    "### Szeregi czasowe\n",
    "\n",
    "### Dane Tabelaryczne\n",
    "\n",
    "### Modele generatywne\n",
    "\n",
    "### Uczenie ze wzmocnieniem\n",
    "\n",
    "### Grafy i sieci\n",
    "\n",
    "\n"
   ]
  },
  {
   "cell_type": "code",
   "execution_count": null,
   "id": "be34fd89-4d57-456b-9e60-6cdcb60f5517",
   "metadata": {},
   "outputs": [],
   "source": []
  }
 ],
 "metadata": {
  "kernelspec": {
   "display_name": "Python 3 (ipykernel)",
   "language": "python",
   "name": "python3"
  },
  "language_info": {
   "codemirror_mode": {
    "name": "ipython",
    "version": 3
   },
   "file_extension": ".py",
   "mimetype": "text/x-python",
   "name": "python",
   "nbconvert_exporter": "python",
   "pygments_lexer": "ipython3",
   "version": "3.12.9"
  }
 },
 "nbformat": 4,
 "nbformat_minor": 5
}
