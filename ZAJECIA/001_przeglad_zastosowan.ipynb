{
 "cells": [
  {
   "cell_type": "code",
   "execution_count": 1,
   "id": "e3e8ca12-4bfc-4f6a-a32b-0382c0e44498",
   "metadata": {},
   "outputs": [
    {
     "name": "stdout",
     "output_type": "stream",
     "text": [
      "Writing test1.py\n"
     ]
    }
   ],
   "source": [
    "%%writefile test1.py\n",
    "print(\"Hello python\")\n"
   ]
  },
  {
   "cell_type": "code",
   "execution_count": null,
   "id": "f423140a-39a4-4a09-8ef6-369f19a8c443",
   "metadata": {},
   "outputs": [],
   "source": [
    "https://playground.tensorflow.org"
   ]
  },
  {
   "cell_type": "code",
   "execution_count": null,
   "id": "8e08144c-ae47-4c4b-914e-d497a0373f61",
   "metadata": {},
   "outputs": [],
   "source": []
  }
 ],
 "metadata": {
  "kernelspec": {
   "display_name": "Python 3 (ipykernel)",
   "language": "python",
   "name": "python3"
  },
  "language_info": {
   "codemirror_mode": {
    "name": "ipython",
    "version": 3
   },
   "file_extension": ".py",
   "mimetype": "text/x-python",
   "name": "python",
   "nbconvert_exporter": "python",
   "pygments_lexer": "ipython3",
   "version": "3.12.11"
  }
 },
 "nbformat": 4,
 "nbformat_minor": 5
}
