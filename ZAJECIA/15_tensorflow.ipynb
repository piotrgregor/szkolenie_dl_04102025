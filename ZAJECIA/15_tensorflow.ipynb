{
 "cells": [
  {
   "cell_type": "code",
   "execution_count": 1,
   "id": "febfbc22-55da-4d05-ae58-8259003d94e5",
   "metadata": {},
   "outputs": [],
   "source": [
    "import torch\n",
    "import numpy as np"
   ]
  },
  {
   "cell_type": "code",
   "execution_count": 2,
   "id": "5859f607-783a-41fa-bfdd-f710487a9420",
   "metadata": {},
   "outputs": [
    {
     "data": {
      "text/plain": [
       "'2.8.0'"
      ]
     },
     "execution_count": 2,
     "metadata": {},
     "output_type": "execute_result"
    }
   ],
   "source": [
    "torch.__version__"
   ]
  },
  {
   "cell_type": "code",
   "execution_count": 3,
   "id": "60fd8934-91ba-45c7-abdd-6c99828a5343",
   "metadata": {},
   "outputs": [],
   "source": [
    "arr = np.array([1, 2, 3, 4, 5])"
   ]
  },
  {
   "cell_type": "code",
   "execution_count": 4,
   "id": "b23b7a3d-beaa-4a09-a081-2fa482397d52",
   "metadata": {},
   "outputs": [
    {
     "data": {
      "text/plain": [
       "dtype('int64')"
      ]
     },
     "execution_count": 4,
     "metadata": {},
     "output_type": "execute_result"
    }
   ],
   "source": [
    "arr.dtype"
   ]
  },
  {
   "cell_type": "code",
   "execution_count": 5,
   "id": "6a00a51e-3ac3-4e93-ab70-922bcc5c2f40",
   "metadata": {},
   "outputs": [],
   "source": [
    "t = torch.from_numpy(arr)"
   ]
  },
  {
   "cell_type": "code",
   "execution_count": 11,
   "id": "22be2fe8-712e-41c3-931a-952f19765093",
   "metadata": {},
   "outputs": [
    {
     "data": {
      "text/plain": [
       "tensor([10,  2,  3,  4,  5])"
      ]
     },
     "execution_count": 11,
     "metadata": {},
     "output_type": "execute_result"
    }
   ],
   "source": [
    "torch.as_tensor(arr)"
   ]
  },
  {
   "cell_type": "code",
   "execution_count": 7,
   "id": "281b5385-ad1b-4eb9-9123-c4ed94d04d4d",
   "metadata": {},
   "outputs": [],
   "source": [
    "arr[0] = 10"
   ]
  },
  {
   "cell_type": "code",
   "execution_count": 8,
   "id": "c673d110-df7a-47b0-b6ba-b27f09339a74",
   "metadata": {},
   "outputs": [
    {
     "data": {
      "text/plain": [
       "array([10,  2,  3,  4,  5])"
      ]
     },
     "execution_count": 8,
     "metadata": {},
     "output_type": "execute_result"
    }
   ],
   "source": [
    "arr"
   ]
  },
  {
   "cell_type": "code",
   "execution_count": 10,
   "id": "237666ee-fcee-43d7-bb05-92e156b81ffe",
   "metadata": {},
   "outputs": [
    {
     "data": {
      "text/plain": [
       "tensor([10,  2,  3,  4,  5])"
      ]
     },
     "execution_count": 10,
     "metadata": {},
     "output_type": "execute_result"
    }
   ],
   "source": [
    "t\n"
   ]
  },
  {
   "cell_type": "code",
   "execution_count": 12,
   "id": "f290383c-230c-4ce0-af96-9eb22cabd4c4",
   "metadata": {},
   "outputs": [
    {
     "data": {
      "text/plain": [
       "tensor([10,  2,  3,  4,  5])"
      ]
     },
     "execution_count": 12,
     "metadata": {},
     "output_type": "execute_result"
    }
   ],
   "source": [
    "torch.tensor(arr)"
   ]
  },
  {
   "cell_type": "code",
   "execution_count": 20,
   "id": "aa1e9f0b-5ee3-4270-9f41-42974d245c02",
   "metadata": {},
   "outputs": [],
   "source": [
    "arr[0] = 19"
   ]
  },
  {
   "cell_type": "code",
   "execution_count": 15,
   "id": "5aed8160-1014-4c7c-971c-4aeba560ddf9",
   "metadata": {},
   "outputs": [
    {
     "data": {
      "text/plain": [
       "tensor([9, 2, 3, 4, 5])"
      ]
     },
     "execution_count": 15,
     "metadata": {},
     "output_type": "execute_result"
    }
   ],
   "source": [
    "t"
   ]
  },
  {
   "cell_type": "code",
   "execution_count": 18,
   "id": "03daeaf8-186a-41c4-a0b9-d090c5a534a2",
   "metadata": {},
   "outputs": [],
   "source": [
    "t=torch.Tensor(arr)"
   ]
  },
  {
   "cell_type": "code",
   "execution_count": 21,
   "id": "12e0e468-7a3d-4771-bfc7-eb4d0dd93a54",
   "metadata": {},
   "outputs": [
    {
     "data": {
      "text/plain": [
       "(tensor([1., 2., 3., 4., 5.]), array([19,  2,  3,  4,  5]))"
      ]
     },
     "execution_count": 21,
     "metadata": {},
     "output_type": "execute_result"
    }
   ],
   "source": [
    "t, arr"
   ]
  },
  {
   "cell_type": "code",
   "execution_count": 22,
   "id": "183ae6b7-65cb-4da0-bb76-a8194d8bd75b",
   "metadata": {},
   "outputs": [
    {
     "data": {
      "text/plain": [
       "tensor([19,  2,  3,  4,  5])"
      ]
     },
     "execution_count": 22,
     "metadata": {},
     "output_type": "execute_result"
    }
   ],
   "source": [
    "torch.LongTensor(arr)"
   ]
  },
  {
   "cell_type": "code",
   "execution_count": 24,
   "id": "f3bb83b5-4a5d-4b44-9484-0ec6d13e3121",
   "metadata": {},
   "outputs": [
    {
     "data": {
      "text/plain": [
       "tensor([19.,  2.,  3.,  4.,  5.])"
      ]
     },
     "execution_count": 24,
     "metadata": {},
     "output_type": "execute_result"
    }
   ],
   "source": [
    "torch.FloatTensor(arr)"
   ]
  },
  {
   "cell_type": "code",
   "execution_count": 27,
   "id": "aa4f698a-173c-4e25-b5cf-4f18a02abaca",
   "metadata": {},
   "outputs": [
    {
     "data": {
      "text/plain": [
       "tensor([[0, 0, 0],\n",
       "        [0, 0, 0],\n",
       "        [0, 0, 0],\n",
       "        [0, 0, 0]])"
      ]
     },
     "execution_count": 27,
     "metadata": {},
     "output_type": "execute_result"
    }
   ],
   "source": [
    "torch.empty(4, 3, dtype=torch.int64)"
   ]
  },
  {
   "cell_type": "code",
   "execution_count": 26,
   "id": "e6dc4973-733e-46ed-bf47-74a09ec9ad88",
   "metadata": {},
   "outputs": [
    {
     "data": {
      "text/plain": [
       "tensor([[0., 0., 0.],\n",
       "        [0., 0., 0.],\n",
       "        [0., 0., 0.],\n",
       "        [0., 0., 0.]])"
      ]
     },
     "execution_count": 26,
     "metadata": {},
     "output_type": "execute_result"
    }
   ],
   "source": [
    "torch.zeros(4, 3)"
   ]
  },
  {
   "cell_type": "markdown",
   "id": "8a600142-143e-4685-8989-c5fb33e46921",
   "metadata": {},
   "source": [
    "empty\n",
    "zeros\n",
    "\n",
    "ones\n",
    "eye"
   ]
  },
  {
   "cell_type": "code",
   "execution_count": 29,
   "id": "3ec81c85-2ced-4d51-b4f2-4584768543b0",
   "metadata": {},
   "outputs": [
    {
     "data": {
      "text/plain": [
       "tensor([[1., 0., 0., 0., 0.],\n",
       "        [0., 1., 0., 0., 0.],\n",
       "        [0., 0., 1., 0., 0.],\n",
       "        [0., 0., 0., 1., 0.],\n",
       "        [0., 0., 0., 0., 1.]])"
      ]
     },
     "execution_count": 29,
     "metadata": {},
     "output_type": "execute_result"
    }
   ],
   "source": [
    "torch.eye(5)"
   ]
  },
  {
   "cell_type": "code",
   "execution_count": 31,
   "id": "e47eec6e-a0fe-484d-8270-97e1079e2a34",
   "metadata": {},
   "outputs": [
    {
     "data": {
      "text/plain": [
       "tensor([ 1.0000,  1.4737,  1.9474,  2.4211,  2.8947,  3.3684,  3.8421,  4.3158,\n",
       "         4.7895,  5.2632,  5.7368,  6.2105,  6.6842,  7.1579,  7.6316,  8.1053,\n",
       "         8.5789,  9.0526,  9.5263, 10.0000])"
      ]
     },
     "execution_count": 31,
     "metadata": {},
     "output_type": "execute_result"
    }
   ],
   "source": [
    "torch.linspace(1, 10, 20)"
   ]
  },
  {
   "cell_type": "code",
   "execution_count": 32,
   "id": "af214067-0a3f-45d5-b0a4-ad6d2a181756",
   "metadata": {},
   "outputs": [
    {
     "data": {
      "text/plain": [
       "tensor([1, 3, 5, 7, 9])"
      ]
     },
     "execution_count": 32,
     "metadata": {},
     "output_type": "execute_result"
    }
   ],
   "source": [
    "torch.arange(1, 10, 2)"
   ]
  },
  {
   "cell_type": "code",
   "execution_count": 35,
   "id": "497e7da5-eb93-4f76-a005-4542d952c754",
   "metadata": {},
   "outputs": [],
   "source": [
    "x = torch.rand(5,2)"
   ]
  },
  {
   "cell_type": "code",
   "execution_count": 36,
   "id": "da4c8774-95b7-4c01-83c7-0c6d851b00d0",
   "metadata": {},
   "outputs": [
    {
     "data": {
      "text/plain": [
       "tensor([[0, 0],\n",
       "        [0, 0],\n",
       "        [0, 0],\n",
       "        [0, 0],\n",
       "        [0, 0]])"
      ]
     },
     "execution_count": 36,
     "metadata": {},
     "output_type": "execute_result"
    }
   ],
   "source": [
    "x.type(torch.int64)"
   ]
  },
  {
   "cell_type": "code",
   "execution_count": 49,
   "id": "f24cbbe2-69d6-42d9-a56c-6dcffe65bcae",
   "metadata": {},
   "outputs": [
    {
     "data": {
      "text/plain": [
       "tensor([[ 1],\n",
       "        [ 2],\n",
       "        [ 3],\n",
       "        [ 4],\n",
       "        [ 5],\n",
       "        [ 6],\n",
       "        [ 7],\n",
       "        [ 8],\n",
       "        [ 9],\n",
       "        [10]])"
      ]
     },
     "execution_count": 49,
     "metadata": {},
     "output_type": "execute_result"
    }
   ],
   "source": [
    "torch.arange(1, 11).reshape(10, 1 )"
   ]
  },
  {
   "cell_type": "code",
   "execution_count": null,
   "id": "f017e65b-1f5e-4684-9a76-4b05177246c3",
   "metadata": {},
   "outputs": [],
   "source": [
    "torch.manual_seed(100)"
   ]
  },
  {
   "cell_type": "code",
   "execution_count": 52,
   "id": "400df6db-90c1-4580-8c32-30fb28be4556",
   "metadata": {},
   "outputs": [
    {
     "data": {
      "text/plain": [
       "torch.Size([5, 2])"
      ]
     },
     "execution_count": 52,
     "metadata": {},
     "output_type": "execute_result"
    }
   ],
   "source": [
    "x.shape"
   ]
  },
  {
   "cell_type": "markdown",
   "id": "2fb6c92c-1d40-4f87-837a-5aea11403870",
   "metadata": {},
   "source": [
    "## Indeksowanie i wycinanie\n",
    "Wyodrębnianie konkretnych wartości z tensora działa tak samo jak w tablicach NumPy<br>\n",
    "<img src='arrayslicing.png' width=\"500\" style=\"display: inline-block\"><br><br>\n",
    "Źródło obrazu: https://scipy-lectures.org/_images/numpy_indexing.png\n",
    "\n",
    "Na początek utwórzmy taki tensor:"
   ]
  },
  {
   "cell_type": "code",
   "execution_count": 53,
   "id": "95e68643-23e7-4b49-ac53-edb9f582577b",
   "metadata": {},
   "outputs": [],
   "source": [
    "row0 = torch.arange(6)"
   ]
  },
  {
   "cell_type": "code",
   "execution_count": 54,
   "id": "290ea97c-82ea-4781-a860-3c94d81754d6",
   "metadata": {},
   "outputs": [
    {
     "data": {
      "text/plain": [
       "tensor([0, 1, 2, 3, 4, 5])"
      ]
     },
     "execution_count": 54,
     "metadata": {},
     "output_type": "execute_result"
    }
   ],
   "source": [
    "row0"
   ]
  },
  {
   "cell_type": "code",
   "execution_count": 56,
   "id": "f3df0445-4ef6-439f-9cd8-0fc5f4293c3d",
   "metadata": {},
   "outputs": [],
   "source": [
    "a = row0 + row0.reshape(6, -1) * 10"
   ]
  },
  {
   "cell_type": "code",
   "execution_count": 57,
   "id": "bdb24cf3-dd5a-4990-87d2-7c43376049a2",
   "metadata": {},
   "outputs": [
    {
     "data": {
      "text/plain": [
       "tensor([3, 4])"
      ]
     },
     "execution_count": 57,
     "metadata": {},
     "output_type": "execute_result"
    }
   ],
   "source": [
    "a[0, 3:5]"
   ]
  },
  {
   "cell_type": "code",
   "execution_count": 58,
   "id": "7c265e48-9413-4cc5-a274-1780e931ff0b",
   "metadata": {},
   "outputs": [
    {
     "data": {
      "text/plain": [
       "tensor([[44, 45],\n",
       "        [54, 55]])"
      ]
     },
     "execution_count": 58,
     "metadata": {},
     "output_type": "execute_result"
    }
   ],
   "source": [
    "a[4:, 4:]"
   ]
  },
  {
   "cell_type": "code",
   "execution_count": 59,
   "id": "8196fa10-111e-4c25-81a2-867b9434d79d",
   "metadata": {},
   "outputs": [
    {
     "data": {
      "text/plain": [
       "tensor([[  0,   2,   4,   6,   8,  10],\n",
       "        [ 20,  22,  24,  26,  28,  30],\n",
       "        [ 40,  42,  44,  46,  48,  50],\n",
       "        [ 60,  62,  64,  66,  68,  70],\n",
       "        [ 80,  82,  84,  86,  88,  90],\n",
       "        [100, 102, 104, 106, 108, 110]])"
      ]
     },
     "execution_count": 59,
     "metadata": {},
     "output_type": "execute_result"
    }
   ],
   "source": [
    "a + a"
   ]
  },
  {
   "cell_type": "code",
   "execution_count": 60,
   "id": "6758f9ae-6edd-4e55-865a-d7b273de20c4",
   "metadata": {},
   "outputs": [],
   "source": [
    "result = torch.empty(3)"
   ]
  },
  {
   "cell_type": "code",
   "execution_count": 61,
   "id": "e968b765-4b98-47e6-b5bb-a716c3b8d426",
   "metadata": {},
   "outputs": [],
   "source": [
    "a = torch.tensor([1, 2, 3])\n",
    "b = a + 1"
   ]
  },
  {
   "cell_type": "code",
   "execution_count": 62,
   "id": "2c6d1492-ae62-402f-8f34-d2e8aa2b498c",
   "metadata": {},
   "outputs": [
    {
     "data": {
      "text/plain": [
       "tensor([3., 5., 7.])"
      ]
     },
     "execution_count": 62,
     "metadata": {},
     "output_type": "execute_result"
    }
   ],
   "source": [
    "torch.add(a, b, out=result)"
   ]
  },
  {
   "cell_type": "code",
   "execution_count": 63,
   "id": "962d5063-0304-4519-ae97-da868bde1d13",
   "metadata": {},
   "outputs": [
    {
     "data": {
      "text/plain": [
       "tensor([3., 5., 7.])"
      ]
     },
     "execution_count": 63,
     "metadata": {},
     "output_type": "execute_result"
    }
   ],
   "source": [
    "result"
   ]
  },
  {
   "cell_type": "code",
   "execution_count": null,
   "id": "4e72bf3b-a2fc-42c7-8a5c-c88db5bbb5a1",
   "metadata": {},
   "outputs": [],
   "source": []
  }
 ],
 "metadata": {
  "kernelspec": {
   "display_name": "Python 3 (ipykernel)",
   "language": "python",
   "name": "python3"
  },
  "language_info": {
   "codemirror_mode": {
    "name": "ipython",
    "version": 3
   },
   "file_extension": ".py",
   "mimetype": "text/x-python",
   "name": "python",
   "nbconvert_exporter": "python",
   "pygments_lexer": "ipython3",
   "version": "3.12.9"
  }
 },
 "nbformat": 4,
 "nbformat_minor": 5
}
