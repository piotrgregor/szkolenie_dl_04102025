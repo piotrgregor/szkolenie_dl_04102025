{
 "cells": [
  {
   "cell_type": "code",
   "execution_count": 1,
   "id": "62b166f6-45f3-4dd9-887d-fb38d24656b8",
   "metadata": {},
   "outputs": [],
   "source": [
    "import numpy as np"
   ]
  },
  {
   "cell_type": "code",
   "execution_count": 2,
   "id": "5f806073-e6f5-4eb5-829d-fb836e51832c",
   "metadata": {},
   "outputs": [],
   "source": [
    "import tensorflow as tf"
   ]
  },
  {
   "cell_type": "code",
   "execution_count": 3,
   "id": "4625feb9-6c11-41de-b21a-4517feb804fc",
   "metadata": {},
   "outputs": [],
   "source": [
    "arr = np.arange(6)"
   ]
  },
  {
   "cell_type": "code",
   "execution_count": 4,
   "id": "2c6c5136-a95c-4596-9270-e14e536f9f0b",
   "metadata": {},
   "outputs": [],
   "source": [
    "x = tf.convert_to_tensor(arr)"
   ]
  },
  {
   "cell_type": "code",
   "execution_count": 5,
   "id": "90fb3ee3-4806-4aab-89f0-f63a2c56c650",
   "metadata": {},
   "outputs": [
    {
     "data": {
      "text/plain": [
       "<tf.Tensor: shape=(6,), dtype=int64, numpy=array([0, 1, 2, 3, 4, 5])>"
      ]
     },
     "execution_count": 5,
     "metadata": {},
     "output_type": "execute_result"
    }
   ],
   "source": [
    "x"
   ]
  },
  {
   "cell_type": "code",
   "execution_count": 6,
   "id": "7fe64b2c-0b70-45da-ba3f-7a98477598ff",
   "metadata": {},
   "outputs": [
    {
     "data": {
      "text/plain": [
       "array([0, 1, 2, 3, 4, 5])"
      ]
     },
     "execution_count": 6,
     "metadata": {},
     "output_type": "execute_result"
    }
   ],
   "source": [
    "arr"
   ]
  },
  {
   "cell_type": "code",
   "execution_count": 11,
   "id": "2eeb2813-6293-4acc-a3db-3791ccc3d1d9",
   "metadata": {},
   "outputs": [],
   "source": [
    "arr[0] = 11"
   ]
  },
  {
   "cell_type": "code",
   "execution_count": 8,
   "id": "d9e42df7-9b87-42d6-9a9f-e34441bf63a8",
   "metadata": {},
   "outputs": [
    {
     "data": {
      "text/plain": [
       "<tf.Tensor: shape=(6,), dtype=int64, numpy=array([0, 1, 2, 3, 4, 5])>"
      ]
     },
     "execution_count": 8,
     "metadata": {},
     "output_type": "execute_result"
    }
   ],
   "source": [
    "x"
   ]
  },
  {
   "cell_type": "code",
   "execution_count": 9,
   "id": "47468618-8426-4dff-b9c5-956917640d99",
   "metadata": {},
   "outputs": [],
   "source": [
    "var = tf.Variable(arr)"
   ]
  },
  {
   "cell_type": "code",
   "execution_count": 12,
   "id": "45732b17-c25a-42f8-a464-3ff37ddc7c45",
   "metadata": {},
   "outputs": [
    {
     "data": {
      "text/plain": [
       "<tf.Variable 'Variable:0' shape=(6,) dtype=int64, numpy=array([10,  1,  2,  3,  4,  5])>"
      ]
     },
     "execution_count": 12,
     "metadata": {},
     "output_type": "execute_result"
    }
   ],
   "source": [
    "var"
   ]
  },
  {
   "cell_type": "code",
   "execution_count": 15,
   "id": "6fad099a-7974-4b7c-b371-17827767e1e9",
   "metadata": {},
   "outputs": [
    {
     "data": {
      "text/plain": [
       "<tf.Variable 'UnreadVariable' shape=(6,) dtype=int64, numpy=array([11,  3,  5,  7,  9, 11])>"
      ]
     },
     "execution_count": 15,
     "metadata": {},
     "output_type": "execute_result"
    }
   ],
   "source": [
    "var.assign_add([1, 2, 3, 4, 5, 6])"
   ]
  },
  {
   "cell_type": "code",
   "execution_count": 16,
   "id": "f3a951c5-9832-46d6-a79c-81f755f0f5b9",
   "metadata": {},
   "outputs": [
    {
     "data": {
      "text/plain": [
       "<tf.Variable 'Variable:0' shape=(6,) dtype=int64, numpy=array([11,  3,  5,  7,  9, 11])>"
      ]
     },
     "execution_count": 16,
     "metadata": {},
     "output_type": "execute_result"
    }
   ],
   "source": [
    "var"
   ]
  },
  {
   "cell_type": "code",
   "execution_count": 17,
   "id": "968043ef-8992-4289-ad19-82efe4da9f21",
   "metadata": {},
   "outputs": [
    {
     "data": {
      "text/plain": [
       "<tf.Tensor: shape=(2, 5), dtype=float32, numpy=\n",
       "array([[0., 0., 0., 0., 0.],\n",
       "       [0., 0., 0., 0., 0.]], dtype=float32)>"
      ]
     },
     "execution_count": 17,
     "metadata": {},
     "output_type": "execute_result"
    }
   ],
   "source": [
    "tf.zeros((2, 5))"
   ]
  },
  {
   "cell_type": "code",
   "execution_count": 18,
   "id": "23aba53d-2cff-42cb-96d4-7f2ea77b7700",
   "metadata": {},
   "outputs": [
    {
     "data": {
      "text/plain": [
       "<function tensorflow.python.ops.array_ops.ones(shape, dtype=tf.float32, name=None, layout=None)>"
      ]
     },
     "execution_count": 18,
     "metadata": {},
     "output_type": "execute_result"
    }
   ],
   "source": [
    "tf.ones"
   ]
  },
  {
   "cell_type": "code",
   "execution_count": 19,
   "id": "e24dae92-b90a-4bfb-a428-a366fd781063",
   "metadata": {},
   "outputs": [
    {
     "data": {
      "text/plain": [
       "<tf.Tensor: shape=(2, 3), dtype=int32, numpy=\n",
       "array([[7, 7, 7],\n",
       "       [7, 7, 7]], dtype=int32)>"
      ]
     },
     "execution_count": 19,
     "metadata": {},
     "output_type": "execute_result"
    }
   ],
   "source": [
    "tf.fill((2, 3), 7)"
   ]
  },
  {
   "cell_type": "code",
   "execution_count": 20,
   "id": "fcf42eb3-1afb-4f78-bbe8-51199e935718",
   "metadata": {},
   "outputs": [
    {
     "data": {
      "text/plain": [
       "<tf.Tensor: shape=(2, 3), dtype=float32, numpy=\n",
       "array([[ 0.3625607 , -1.0657073 ,  0.16775946],\n",
       "       [-1.4790335 ,  0.62134415, -0.24659806]], dtype=float32)>"
      ]
     },
     "execution_count": 20,
     "metadata": {},
     "output_type": "execute_result"
    }
   ],
   "source": [
    "tf.random.normal((2, 3), mean=0, stddev=1)"
   ]
  },
  {
   "cell_type": "code",
   "execution_count": 22,
   "id": "5d2e0ae6-4f28-4dd2-a95c-08eda33abc5f",
   "metadata": {},
   "outputs": [
    {
     "data": {
      "text/plain": [
       "<tf.Tensor: shape=(2, 3), dtype=float32, numpy=\n",
       "array([[0.58193636, 0.5861279 , 0.7914907 ],\n",
       "       [0.91201425, 0.84249353, 0.6338619 ]], dtype=float32)>"
      ]
     },
     "execution_count": 22,
     "metadata": {},
     "output_type": "execute_result"
    }
   ],
   "source": [
    "tf.random.uniform((2, 3), minval=0, maxval=1)"
   ]
  },
  {
   "cell_type": "code",
   "execution_count": 23,
   "id": "cf6f3b01-f13b-47f2-8513-bd604bec3f47",
   "metadata": {},
   "outputs": [],
   "source": [
    "x_float = tf.random.uniform((2, 3), minval=0, maxval=1)"
   ]
  },
  {
   "cell_type": "code",
   "execution_count": 24,
   "id": "832ee3b9-9826-4911-a74a-21238ad9fcb3",
   "metadata": {},
   "outputs": [],
   "source": [
    "x_float = tf.cast(x_float, tf.int32)"
   ]
  },
  {
   "cell_type": "code",
   "execution_count": 25,
   "id": "4135b993-862c-402f-a283-7b9662256852",
   "metadata": {},
   "outputs": [
    {
     "data": {
      "text/plain": [
       "<tf.Tensor: shape=(2, 3), dtype=int32, numpy=\n",
       "array([[0, 0, 0],\n",
       "       [0, 0, 0]], dtype=int32)>"
      ]
     },
     "execution_count": 25,
     "metadata": {},
     "output_type": "execute_result"
    }
   ],
   "source": [
    "x_float"
   ]
  },
  {
   "cell_type": "code",
   "execution_count": 26,
   "id": "7df87569-237c-4ee7-9d9f-5750dbc210e0",
   "metadata": {},
   "outputs": [
    {
     "data": {
      "text/plain": [
       "<tf.Tensor: shape=(6,), dtype=int32, numpy=array([0, 1, 2, 3, 4, 5], dtype=int32)>"
      ]
     },
     "execution_count": 26,
     "metadata": {},
     "output_type": "execute_result"
    }
   ],
   "source": [
    "\n",
    "\n",
    "row_0 = tf.range(6)\n",
    "row_0"
   ]
  },
  {
   "cell_type": "code",
   "execution_count": 27,
   "id": "5dc3d03e-1c8f-46e0-8c1e-36419be7d5fe",
   "metadata": {},
   "outputs": [
    {
     "data": {
      "text/plain": [
       "<tf.Tensor: shape=(6, 6), dtype=int32, numpy=\n",
       "array([[ 0,  1,  2,  3,  4,  5],\n",
       "       [10, 11, 12, 13, 14, 15],\n",
       "       [20, 21, 22, 23, 24, 25],\n",
       "       [30, 31, 32, 33, 34, 35],\n",
       "       [40, 41, 42, 43, 44, 45],\n",
       "       [50, 51, 52, 53, 54, 55]], dtype=int32)>"
      ]
     },
     "execution_count": 27,
     "metadata": {},
     "output_type": "execute_result"
    }
   ],
   "source": [
    "matrix = row_0 + tf.expand_dims(row_0, 1) * 10\n",
    "matrix"
   ]
  },
  {
   "cell_type": "code",
   "execution_count": 28,
   "id": "d46ae15c-7b39-4932-bc39-e46d36841647",
   "metadata": {},
   "outputs": [
    {
     "data": {
      "text/plain": [
       "<tf.Tensor: shape=(2,), dtype=int32, numpy=array([3, 4], dtype=int32)>"
      ]
     },
     "execution_count": 28,
     "metadata": {},
     "output_type": "execute_result"
    }
   ],
   "source": [
    "matrix[0, 3:5]"
   ]
  },
  {
   "cell_type": "code",
   "execution_count": 29,
   "id": "0dc2104d-db78-4b08-924e-3f40503d4f89",
   "metadata": {},
   "outputs": [
    {
     "data": {
      "text/plain": [
       "<tf.Tensor: shape=(2, 2), dtype=int32, numpy=\n",
       "array([[44, 45],\n",
       "       [54, 55]], dtype=int32)>"
      ]
     },
     "execution_count": 29,
     "metadata": {},
     "output_type": "execute_result"
    }
   ],
   "source": [
    "matrix[4:, 4:]"
   ]
  },
  {
   "cell_type": "code",
   "execution_count": 30,
   "id": "de091a79-c490-4bd7-b8dd-66a4f852dd1f",
   "metadata": {},
   "outputs": [
    {
     "data": {
      "text/plain": [
       "<tf.Tensor: shape=(3, 12), dtype=int32, numpy=\n",
       "array([[ 0,  1,  2,  3,  4,  5, 10, 11, 12, 13, 14, 15],\n",
       "       [20, 21, 22, 23, 24, 25, 30, 31, 32, 33, 34, 35],\n",
       "       [40, 41, 42, 43, 44, 45, 50, 51, 52, 53, 54, 55]], dtype=int32)>"
      ]
     },
     "execution_count": 30,
     "metadata": {},
     "output_type": "execute_result"
    }
   ],
   "source": [
    "tf.reshape(matrix, (3, 12))"
   ]
  },
  {
   "cell_type": "code",
   "execution_count": 33,
   "id": "a9371a9f-185d-4eb0-90b2-a059e4b116d9",
   "metadata": {},
   "outputs": [
    {
     "data": {
      "text/plain": [
       "<tf.Tensor: shape=(6,), dtype=int32, numpy=array([ 0,  2,  4,  6,  8, 10], dtype=int32)>"
      ]
     },
     "execution_count": 33,
     "metadata": {},
     "output_type": "execute_result"
    }
   ],
   "source": [
    "row_0 + row_0"
   ]
  },
  {
   "cell_type": "code",
   "execution_count": 35,
   "id": "f9347f13-ec2b-4bb9-94ca-66810d9e620e",
   "metadata": {},
   "outputs": [],
   "source": [
    "x = tf.reshape(matrix, (3, 12))"
   ]
  },
  {
   "cell_type": "code",
   "execution_count": 38,
   "id": "2810e365-0618-4bcd-bfd4-bb30190c3951",
   "metadata": {},
   "outputs": [
    {
     "data": {
      "text/plain": [
       "<tf.Tensor: shape=(3, 3), dtype=int32, numpy=\n",
       "array([[ 1010,  2810,  4610],\n",
       "       [ 2810,  9410, 16010],\n",
       "       [ 4610, 16010, 27410]], dtype=int32)>"
      ]
     },
     "execution_count": 38,
     "metadata": {},
     "output_type": "execute_result"
    }
   ],
   "source": [
    "x @ tf.transpose(x)"
   ]
  },
  {
   "cell_type": "code",
   "execution_count": 39,
   "id": "d0121890-be3a-4f40-a651-f93f8954e0f1",
   "metadata": {},
   "outputs": [
    {
     "data": {
      "text/plain": [
       "<_PrefetchDataset element_spec=(OrderedDict({'sepal length (cm)': TensorSpec(shape=(None,), dtype=tf.float32, name=None), 'sepal width (cm)': TensorSpec(shape=(None,), dtype=tf.float32, name=None), 'petal length (cm)': TensorSpec(shape=(None,), dtype=tf.float32, name=None), 'petal width (cm)': TensorSpec(shape=(None,), dtype=tf.float32, name=None)}), TensorSpec(shape=(None,), dtype=tf.float32, name=None))>"
      ]
     },
     "execution_count": 39,
     "metadata": {},
     "output_type": "execute_result"
    }
   ],
   "source": [
    "file_path = \"Data/iris.csv\"\n",
    "\n",
    "dataset = tf.data.experimental.make_csv_dataset(\n",
    "    file_path,\n",
    "    batch_size=16,\n",
    "    label_name=\"target\",\n",
    "    num_epochs=2,\n",
    "    shuffle=True\n",
    ")\n",
    "\n",
    "dataset"
   ]
  },
  {
   "cell_type": "code",
   "execution_count": 46,
   "id": "8ca78b7a-5e16-412c-b6c3-94b255f0a899",
   "metadata": {},
   "outputs": [
    {
     "name": "stdout",
     "output_type": "stream",
     "text": [
      "xxx\n",
      "tf.Tensor([2. 0. 1. 1. 1. 1. 1. 0. 0. 1. 1. 1. 1. 2. 1. 1.], shape=(16,), dtype=float32)\n",
      "xxx\n",
      "tf.Tensor([2. 1. 0. 2. 0. 0. 1. 2. 2. 1. 0. 1. 1. 1. 2. 0.], shape=(16,), dtype=float32)\n"
     ]
    },
    {
     "name": "stderr",
     "output_type": "stream",
     "text": [
      "2025-10-04 16:47:32.664694: W tensorflow/core/framework/local_rendezvous.cc:404] Local rendezvous is aborting with status: OUT_OF_RANGE: End of sequence\n"
     ]
    }
   ],
   "source": [
    "for f, l in dataset.take(2):\n",
    "    print(\"xxx\")\n",
    "    # print(f.shape, l.shape)\n",
    "    print(l)"
   ]
  },
  {
   "cell_type": "code",
   "execution_count": 47,
   "id": "bc0093f5-3e42-47ae-b02f-379ee9b2af16",
   "metadata": {},
   "outputs": [
    {
     "data": {
      "text/html": [
       "<div>\n",
       "<style scoped>\n",
       "    .dataframe tbody tr th:only-of-type {\n",
       "        vertical-align: middle;\n",
       "    }\n",
       "\n",
       "    .dataframe tbody tr th {\n",
       "        vertical-align: top;\n",
       "    }\n",
       "\n",
       "    .dataframe thead th {\n",
       "        text-align: right;\n",
       "    }\n",
       "</style>\n",
       "<table border=\"1\" class=\"dataframe\">\n",
       "  <thead>\n",
       "    <tr style=\"text-align: right;\">\n",
       "      <th></th>\n",
       "      <th>sepal length (cm)</th>\n",
       "      <th>sepal width (cm)</th>\n",
       "      <th>petal length (cm)</th>\n",
       "      <th>petal width (cm)</th>\n",
       "      <th>target</th>\n",
       "    </tr>\n",
       "  </thead>\n",
       "  <tbody>\n",
       "    <tr>\n",
       "      <th>0</th>\n",
       "      <td>5.1</td>\n",
       "      <td>3.5</td>\n",
       "      <td>1.4</td>\n",
       "      <td>0.2</td>\n",
       "      <td>0.0</td>\n",
       "    </tr>\n",
       "    <tr>\n",
       "      <th>1</th>\n",
       "      <td>4.9</td>\n",
       "      <td>3.0</td>\n",
       "      <td>1.4</td>\n",
       "      <td>0.2</td>\n",
       "      <td>0.0</td>\n",
       "    </tr>\n",
       "    <tr>\n",
       "      <th>2</th>\n",
       "      <td>4.7</td>\n",
       "      <td>3.2</td>\n",
       "      <td>1.3</td>\n",
       "      <td>0.2</td>\n",
       "      <td>0.0</td>\n",
       "    </tr>\n",
       "    <tr>\n",
       "      <th>3</th>\n",
       "      <td>4.6</td>\n",
       "      <td>3.1</td>\n",
       "      <td>1.5</td>\n",
       "      <td>0.2</td>\n",
       "      <td>0.0</td>\n",
       "    </tr>\n",
       "    <tr>\n",
       "      <th>4</th>\n",
       "      <td>5.0</td>\n",
       "      <td>3.6</td>\n",
       "      <td>1.4</td>\n",
       "      <td>0.2</td>\n",
       "      <td>0.0</td>\n",
       "    </tr>\n",
       "  </tbody>\n",
       "</table>\n",
       "</div>"
      ],
      "text/plain": [
       "   sepal length (cm)  sepal width (cm)  petal length (cm)  petal width (cm)  \\\n",
       "0                5.1               3.5                1.4               0.2   \n",
       "1                4.9               3.0                1.4               0.2   \n",
       "2                4.7               3.2                1.3               0.2   \n",
       "3                4.6               3.1                1.5               0.2   \n",
       "4                5.0               3.6                1.4               0.2   \n",
       "\n",
       "   target  \n",
       "0     0.0  \n",
       "1     0.0  \n",
       "2     0.0  \n",
       "3     0.0  \n",
       "4     0.0  "
      ]
     },
     "execution_count": 47,
     "metadata": {},
     "output_type": "execute_result"
    }
   ],
   "source": [
    "import pandas as pd\n",
    "\n",
    "# Wczytanie Pandasem\n",
    "df = pd.read_csv(\"Data/iris.csv\")\n",
    "df.head()"
   ]
  },
  {
   "cell_type": "code",
   "execution_count": 48,
   "id": "66ba3c6a-b3cf-45cc-a568-76379b47afe5",
   "metadata": {},
   "outputs": [],
   "source": [
    "X = df.drop(\"target\", axis=1).values\n",
    "y = df[\"target\"].astype(\"category\").cat.codes.values  # zamiana na liczby\n",
    "\n",
    "# Konwersja do tensora\n",
    "X_tensor = tf.convert_to_tensor(X, dtype=tf.float32)\n",
    "y_tensor = tf.convert_to_tensor(y, dtype=tf.int32)"
   ]
  },
  {
   "cell_type": "code",
   "execution_count": 49,
   "id": "baad079d-43f3-498c-8b74-d6501ec8eeb1",
   "metadata": {},
   "outputs": [
    {
     "data": {
      "text/plain": [
       "<tf.Tensor: shape=(150,), dtype=int32, numpy=\n",
       "array([0, 0, 0, 0, 0, 0, 0, 0, 0, 0, 0, 0, 0, 0, 0, 0, 0, 0, 0, 0, 0, 0,\n",
       "       0, 0, 0, 0, 0, 0, 0, 0, 0, 0, 0, 0, 0, 0, 0, 0, 0, 0, 0, 0, 0, 0,\n",
       "       0, 0, 0, 0, 0, 0, 1, 1, 1, 1, 1, 1, 1, 1, 1, 1, 1, 1, 1, 1, 1, 1,\n",
       "       1, 1, 1, 1, 1, 1, 1, 1, 1, 1, 1, 1, 1, 1, 1, 1, 1, 1, 1, 1, 1, 1,\n",
       "       1, 1, 1, 1, 1, 1, 1, 1, 1, 1, 1, 1, 2, 2, 2, 2, 2, 2, 2, 2, 2, 2,\n",
       "       2, 2, 2, 2, 2, 2, 2, 2, 2, 2, 2, 2, 2, 2, 2, 2, 2, 2, 2, 2, 2, 2,\n",
       "       2, 2, 2, 2, 2, 2, 2, 2, 2, 2, 2, 2, 2, 2, 2, 2, 2, 2], dtype=int32)>"
      ]
     },
     "execution_count": 49,
     "metadata": {},
     "output_type": "execute_result"
    }
   ],
   "source": [
    "y_tensor"
   ]
  },
  {
   "cell_type": "code",
   "execution_count": 51,
   "id": "bbf198f4-4dee-42b1-b812-ee2efcae425e",
   "metadata": {},
   "outputs": [],
   "source": [
    "from tensorflow import keras"
   ]
  },
  {
   "cell_type": "code",
   "execution_count": 50,
   "id": "200839ec-322b-4c8d-948a-e77c37aa9678",
   "metadata": {},
   "outputs": [
    {
     "ename": "AttributeError",
     "evalue": "module 'keras.datasets' has no attribute 'iris'",
     "output_type": "error",
     "traceback": [
      "\u001b[31m---------------------------------------------------------------------------\u001b[39m",
      "\u001b[31mAttributeError\u001b[39m                            Traceback (most recent call last)",
      "\u001b[36mCell\u001b[39m\u001b[36m \u001b[39m\u001b[32mIn[50]\u001b[39m\u001b[32m, line 3\u001b[39m\n\u001b[32m      1\u001b[39m \u001b[38;5;28;01mfrom\u001b[39;00m\u001b[38;5;250m \u001b[39m\u001b[34;01mtensorflow\u001b[39;00m\u001b[38;5;250m \u001b[39m\u001b[38;5;28;01mimport\u001b[39;00m keras\n\u001b[32m----> \u001b[39m\u001b[32m3\u001b[39m (X_train, y_train), (X_test, y_test) = \u001b[43mkeras\u001b[49m\u001b[43m.\u001b[49m\u001b[43mdatasets\u001b[49m\u001b[43m.\u001b[49m\u001b[43miris\u001b[49m.load()\n",
      "\u001b[31mAttributeError\u001b[39m: module 'keras.datasets' has no attribute 'iris'"
     ]
    }
   ],
   "source": [
    "(X_train, y_train), (X_test, y_test) = keras.datasets.iris.load()"
   ]
  },
  {
   "cell_type": "code",
   "execution_count": 52,
   "id": "07af502e-6f13-481c-8c67-fb0d16979063",
   "metadata": {},
   "outputs": [
    {
     "data": {
      "text/plain": [
       "['__builtins__',\n",
       " '__cached__',\n",
       " '__doc__',\n",
       " '__file__',\n",
       " '__loader__',\n",
       " '__name__',\n",
       " '__package__',\n",
       " '__path__',\n",
       " '__spec__',\n",
       " 'boston_housing',\n",
       " 'california_housing',\n",
       " 'cifar10',\n",
       " 'cifar100',\n",
       " 'fashion_mnist',\n",
       " 'imdb',\n",
       " 'mnist',\n",
       " 'reuters']"
      ]
     },
     "execution_count": 52,
     "metadata": {},
     "output_type": "execute_result"
    }
   ],
   "source": [
    "dir(keras.datasets)"
   ]
  },
  {
   "cell_type": "code",
   "execution_count": null,
   "id": "17ff361e-8bb1-482d-9552-ea8678cd748b",
   "metadata": {},
   "outputs": [],
   "source": []
  }
 ],
 "metadata": {
  "kernelspec": {
   "display_name": "Python 3 (ipykernel)",
   "language": "python",
   "name": "python3"
  },
  "language_info": {
   "codemirror_mode": {
    "name": "ipython",
    "version": 3
   },
   "file_extension": ".py",
   "mimetype": "text/x-python",
   "name": "python",
   "nbconvert_exporter": "python",
   "pygments_lexer": "ipython3",
   "version": "3.12.9"
  }
 },
 "nbformat": 4,
 "nbformat_minor": 5
}
