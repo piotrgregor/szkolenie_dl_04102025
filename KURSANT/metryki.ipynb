{
 "cells": [
  {
   "cell_type": "markdown",
   "id": "01aebee2-f358-41de-bc81-ec513f409493",
   "metadata": {},
   "source": [
    "| Pacjent | Rzeczywistość (chory/zdrowy) | Predykcja modelu |\n",
    "| ------- | ---------------------------- | ---------------- |\n",
    "| 1       | chory                        | chory            |\n",
    "| 2       | chory                        | zdrowy           |\n",
    "| 3       | chory                        | chory            |\n",
    "| 4       | zdrowy                       | zdrowy           |\n",
    "| 5       | zdrowy                       | zdrowy           |\n",
    "| 6       | zdrowy                       | chory            |\n",
    "| 7       | zdrowy                       | zdrowy           |\n",
    "| 8       | chory                        | chory            |\n",
    "| 9       | zdrowy                       | zdrowy           |\n",
    "| 10      | zdrowy                       | zdrowy           |"
   ]
  },
  {
   "cell_type": "code",
   "execution_count": 2,
   "id": "ab23001f-2e36-43a9-8349-8b9f410d31e9",
   "metadata": {},
   "outputs": [
    {
     "ename": "SyntaxError",
     "evalue": "invalid syntax (3061773620.py, line 1)",
     "output_type": "error",
     "traceback": [
      "  \u001b[36mCell\u001b[39m\u001b[36m \u001b[39m\u001b[32mIn[2]\u001b[39m\u001b[32m, line 1\u001b[39m\n\u001b[31m    \u001b[39m\u001b[31m| Pacjent | Rzeczywistość (chory/zdrowy) | Predykcja modelu |\u001b[39m\n    ^\n\u001b[31mSyntaxError\u001b[39m\u001b[31m:\u001b[39m invalid syntax\n"
     ]
    }
   ],
   "source": [
    "| Pacjent | Rzeczywistość (chory/zdrowy) | Predykcja modelu |\n",
    "| ------- | ---------------------------- | ---------------- |\n",
    "| 1       | chory                        | chory            |\n",
    "| 2       | chory                        | zdrowy           |\n",
    "| 3       | chory                        | chory            |\n",
    "| 4       | zdrowy                       | zdrowy           |\n",
    "| 5       | zdrowy                       | zdrowy           |\n",
    "| 6       | zdrowy                       | chory            |\n",
    "| 7       | zdrowy                       | zdrowy           |\n",
    "| 8       | chory                        | chory            |\n",
    "| 9       | zdrowy                       | zdrowy           |\n",
    "| 10      | zdrowy                       | zdrowy           |"
   ]
  },
  {
   "cell_type": "code",
   "execution_count": 1,
   "id": "2b10043b-2935-46fc-a2b1-f927a242a0bc",
   "metadata": {},
   "outputs": [],
   "source": [
    "TP = []\n",
    "TN = []\n",
    "FP = []\n",
    "FN = []"
   ]
  },
  {
   "cell_type": "code",
   "execution_count": null,
   "id": "0542c7aa-fc9d-4a99-9d82-d5c2b20753d6",
   "metadata": {},
   "outputs": [],
   "source": []
  }
 ],
 "metadata": {
  "kernelspec": {
   "display_name": "Python 3 (ipykernel)",
   "language": "python",
   "name": "python3"
  },
  "language_info": {
   "codemirror_mode": {
    "name": "ipython",
    "version": 3
   },
   "file_extension": ".py",
   "mimetype": "text/x-python",
   "name": "python",
   "nbconvert_exporter": "python",
   "pygments_lexer": "ipython3",
   "version": "3.12.9"
  }
 },
 "nbformat": 4,
 "nbformat_minor": 5
}
