{
 "cells": [
  {
   "cell_type": "code",
   "execution_count": 28,
   "id": "457d0d7a-5d6e-4e6f-bac3-e267f1176625",
   "metadata": {},
   "outputs": [],
   "source": [
    "import numpy as np\n",
    "import matplotlib.pyplot as plt\n",
    "\n",
    "# Dane treningowe: [masa, średnica]\n",
    "X_train = np.array([\n",
    "    [130.0, 7.0],   # jabłko\n",
    "    [150.0, 8.0],   # jabłko\n",
    "    [180.0, 8.5],   # jabłko\n",
    "    [90.0, 6.0],    # pomarańcza\n",
    "    [100.0, 6.5],   # pomarańcza\n",
    "    [110.0, 7.0],   # pomarańcza\n",
    "    [131.0, 7.3],   # jabłko\n",
    "    [152.0, 8.1],   # jabłko\n",
    "    [179.0, 8.3],   # jabłko\n",
    "    [92.0, 6.1],    # pomarańcza\n",
    "    [101.0, 6.5],   # pomarańcza\n",
    "    [111.0, 7.0],   # pomarańcza\n",
    "], dtype=float)\n",
    "\n",
    "# Etykiety: jabłko = 1, pomarańcza = 0\n",
    "y_train = np.array([1, 1, 1, 0, 0, 0, 1, 1, 1, 0, 0, 0], dtype=int)\n",
    "\n",
    "# Dane testowe\n",
    "X_test = np.array([\n",
    "    [145.0, 9.5],   # jabłko\n",
    "    [155.0, 8.5],   # jabłko\n",
    "    [185.0, 8.2],   # jabłko\n",
    "    [85.0, 7.0],    # pomarańcza\n",
    "    [101.0, 6.1],   # pomarańcza\n",
    "    [110.0, 8.0],   # pomarańcza\n",
    "], dtype=float)\n",
    "\n",
    "y_test = np.array([1, 1, 1, 0, 0, 0], dtype=int)"
   ]
  },
  {
   "cell_type": "code",
   "execution_count": 3,
   "id": "77f3eab1-d966-4a00-9333-759da0b40b90",
   "metadata": {},
   "outputs": [],
   "source": [
    "def threshold_function(x: np.array, threshold: int = 0) -> np.array:\n",
    "    return np.where(x >= threshold, 1, 0)\n"
   ]
  },
  {
   "cell_type": "code",
   "execution_count": 16,
   "id": "cf771457-5084-45f7-afa6-e977a9f9c093",
   "metadata": {},
   "outputs": [],
   "source": [
    "class Perceptron:\n",
    "\n",
    "    def __init__(self, acitvation_func=threshold_function, epochs=100, learning_rate=0.01):\n",
    "        self.activation_func = acitvation_func\n",
    "        self.weights = None\n",
    "        self.bias = 0\n",
    "        self.epochs = epochs\n",
    "        self.lr = learning_rate\n",
    "\n",
    "    def fit(self, features, labels):\n",
    "        n_samples, n_features = features.shape\n",
    "        self.weights = np.zeros(n_features)\n",
    "        y = np.array(labels)\n",
    "\n",
    "        for _ in range(self.epochs):\n",
    "            for i, x_i in enumerate(features):\n",
    "                y_predicted = self.predict(x_i)\n",
    "                update = self.lr * (y[i] - y_predicted) \n",
    "\n",
    "                self.weights += update * x_i\n",
    "                self.bias += update\n",
    "\n",
    "    def _linear_output(self, features):\n",
    "        return features @ self.weights + self.bias\n",
    "\n",
    "    def predict(self, features: np.array) -> np.array:\n",
    "        linear_output = self._linear_output(features)\n",
    "        y_predicted = self.activation_func(linear_output)\n",
    "        return y_predicted"
   ]
  },
  {
   "cell_type": "code",
   "execution_count": 14,
   "id": "7ed3fdad-21aa-42e4-a59c-a4830f49dc1c",
   "metadata": {},
   "outputs": [],
   "source": [
    "model = Perceptron()\n",
    "\n",
    "model.fit(X_train, y_train)\n"
   ]
  },
  {
   "cell_type": "code",
   "execution_count": 17,
   "id": "e7df09be-3ccc-4346-919e-827fbfe0bb1d",
   "metadata": {},
   "outputs": [],
   "source": [
    "preds = model.predict(X_test)"
   ]
  },
  {
   "cell_type": "code",
   "execution_count": 18,
   "id": "9a1f05ad-4dfe-48dd-b722-7443bb873001",
   "metadata": {},
   "outputs": [
    {
     "data": {
      "text/plain": [
       "{'TP': 2,\n",
       " 'FP': 0,\n",
       " 'TN': 3,\n",
       " 'FN': 1,\n",
       " 'accuracy': 0.8333333333333334,\n",
       " 'precision': 1.0,\n",
       " 'recall': 0.6666666666666666,\n",
       " 'f1': 0.8,\n",
       " 'TPR': 0.6666666666666666,\n",
       " 'FPR': 0.0}"
      ]
     },
     "execution_count": 18,
     "metadata": {},
     "output_type": "execute_result"
    }
   ],
   "source": [
    "def confusion_counts(y_true, y_pred):\n",
    "    y_true = np.asarray(y_true)\n",
    "    y_pred = np.asarray(y_pred)\n",
    "    TP = int(((y_true == 1) & (y_pred == 1)).sum())\n",
    "    FP = int(((y_true == 0) & (y_pred == 1)).sum())\n",
    "    TN = int(((y_true == 0) & (y_pred == 0)).sum())\n",
    "    FN = int(((y_true == 1) & (y_pred == 0)).sum())\n",
    "    return TP, FP, TN, FN\n",
    "\n",
    "def metrics_one(y_true, y_pred):\n",
    "    TP, FP, TN, FN = confusion_counts(y_true, y_pred)\n",
    "    total = TP + FP + TN + FN\n",
    "    acc = (TP + TN) / total if total else np.nan\n",
    "    prec = TP / (TP + FP) if (TP + FP) else 0.0\n",
    "    rec = TP / (TP + FN) if (TP + FN) else 0.0\n",
    "    f1 = 2 * prec * rec / (prec + rec) if (prec + rec) else 0.0\n",
    "\n",
    "    tpr = rec\n",
    "    fpr = FP / (FP + TN) if (FP + TN) else 0.0\n",
    "    return TP, FP, TN, FN, acc, prec, rec, f1, tpr, fpr\n",
    "\n",
    "def metrics_dict(y_true, y_pred):\n",
    "    TP, FP, TN, FN, acc, prec, rec, f1, tpr, fpr = metrics_one(y_true, y_pred)\n",
    "\n",
    "    return {\n",
    "        \"TP\": TP, \"FP\": FP, \"TN\": TN, \"FN\": FN,\n",
    "        \"accuracy\": acc,\n",
    "        \"precision\": prec,\n",
    "        \"recall\": rec,\n",
    "        \"f1\": f1,\n",
    "        \"TPR\": tpr,\n",
    "        \"FPR\": fpr\n",
    "    }\n",
    "\n",
    "metrics_dict(y_test, preds)"
   ]
  },
  {
   "cell_type": "code",
   "execution_count": 19,
   "id": "31b8cce4-c857-4610-b967-082630945ba2",
   "metadata": {},
   "outputs": [],
   "source": [
    "def make_meshgrid(X, n_points=200, margin=2):\n",
    "\n",
    "    x_min, x_max = X[:, 0].min() - margin, X[:, 0].max() + margin\n",
    "    y_min, y_max = X[:, 1].min() - margin, X[:, 1].max() + margin\n",
    "\n",
    "    xx, yy = np.meshgrid(\n",
    "        np.linspace(x_min, x_max, n_points),\n",
    "        np.linspace(y_min, y_max, n_points),\n",
    "    )\n",
    "\n",
    "    return xx, yy"
   ]
  },
  {
   "cell_type": "code",
   "execution_count": 26,
   "id": "d5f4684c-7ba8-48fc-bd46-f6e3711f6c1b",
   "metadata": {},
   "outputs": [],
   "source": [
    "xx, yy = make_meshgrid(X_test)"
   ]
  },
  {
   "cell_type": "code",
   "execution_count": 24,
   "id": "b9cd0a2c-585b-43e6-ae1e-987f6ec2b200",
   "metadata": {},
   "outputs": [],
   "source": [
    "def predict_on_mesh(model, xx, yy):\n",
    "    grid_points = np.c_[xx.ravel(), yy.ravel()]\n",
    "    Z = model.predict(grid_points)\n",
    "    return Z.reshape(xx.shape)"
   ]
  },
  {
   "cell_type": "code",
   "execution_count": 27,
   "id": "56c99f26-d7ba-4176-8b24-e12a2362be62",
   "metadata": {},
   "outputs": [
    {
     "data": {
      "text/plain": [
       "array([[1, 1, 1, ..., 1, 1, 1],\n",
       "       [1, 1, 1, ..., 1, 1, 1],\n",
       "       [1, 1, 1, ..., 1, 1, 1],\n",
       "       ...,\n",
       "       [0, 0, 0, ..., 0, 0, 0],\n",
       "       [0, 0, 0, ..., 0, 0, 0],\n",
       "       [0, 0, 0, ..., 0, 0, 0]])"
      ]
     },
     "execution_count": 27,
     "metadata": {},
     "output_type": "execute_result"
    }
   ],
   "source": [
    "predict_on_mesh(model, xx, yy)"
   ]
  },
  {
   "cell_type": "code",
   "execution_count": 41,
   "id": "754626d4-3973-46ce-a878-6bdef73ed0ef",
   "metadata": {},
   "outputs": [],
   "source": [
    "def plot_decision_bounduary(X, y, model):\n",
    "    xx, yy  = make_meshgrid(X)\n",
    "    Z = predict_on_mesh(model, xx, yy)\n",
    "    y_pred = model.predict(X)\n",
    "\n",
    "    plt.contourf(xx, yy, Z)\n",
    "\n",
    "    # predykcje\n",
    "    plt.scatter(X[y_pred == 0, 0], X[y_pred == 0, 1], s=100)\n",
    "    plt.scatter(X[y_pred == 1, 0], X[y_pred == 1, 1], s=100)\n",
    "\n",
    "    # rzeczywiste etykiety\n",
    "    plt.scatter(X[y == 0, 0], X[y == 0, 1], marker=\"+\")\n",
    "    plt.scatter(X[y == 1, 0], X[y == 1, 1], marker=\"+\")\n"
   ]
  },
  {
   "cell_type": "code",
   "execution_count": 42,
   "id": "4455c7de-1a05-4625-a6e0-38bf4de6028f",
   "metadata": {},
   "outputs": [
    {
     "data": {
      "image/png": "[encoded data removed]",
      "text/plain": [
       "<Figure size 640x480 with 1 Axes>"
      ]
     },
     "metadata": {},
     "output_type": "display_data"
    }
   ],
   "source": [
    "plot_decision_bounduary(X_test, y_test, model)"
   ]
  },
  {
   "cell_type": "code",
   "execution_count": 43,
   "id": "ae5abc78-cb69-41f5-a712-08f538e55416",
   "metadata": {},
   "outputs": [],
   "source": [
    "X_train_scaled = X_train / X_train.max()\n",
    "X_test_scaled = X_test / X_train.max()"
   ]
  },
  {
   "cell_type": "code",
   "execution_count": 44,
   "id": "c96724ea-9228-400f-aafd-902e2d81126f",
   "metadata": {},
   "outputs": [
    {
     "data": {
      "text/plain": [
       "array([[0.80555556, 0.05277778],\n",
       "       [0.86111111, 0.04722222],\n",
       "       [1.02777778, 0.04555556],\n",
       "       [0.47222222, 0.03888889],\n",
       "       [0.56111111, 0.03388889],\n",
       "       [0.61111111, 0.04444444]])"
      ]
     },
     "execution_count": 44,
     "metadata": {},
     "output_type": "execute_result"
    }
   ],
   "source": [
    "X_test_scaled"
   ]
  },
  {
   "cell_type": "code",
   "execution_count": 45,
   "id": "7a59ecfb-a4ba-4b16-804e-e058234b4477",
   "metadata": {},
   "outputs": [],
   "source": [
    "model = Perceptron()\n",
    "model.fit(X_train_scaled, y_train)"
   ]
  },
  {
   "cell_type": "code",
   "execution_count": 47,
   "id": "304887b9-089a-4cae-b57d-2bc28d944db2",
   "metadata": {},
   "outputs": [],
   "source": [
    "preds = model.predict(X_test_scaled)"
   ]
  },
  {
   "cell_type": "code",
   "execution_count": 48,
   "id": "37c1d864-2cd0-4cfe-8352-d90c9dd02d2d",
   "metadata": {},
   "outputs": [
    {
     "data": {
      "text/plain": [
       "array([1, 1, 1, 0, 0, 0])"
      ]
     },
     "execution_count": 48,
     "metadata": {},
     "output_type": "execute_result"
    }
   ],
   "source": [
    "preds"
   ]
  },
  {
   "cell_type": "code",
   "execution_count": 49,
   "id": "b053f087-70a4-4c56-8599-2d72ae860289",
   "metadata": {},
   "outputs": [
    {
     "data": {
      "image/png": "[encoded data removed]",
      "text/plain": [
       "<Figure size 640x480 with 1 Axes>"
      ]
     },
     "metadata": {},
     "output_type": "display_data"
    }
   ],
   "source": [
    "plot_decision_bounduary(X_test_scaled, y_test, model)"
   ]
  },
  {
   "cell_type": "code",
   "execution_count": null,
   "id": "43973721-68f5-4078-83c9-3320631c63d4",
   "metadata": {},
   "outputs": [],
   "source": []
  }
 ],
 "metadata": {
  "kernelspec": {
   "display_name": "Python 3 (ipykernel)",
   "language": "python",
   "name": "python3"
  },
  "language_info": {
   "codemirror_mode": {
    "name": "ipython",
    "version": 3
   },
   "file_extension": ".py",
   "mimetype": "text/x-python",
   "name": "python",
   "nbconvert_exporter": "python",
   "pygments_lexer": "ipython3",
   "version": "3.12.9"
  }
 },
 "nbformat": 4,
 "nbformat_minor": 5
}
