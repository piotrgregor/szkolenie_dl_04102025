{
 "cells": [
  {
   "cell_type": "markdown",
   "id": "6dd94742-fcd3-4e0a-ba77-3f3fccc80350",
   "metadata": {
    "jupyter": {
     "source_hidden": true
    }
   },
   "source": [
    "# Ćwiczenie: Perceptron binarny\n",
    "W tym ćwiczeniu zbudujesz i przetestujesz prosty perceptron do klasyfikacji otyłości na podstawie wzrostu i wagi. Postępuj krok po kroku zgodnie z instrukcjami w notatniku. Na końcu obliczysz dokładność na zestawie testowym.\n"
   ]
  },
  {
   "cell_type": "code",
   "execution_count": 22,
   "id": "b38c16b9-4c36-4a7e-93af-11eefcceae2b",
   "metadata": {},
   "outputs": [],
   "source": [
    "import numpy as np\n",
    "import pandas as pd\n",
    "import matplotlib.pyplot as plt\n",
    "\n",
    "\n",
    "# Funkcja aktywacji (progowa)\n",
    "def threshold_function(x: np.array, threshold: int = 0) -> np.array:\n",
    "    return np.where(x >= threshold, 1, 0)\n",
    "\n",
    "\n",
    "class Perceptron:\n",
    "\n",
    "    def __init__(\n",
    "        self,\n",
    "        learning_rate=0.01,\n",
    "        epochs=100,\n",
    "        activation_function=threshold_function,\n",
    "        start_weights=None,\n",
    "        start_bias=None,\n",
    "    ):\n",
    "\n",
    "        # hiperparametry\n",
    "        self.lr = learning_rate\n",
    "        self.epochs = epochs\n",
    "        self.activation_func = activation_function\n",
    "\n",
    "        # parametry (uczone podczas treningu)\n",
    "        self.weights = start_weights\n",
    "        self.bias = start_bias or 0\n",
    "\n",
    "    def fit(self, features, labels):\n",
    "\n",
    "        n_samples, n_features = features.shape\n",
    "\n",
    "        # Inicjalizacja wag zerami (jeśli nie podano startowych)\n",
    "        self.weights = np.zeros(n_features)\n",
    "\n",
    "        y = np.array(labels)\n",
    "\n",
    "        # Pętla ucząca (epoki)\n",
    "        for _ in range(self.epochs):\n",
    "            # Iterujemy po wszystkich próbkach\n",
    "            for i, x_i in enumerate(features):\n",
    "                # Obliczamy wyjście liniowe\n",
    "                linear_output = self._linear_output(x_i)\n",
    "\n",
    "                # Przepuszczamy przez funkcję aktywacji\n",
    "                y_predicted = self.activation_func(linear_output)\n",
    "\n",
    "                # Obliczamy błąd (y_true - y_pred)\n",
    "                # i wyznaczamy wielkość aktualizacji\n",
    "                update = self.lr * (y[i] - y_predicted)\n",
    "\n",
    "                # Aktualizacja wag i biasu\n",
    "                self.weights += update * x_i\n",
    "                self.bias += update\n",
    "\n",
    "    def _linear_output(self, features):\n",
    "        return features @ self.weights + self.bias\n",
    "\n",
    "    def predict(self, features):\n",
    "        linear_output = self._linear_output(features)\n",
    "        y_predicted = self.activation_func(linear_output)\n",
    "        return y_predicted"
   ]
  },
  {
   "cell_type": "markdown",
   "id": "7d07b1a9-852b-4b20-8249-beb5365973a9",
   "metadata": {},
   "source": [
    "## Zadanie: wczytaj dane i przygotuj etykiety\n",
    "Masz plik wzrost_waga.txt w tym samym katalogu. Każdy wiersz zawiera trzy wartości rozdzielone spacją lub tabem:\n",
    "- wzrost w metrach (float),\n",
    "- waga w kilogramach (float),\n",
    "- etykieta klasy 0/1 (int), wyznaczona na podstawie BMI (próg 25).\n",
    "\n",
    "Twoim zadaniem jest wczytać dane, wyodrębnić cechy X (wzrost, waga) i etykiety y (0/1).\n"
   ]
  },
  {
   "cell_type": "code",
   "execution_count": 23,
   "id": "20dd59f5-58dd-4ddb-ae89-8290a47180b2",
   "metadata": {},
   "outputs": [
    {
     "data": {
      "text/plain": [
       "(array([[  1.62,  48.  ],\n",
       "        [  1.63,  60.  ],\n",
       "        [  1.82,  60.  ],\n",
       "        [  1.87, 107.  ],\n",
       "        [  1.69,  59.  ],\n",
       "        [  1.65,  60.  ],\n",
       "        [  1.68,  67.  ],\n",
       "        [  1.79, 107.  ],\n",
       "        [  1.57,  75.  ],\n",
       "        [  1.6 ,  85.  ],\n",
       "        [  1.67,  62.  ],\n",
       "        [  1.73,  72.  ],\n",
       "        [  1.79, 100.  ],\n",
       "        [  1.65,  74.  ],\n",
       "        [  1.59,  55.  ],\n",
       "        [  1.65,  57.  ],\n",
       "        [  1.75,  71.  ],\n",
       "        [  1.57,  56.  ],\n",
       "        [  1.68,  87.  ],\n",
       "        [  1.68,  82.  ],\n",
       "        [  1.64,  74.  ],\n",
       "        [  1.82,  77.  ],\n",
       "        [  1.63,  56.  ],\n",
       "        [  1.62,  70.  ],\n",
       "        [  1.59,  78.  ],\n",
       "        [  1.88,  69.  ],\n",
       "        [  1.62,  80.  ],\n",
       "        [  1.76,  91.  ],\n",
       "        [  1.55,  81.  ],\n",
       "        [  1.87,  79.  ]]),\n",
       " array([0, 0, 0, 1, 0, 0, 0, 1, 1, 1, 0, 0, 1, 1, 0, 0, 0, 0, 1, 1, 1, 0,\n",
       "        0, 1, 1, 0, 1, 1, 1, 0]))"
      ]
     },
     "execution_count": 23,
     "metadata": {},
     "output_type": "execute_result"
    }
   ],
   "source": [
    "# Funkcja pomocnicza do wczytania danych z pliku\n",
    "\n",
    "def load_data_1(file_path):\n",
    "    data = np.loadtxt(file_path, delimiter=\",\", skiprows=1)\n",
    "    heights = data[:, 0] / 100\n",
    "    weights = data[:, 1]\n",
    "    bmi = weights / (heights ** 2)\n",
    "    labels = np.where(bmi >= 25, 1, 0)\n",
    "    \n",
    "    return data, labels\n",
    "\n",
    "def load_data_2(file_path):\n",
    "    df = pd.read_csv(file_path)\n",
    "    df[\"wzrost_m\"] = df[\"wzrost\"] / 100\n",
    "    df[\"bmi\"] = df[\"waga\"] / df[\"wzrost_m\"] ** 2\n",
    "    labels = labels = np.where(df[\"bmi\"] >= 25, 1, 0)\n",
    "    features = df[[\"wzrost_m\", \"waga\"]].to_numpy()\n",
    "    return features, labels\n",
    "\n",
    "load_data_2(\"wzrost_waga.txt\")"
   ]
  },
  {
   "cell_type": "code",
   "execution_count": 24,
   "id": "9a3da70d-c522-42c0-87a3-9db13b5e9a6e",
   "metadata": {},
   "outputs": [
    {
     "data": {
      "text/plain": [
       "array([0, 0, 0, 1, 0, 0, 0, 1, 1, 1, 0, 0, 1, 1, 0, 0, 0, 0, 1, 1, 1, 0,\n",
       "       0, 1, 1, 0, 1, 1, 1, 0])"
      ]
     },
     "execution_count": 24,
     "metadata": {},
     "output_type": "execute_result"
    }
   ],
   "source": [
    "# 1. Wczytaj dane\n",
    "X, y = load_data_2(\"wzrost_waga.txt\")\n",
    "y"
   ]
  },
  {
   "cell_type": "code",
   "execution_count": 25,
   "id": "b17d9134-25da-45e3-a431-8e2eda66be2d",
   "metadata": {},
   "outputs": [
    {
     "name": "stdout",
     "output_type": "stream",
     "text": [
      "Wyuczone wagi: [-20.432  -0.3  ]\n",
      "Wyuczony bias: -11.699999999999974\n"
     ]
    }
   ],
   "source": [
    "# 2. Utwórz i wytrenuj perceptron\n",
    "perceptron = Perceptron(learning_rate=0.1, epochs=50)\n",
    "perceptron.fit(X, y)\n",
    "print(\"Wyuczone wagi:\", perceptron.weights)\n",
    "print(\"Wyuczony bias:\", perceptron.bias)"
   ]
  },
  {
   "cell_type": "code",
   "execution_count": 26,
   "id": "b40e4866-a481-45b2-8df9-639d760d75ea",
   "metadata": {},
   "outputs": [
    {
     "name": "stdout",
     "output_type": "stream",
     "text": [
      "[19.53125    22.20408163 27.77777778 29.38475666 26.31578947 20.76124567\n",
      " 29.13631634]\n",
      "X_test:\n",
      " [[ 1.6  50.  ]\n",
      " [ 1.75 68.  ]\n",
      " [ 1.8  90.  ]\n",
      " [ 1.65 80.  ]\n",
      " [ 1.9  95.  ]\n",
      " [ 1.7  60.  ]\n",
      " [ 1.55 70.  ]]\n",
      "y_test: [0. 0. 1. 1. 1. 0. 1.]\n"
     ]
    }
   ],
   "source": [
    "# Sprawdź na danych testowych, jak działa model\n",
    "# Dane: [wzrost (m), waga (kg), klasa]\n",
    "# Klasa obliczona na podstawie BMI (próg = 25)\n",
    "data = np.array(\n",
    "    [\n",
    "        [1.60, 50, 0],  # BMI = 19.5 → klasa 0\n",
    "        [1.75, 68, 0],  # BMI = 22.2 → klasa 0\n",
    "        [1.80, 90, 1],  # BMI = 27.8 → klasa 1\n",
    "        [1.65, 80, 1],  # BMI = 29.4 → klasa 1\n",
    "        [1.90, 95, 1],  # BMI = 26.3 → klasa 1\n",
    "        [1.70, 60, 0],  # BMI = 20.8 → klasa 0\n",
    "        [1.55, 70, 1],  # BMI = 29.1 → klasa 1\n",
    "    ]\n",
    ")\n",
    "\n",
    "print(data[:, 1] / data[:, 0] ** 2)\n",
    "\n",
    "# Podział na cechy (X) i etykiety (y)\n",
    "X = data[:, :2]  # wzrost, waga\n",
    "y = data[:, 2]  # klasa\n",
    "\n",
    "# Dla testu możemy użyć np. wszystkich danych (albo podzielić na train/test)\n",
    "X_test = X\n",
    "y_test = y\n",
    "\n",
    "print(\"X_test:\\n\", X_test)\n",
    "print(\"y_test:\", y_test)"
   ]
  },
  {
   "cell_type": "code",
   "execution_count": 27,
   "id": "8c90bffac4e6b4c",
   "metadata": {},
   "outputs": [
    {
     "name": "stdout",
     "output_type": "stream",
     "text": [
      "Dokładność na teście: 0.429\n"
     ]
    }
   ],
   "source": [
    "# 3. Ocena: dokładność na danych testowych\n",
    "try:\n",
    "    y_pred = perceptron.predict(X_test)\n",
    "    acc = (y_pred == y_test).mean()\n",
    "    print(\"Dokładność na teście:\", round(float(acc), 3))\n",
    "except NameError:\n",
    "    print(\"Upewnij się, że zdefiniowałeś/aś i wytrenowałeś/aś obiekt 'perceptron'.\")"
   ]
  },
  {
   "cell_type": "code",
   "execution_count": 28,
   "id": "32ee7ead-a359-4911-ba2a-58765e7cf95b",
   "metadata": {},
   "outputs": [
    {
     "data": {
      "image/png": "[encoded data removed]",
      "text/plain": [
       "<Figure size 640x480 with 1 Axes>"
      ]
     },
     "metadata": {},
     "output_type": "display_data"
    }
   ],
   "source": [
    "def make_meshgrid(X, n_points=200, margin=2):\n",
    "\n",
    "    x_min, x_max = X[:, 0].min() - margin, X[:, 0].max() + margin\n",
    "    y_min, y_max = X[:, 1].min() - margin, X[:, 1].max() + margin\n",
    "\n",
    "    xx, yy = np.meshgrid(\n",
    "        np.linspace(x_min, x_max, n_points),\n",
    "        np.linspace(y_min, y_max, n_points),\n",
    "    )\n",
    "\n",
    "    return xx, yy\n",
    "\n",
    "\n",
    "def predict_on_mesh(model, xx, yy):\n",
    "    grid_points = np.c_[xx.ravel(), yy.ravel()]\n",
    "    Z = model.predict(grid_points)\n",
    "    return Z.reshape(xx.shape)\n",
    "    \n",
    "\n",
    "def plot_decision_bounduary(X, y, model):\n",
    "    xx, yy  = make_meshgrid(X)\n",
    "    Z = predict_on_mesh(model, xx, yy)\n",
    "    y_pred = model.predict(X)\n",
    "\n",
    "    plt.contourf(xx, yy, Z)\n",
    "\n",
    "    # predykcje\n",
    "    plt.scatter(X[y_pred == 0, 0], X[y_pred == 0, 1], s=100)\n",
    "    plt.scatter(X[y_pred == 1, 0], X[y_pred == 1, 1], s=100)\n",
    "\n",
    "    # rzeczywiste etykiety\n",
    "    plt.scatter(X[y == 0, 0], X[y == 0, 1], marker=\"+\")\n",
    "    plt.scatter(X[y == 1, 0], X[y == 1, 1], marker=\"+\")\n",
    "\n",
    "\n",
    "plot_decision_bounduary(X_test, y_test, perceptron)"
   ]
  },
  {
   "cell_type": "code",
   "execution_count": null,
   "id": "7fabfc1e-16e6-4f03-8587-8c76b286a020",
   "metadata": {},
   "outputs": [],
   "source": []
  }
 ],
 "metadata": {
  "kernelspec": {
   "display_name": "Python 3 (ipykernel)",
   "language": "python",
   "name": "python3"
  },
  "language_info": {
   "codemirror_mode": {
    "name": "ipython",
    "version": 3
   },
   "file_extension": ".py",
   "mimetype": "text/x-python",
   "name": "python",
   "nbconvert_exporter": "python",
   "pygments_lexer": "ipython3",
   "version": "3.12.9"
  }
 },
 "nbformat": 4,
 "nbformat_minor": 5
}
