{
 "cells": [
  {
   "cell_type": "markdown",
   "metadata": {
    "collapsed": true,
    "jupyter": {
     "outputs_hidden": true
    }
   },
   "source": [
    "# Ćwiczenia z podstaw PyTorcha\n",
    "W tych zadaniach utworzymy tensor i wykonamy na nim kilka operacji.\n",
    "\n",
    "<div class=\"alert alert-danger\" style=\"margin: 10px\"><strong>WAŻNA UWAGA!</strong> Nie uruchamiaj komórek znajdujących się bezpośrednio nad przykładowymi wynikami,<br>w przeciwnym razie nadpiszesz pokazane rozwiązania!</div>\n"
   ]
  },
  {
   "cell_type": "markdown",
   "metadata": {},
   "source": [
    "### 1. Wykonaj standardowe importy\n",
    "Zaimportuj torch oraz NumPy.\n"
   ]
  },
  {
   "cell_type": "code",
   "execution_count": 1,
   "metadata": {},
   "outputs": [],
   "source": [
    "# KOD TUTAJ\n",
    "import torch\n",
    "import numpy as np\n"
   ]
  },
  {
   "cell_type": "code",
   "execution_count": 4,
   "metadata": {},
   "outputs": [],
   "source": [
    "x =1;y=2"
   ]
  },
  {
   "cell_type": "markdown",
   "metadata": {},
   "source": [
    "### 2. Ustaw ziarno losowe NumPy i PyTorch na wartość „42”\n",
    "Dzięki temu będziemy otrzymywać te same „losowe” wyniki.\n"
   ]
  },
  {
   "cell_type": "code",
   "execution_count": 8,
   "metadata": {},
   "outputs": [],
   "source": [
    "# KOD TUTAJ\n",
    "np.random.seed(100)\n",
    "torch.manual_seed(100);\n"
   ]
  },
  {
   "cell_type": "markdown",
   "metadata": {},
   "source": [
    "### 3. Utwórz tablicę NumPy „arr” zawierającą 6 losowych liczb całkowitych z zakresu [0, 5)\n"
   ]
  },
  {
   "cell_type": "code",
   "execution_count": 9,
   "metadata": {},
   "outputs": [
    {
     "name": "stdout",
     "output_type": "stream",
     "text": [
      "[0 0 3 0 2 4]\n"
     ]
    }
   ],
   "source": [
    "# KOD TUTAJ\n",
    "\n",
    "arr = np.random.randint(0, 5, 6)\n",
    "print(arr)"
   ]
  },
  {
   "cell_type": "code",
   "execution_count": 10,
   "metadata": {},
   "outputs": [],
   "source": [
    "# NIE PISZ TUTAJ"
   ]
  },
  {
   "cell_type": "markdown",
   "metadata": {},
   "source": [
    "### 4. Utwórz tensor „x” z powyższej tablicy\n"
   ]
  },
  {
   "cell_type": "code",
   "execution_count": 11,
   "metadata": {},
   "outputs": [
    {
     "data": {
      "text/plain": [
       "tensor([0, 0, 3, 0, 2, 4])"
      ]
     },
     "execution_count": 11,
     "metadata": {},
     "output_type": "execute_result"
    }
   ],
   "source": [
    "# KOD TUTAJ\n",
    "\n",
    "x = torch.from_numpy(arr)\n",
    "x"
   ]
  },
  {
   "cell_type": "code",
   "execution_count": 4,
   "metadata": {},
   "outputs": [
    {
     "name": "stdout",
     "output_type": "stream",
     "text": [
      "tensor([3, 4, 2, 4, 4, 1], dtype=torch.int32)\n"
     ]
    }
   ],
   "source": [
    "# NIE PISZ TUTAJ"
   ]
  },
  {
   "cell_type": "markdown",
   "metadata": {},
   "source": [
    "### 5. Zmień dtype tensora x z 'int32' na 'int64'\n",
    "Uwaga: 'int64' to również 'LongTensor'.\n"
   ]
  },
  {
   "cell_type": "code",
   "execution_count": 15,
   "metadata": {},
   "outputs": [
    {
     "data": {
      "text/plain": [
       "tensor([0, 0, 3, 0, 2, 4], dtype=torch.int32)"
      ]
     },
     "execution_count": 15,
     "metadata": {},
     "output_type": "execute_result"
    }
   ],
   "source": [
    "# KOD TUTAJ\n",
    "x.dtype\n",
    "x = x.type(torch.int32)\n",
    "x"
   ]
  },
  {
   "cell_type": "code",
   "execution_count": 5,
   "metadata": {},
   "outputs": [
    {
     "name": "stdout",
     "output_type": "stream",
     "text": [
      "torch.LongTensor\n"
     ]
    }
   ],
   "source": [
    "# NIE PISZ TUTAJ"
   ]
  },
  {
   "cell_type": "markdown",
   "metadata": {},
   "source": [
    "### 6. Przekształć x do tensora 3x2\n",
    "Można to zrobić na kilka sposobów.\n"
   ]
  },
  {
   "cell_type": "code",
   "execution_count": 17,
   "metadata": {},
   "outputs": [
    {
     "data": {
      "text/plain": [
       "tensor([[0, 0],\n",
       "        [3, 0],\n",
       "        [2, 4]], dtype=torch.int32)"
      ]
     },
     "execution_count": 17,
     "metadata": {},
     "output_type": "execute_result"
    }
   ],
   "source": [
    "# KOD TUTAJ\n",
    "# x.reshape(3, 2)\n",
    "x.view(3, 2)\n"
   ]
  },
  {
   "cell_type": "code",
   "execution_count": 6,
   "metadata": {},
   "outputs": [
    {
     "name": "stdout",
     "output_type": "stream",
     "text": [
      "tensor([[3, 4],\n",
      "        [2, 4],\n",
      "        [4, 1]])\n"
     ]
    }
   ],
   "source": [
    "# NIE PISZ TUTAJ"
   ]
  },
  {
   "cell_type": "markdown",
   "metadata": {},
   "source": [
    "### 7. Zwróć prawą kolumnę tensora x\n"
   ]
  },
  {
   "cell_type": "code",
   "execution_count": 19,
   "metadata": {},
   "outputs": [
    {
     "data": {
      "text/plain": [
       "tensor([[0],\n",
       "        [0],\n",
       "        [4]], dtype=torch.int32)"
      ]
     },
     "execution_count": 19,
     "metadata": {},
     "output_type": "execute_result"
    }
   ],
   "source": [
    "# KOD TUTAJ\n",
    "\n",
    "x = x.reshape(3,2)\n",
    "x[:, -1:]"
   ]
  },
  {
   "cell_type": "code",
   "execution_count": 7,
   "metadata": {},
   "outputs": [
    {
     "name": "stdout",
     "output_type": "stream",
     "text": [
      "tensor([[4],\n",
      "        [4],\n",
      "        [1]])\n"
     ]
    }
   ],
   "source": [
    "# NIE PISZ TUTAJ"
   ]
  },
  {
   "cell_type": "markdown",
   "metadata": {},
   "source": [
    "### 8. Nie zmieniając x, zwróć tensor z kwadratami jego wartości\n",
    "Można to zrobić na kilka sposobów.\n"
   ]
  },
  {
   "cell_type": "code",
   "execution_count": 21,
   "metadata": {},
   "outputs": [
    {
     "data": {
      "text/plain": [
       "(tensor([[ 0,  0],\n",
       "         [ 9,  0],\n",
       "         [ 4, 16]], dtype=torch.int32),\n",
       " tensor([[0, 0],\n",
       "         [3, 0],\n",
       "         [2, 4]], dtype=torch.int32))"
      ]
     },
     "execution_count": 21,
     "metadata": {},
     "output_type": "execute_result"
    }
   ],
   "source": [
    "# KOD TUTAJ\n",
    "x ** 2, x\n"
   ]
  },
  {
   "cell_type": "code",
   "execution_count": 8,
   "metadata": {},
   "outputs": [
    {
     "name": "stdout",
     "output_type": "stream",
     "text": [
      "tensor([[ 9, 16],\n",
      "        [ 4, 16],\n",
      "        [16,  1]])\n"
     ]
    }
   ],
   "source": [
    "# NIE PISZ TUTAJ"
   ]
  },
  {
   "cell_type": "markdown",
   "metadata": {},
   "source": [
    "### 9. Utwórz tensor „y” z taką samą liczbą elementów jak x, umożliwiający mnożenie macierzy z x\n",
    "Użyj bezpośrednio PyTorcha (nie NumPy), aby stworzyć tensor losowych liczb całkowitych z zakresu [0, 5).<br>\n",
    "Zastanów się, jaki kształt musi mieć tensor, aby mnożenie macierzy było możliwe.\n"
   ]
  },
  {
   "cell_type": "code",
   "execution_count": 33,
   "metadata": {},
   "outputs": [],
   "source": [
    "# KOD TUTAJ\n",
    "y = torch.randint(0, 5, (3, 2))\n",
    "y = y.type(torch.int32)"
   ]
  },
  {
   "cell_type": "code",
   "execution_count": 34,
   "metadata": {},
   "outputs": [
    {
     "data": {
      "text/plain": [
       "tensor([[0, 3, 2],\n",
       "        [0, 0, 4]], dtype=torch.int32)"
      ]
     },
     "execution_count": 34,
     "metadata": {},
     "output_type": "execute_result"
    }
   ],
   "source": [
    "x.T"
   ]
  },
  {
   "cell_type": "code",
   "execution_count": 35,
   "metadata": {},
   "outputs": [],
   "source": [
    "# NIE PISZ TUTAJ"
   ]
  },
  {
   "cell_type": "markdown",
   "metadata": {},
   "source": [
    "### 10. Znajdź iloczyn macierzowy tensorów x i y\n"
   ]
  },
  {
   "cell_type": "code",
   "execution_count": 38,
   "metadata": {},
   "outputs": [
    {
     "data": {
      "text/plain": [
       "tensor([[18, 12],\n",
       "        [12,  0]], dtype=torch.int32)"
      ]
     },
     "execution_count": 38,
     "metadata": {},
     "output_type": "execute_result"
    }
   ],
   "source": [
    "# KOD TUTAJ\n",
    "x.T @ y\n"
   ]
  },
  {
   "cell_type": "code",
   "execution_count": 10,
   "metadata": {},
   "outputs": [
    {
     "name": "stdout",
     "output_type": "stream",
     "text": [
      "tensor([[22, 10,  3],\n",
      "        [20,  8,  2],\n",
      "        [12,  9,  4]])\n"
     ]
    }
   ],
   "source": [
    "# NIE PISZ TUTAJ"
   ]
  },
  {
   "cell_type": "markdown",
   "metadata": {},
   "source": [
    "## Świetna robota!\n"
   ]
  }
 ],
 "metadata": {
  "kernelspec": {
   "display_name": "Python 3 (ipykernel)",
   "language": "python",
   "name": "python3"
  },
  "language_info": {
   "codemirror_mode": {
    "name": "ipython",
    "version": 3
   },
   "file_extension": ".py",
   "mimetype": "text/x-python",
   "name": "python",
   "nbconvert_exporter": "python",
   "pygments_lexer": "ipython3",
   "version": "3.12.9"
  }
 },
 "nbformat": 4,
 "nbformat_minor": 4
}
