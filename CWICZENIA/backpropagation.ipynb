{
 "cells": [
  {
   "cell_type": "markdown",
   "id": "c03ab08d70136deb",
   "metadata": {},
   "source": [
    "## Ćwiczenia\n",
    "\n",
    "### 1. Dla funkcji z rozdz. $ z = (x·w + b)^2$, napisz pętlę GD, która uczy $w, b$ aby zbliżyć z do $z^*$ (np. $z^*=4$) dla danego $x$.\n"
   ]
  },
  {
   "cell_type": "markdown",
   "id": "ed6406bc-cef3-4374-9be0-e6c31aef5d0c",
   "metadata": {},
   "source": [
    "## Rozwiązania\n",
    "\n",
    "### Ćwiczenie 1\n",
    "\n",
    "Dla funkcji\n",
    "\n",
    "$$ z = (x \\cdot w + b)^2 $$\n",
    "\n",
    "napisz pętlę **Gradient Descent**, która uczy $w, b$ aby $z$ zbliżyło się do wartości docelowej $z^*$ (np. $z^*=4$) dla danego $x$.\n",
    "\n",
    "---\n",
    "\n",
    "#### Funkcja i cel\n",
    "\n",
    "* Dane wejściowe: $x$ (stała, np. 2.0)\n",
    "* Parametry: $w, b$ (uczymy je)\n",
    "* Wyjście: $z = (xw + b)^2$\n",
    "* Target: $z^* = 4$\n",
    "* Loss:\n",
    "  \n",
    "$$\n",
    "L = (z - z^*)^2\n",
    "$$\n",
    "\n",
    "\n",
    "#### Gradient\n",
    "\n",
    "Najpierw liczmy pochodne analitycznie:\n",
    "\n",
    "$$u = xw + b$$\n",
    "\n",
    "$$z = u^2$$\n",
    "\n",
    "$$L = (z - z^*)^2$$\n",
    "\n",
    "Gradienty:\n",
    "\n",
    "$$\\frac{\\partial L}{\\partial z} = 2(z - z^*)$$\n",
    "$$\\frac{\\partial z}{\\partial u} = 2u$$\n",
    "$$\\frac{\\partial u}{\\partial w} = x, \\quad \\frac{\\partial u}{\\partial b} = 1$$\n",
    "\n",
    "Łańcuchowo:\n",
    "\n",
    "$$\\frac{\\partial L}{\\partial w} = 2(z - z^*) \\cdot 2u \\cdot x$$\n",
    "$$\\frac{\\partial L}{\\partial b} = 2(z - z^*) \\cdot 2u \\cdot 1$$\n",
    "\n",
    "---\n",
    "\n",
    "#### Kod w Pythonie"
   ]
  },
  {
   "cell_type": "markdown",
   "id": "f7524750-f0e6-4125-ab63-c7d3704021db",
   "metadata": {},
   "source": [
    "\n",
    "Model uczy się tak, że $z$ zbliża się do wartości docelowej $z^*=4$.\n"
   ]
  },
  {
   "cell_type": "code",
   "execution_count": null,
   "id": "74ef3747-62de-4128-8658-5d9bb932a9fb",
   "metadata": {},
   "outputs": [],
   "source": []
  },
  {
   "cell_type": "code",
   "execution_count": null,
   "id": "50d9dfd6-af52-44cd-9405-6696324ce332",
   "metadata": {},
   "outputs": [],
   "source": []
  },
  {
   "cell_type": "code",
   "execution_count": null,
   "id": "7c79439e-780d-41d3-a84c-9d3a7663f4cf",
   "metadata": {},
   "outputs": [],
   "source": []
  },
  {
   "cell_type": "code",
   "execution_count": null,
   "id": "3484b457-715a-4b56-bf5d-e959b11bc093",
   "metadata": {},
   "outputs": [],
   "source": []
  },
  {
   "cell_type": "code",
   "execution_count": null,
   "id": "e74ca02d-45d7-4ff9-b326-e2b43030c3d0",
   "metadata": {},
   "outputs": [],
   "source": []
  }
 ],
 "metadata": {
  "kernelspec": {
   "display_name": "Python 3 (ipykernel)",
   "language": "python",
   "name": "python3"
  },
  "language_info": {
   "codemirror_mode": {
    "name": "ipython",
    "version": 3
   },
   "file_extension": ".py",
   "mimetype": "text/x-python",
   "name": "python",
   "nbconvert_exporter": "python",
   "pygments_lexer": "ipython3",
   "version": "3.12.9"
  }
 },
 "nbformat": 4,
 "nbformat_minor": 5
}
